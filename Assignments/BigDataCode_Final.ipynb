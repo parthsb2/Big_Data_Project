{
 "cells": [
  {
   "cell_type": "markdown",
   "metadata": {},
   "source": [
    "## Group 8 Assignment"
   ]
  },
  {
   "cell_type": "code",
   "execution_count": 1,
   "metadata": {},
   "outputs": [],
   "source": [
    "#Importing Required Libraries\n",
    "import numpy as np \n",
    "import pandas as pd\n",
    "#from pandas_datareader import data\n",
    "from sklearn import linear_model\n",
    "from matplotlib import pyplot\n",
    "from statsmodels.tsa.arima_model import ARIMA\n",
    "from sklearn.metrics import mean_squared_error, mean_absolute_error\n",
    "import matplotlib.pyplot as plt\n",
    "%matplotlib inline\n",
    "plt.rcParams[\"figure.figsize\"]=(20, 10)\n",
    "from tqdm.notebook import tqdm\n",
    "import statsmodels.api as sm\n",
    "from sklearn.model_selection import train_test_split\n",
    "from sklearn.linear_model import Lasso\n",
    "from sklearn.model_selection import GridSearchCV\n",
    "from sklearn.linear_model import LassoCV"
   ]
  },
  {
   "cell_type": "code",
   "execution_count": 2,
   "metadata": {
    "tags": []
   },
   "outputs": [],
   "source": [
    "#Importing Existing Data\n",
    "flows = pd.read_excel(\"Flows_Clean.xlsx\")\n",
    "returns = pd.read_excel(\"Returns_Clean.xlsx\")\n",
    "tickers = pd.read_excel(\"PERMNO_Tickers.xlsx\")\n",
    "permno = returns.columns.tolist()[1:]"
   ]
  },
  {
   "cell_type": "code",
   "execution_count": 3,
   "metadata": {},
   "outputs": [],
   "source": [
    "#Combining Flows & Returns Data by PERMNO & Date\n",
    "\n",
    "flows_done = pd.DataFrame(columns=[\"Dates\", \"PERMNO\", \"Flow\"])\n",
    "returns_done = pd.DataFrame(columns=[\"Dates\", \"PERMNO\", \"Return\"])\n",
    "\n",
    "\n",
    "for i in permno:\n",
    "    flows_1 = pd.DataFrame(columns=[\"Dates\", \"PERMNO\", \"Flow\"])\n",
    "    flows_1[\"Dates\"]=flows[\"Dates\"]\n",
    "    flows_1[\"PERMNO\"]=i\n",
    "    flows_1[\"Flow\"]=flows[i]\n",
    "    flows_done=pd.concat([flows_done, flows_1])\n",
    "\n",
    "    returns_1 = pd.DataFrame(columns=[\"Dates\", \"PERMNO\", \"Return\"])\n",
    "    returns_1[\"Dates\"]=returns[\"Dates\"]\n",
    "    returns_1[\"PERMNO\"]=i\n",
    "    returns_1[\"Return\"]=returns[i]\n",
    "    returns_done=pd.concat([returns_done, returns_1])\n",
    "\n",
    "merged_data=pd.merge(returns_done, flows_done, on=[\"Dates\", \"PERMNO\"])\n"
   ]
  },
  {
   "cell_type": "code",
   "execution_count": 4,
   "metadata": {},
   "outputs": [
    {
     "data": {
      "text/html": [
       "<div>\n",
       "<style scoped>\n",
       "    .dataframe tbody tr th:only-of-type {\n",
       "        vertical-align: middle;\n",
       "    }\n",
       "\n",
       "    .dataframe tbody tr th {\n",
       "        vertical-align: top;\n",
       "    }\n",
       "\n",
       "    .dataframe thead th {\n",
       "        text-align: right;\n",
       "    }\n",
       "</style>\n",
       "<table border=\"1\" class=\"dataframe\">\n",
       "  <thead>\n",
       "    <tr style=\"text-align: right;\">\n",
       "      <th></th>\n",
       "      <th>Dates</th>\n",
       "      <th>PERMNO</th>\n",
       "      <th>Return</th>\n",
       "      <th>Flow</th>\n",
       "    </tr>\n",
       "  </thead>\n",
       "  <tbody>\n",
       "    <tr>\n",
       "      <th>0</th>\n",
       "      <td>19930401</td>\n",
       "      <td>55976</td>\n",
       "      <td>-0.019685</td>\n",
       "      <td>-4.696503</td>\n",
       "    </tr>\n",
       "    <tr>\n",
       "      <th>1</th>\n",
       "      <td>19930402</td>\n",
       "      <td>55976</td>\n",
       "      <td>-0.020080</td>\n",
       "      <td>-6.975709</td>\n",
       "    </tr>\n",
       "    <tr>\n",
       "      <th>2</th>\n",
       "      <td>19930405</td>\n",
       "      <td>55976</td>\n",
       "      <td>-0.024590</td>\n",
       "      <td>-5.642141</td>\n",
       "    </tr>\n",
       "    <tr>\n",
       "      <th>3</th>\n",
       "      <td>19930406</td>\n",
       "      <td>55976</td>\n",
       "      <td>-0.067227</td>\n",
       "      <td>-6.975709</td>\n",
       "    </tr>\n",
       "    <tr>\n",
       "      <th>4</th>\n",
       "      <td>19930407</td>\n",
       "      <td>55976</td>\n",
       "      <td>0.000000</td>\n",
       "      <td>-6.975709</td>\n",
       "    </tr>\n",
       "    <tr>\n",
       "      <th>...</th>\n",
       "      <td>...</td>\n",
       "      <td>...</td>\n",
       "      <td>...</td>\n",
       "      <td>...</td>\n",
       "    </tr>\n",
       "    <tr>\n",
       "      <th>195795</th>\n",
       "      <td>20001222</td>\n",
       "      <td>48725</td>\n",
       "      <td>0.026415</td>\n",
       "      <td>5.934239</td>\n",
       "    </tr>\n",
       "    <tr>\n",
       "      <th>195796</th>\n",
       "      <td>20001226</td>\n",
       "      <td>48725</td>\n",
       "      <td>0.003676</td>\n",
       "      <td>-1.281796</td>\n",
       "    </tr>\n",
       "    <tr>\n",
       "      <th>195797</th>\n",
       "      <td>20001227</td>\n",
       "      <td>48725</td>\n",
       "      <td>0.028083</td>\n",
       "      <td>3.428868</td>\n",
       "    </tr>\n",
       "    <tr>\n",
       "      <th>195798</th>\n",
       "      <td>20001228</td>\n",
       "      <td>48725</td>\n",
       "      <td>-0.040380</td>\n",
       "      <td>-11.641011</td>\n",
       "    </tr>\n",
       "    <tr>\n",
       "      <th>195799</th>\n",
       "      <td>20001229</td>\n",
       "      <td>48725</td>\n",
       "      <td>0.004950</td>\n",
       "      <td>6.568967</td>\n",
       "    </tr>\n",
       "  </tbody>\n",
       "</table>\n",
       "<p>195800 rows × 4 columns</p>\n",
       "</div>"
      ],
      "text/plain": [
       "           Dates PERMNO    Return       Flow\n",
       "0       19930401  55976 -0.019685  -4.696503\n",
       "1       19930402  55976 -0.020080  -6.975709\n",
       "2       19930405  55976 -0.024590  -5.642141\n",
       "3       19930406  55976 -0.067227  -6.975709\n",
       "4       19930407  55976  0.000000  -6.975709\n",
       "...          ...    ...       ...        ...\n",
       "195795  20001222  48725  0.026415   5.934239\n",
       "195796  20001226  48725  0.003676  -1.281796\n",
       "195797  20001227  48725  0.028083   3.428868\n",
       "195798  20001228  48725 -0.040380 -11.641011\n",
       "195799  20001229  48725  0.004950   6.568967\n",
       "\n",
       "[195800 rows x 4 columns]"
      ]
     },
     "execution_count": 4,
     "metadata": {},
     "output_type": "execute_result"
    }
   ],
   "source": [
    "merged_data"
   ]
  },
  {
   "cell_type": "code",
   "execution_count": 5,
   "metadata": {},
   "outputs": [
    {
     "data": {
      "text/html": [
       "<div>\n",
       "<style scoped>\n",
       "    .dataframe tbody tr th:only-of-type {\n",
       "        vertical-align: middle;\n",
       "    }\n",
       "\n",
       "    .dataframe tbody tr th {\n",
       "        vertical-align: top;\n",
       "    }\n",
       "\n",
       "    .dataframe thead th {\n",
       "        text-align: right;\n",
       "    }\n",
       "</style>\n",
       "<table border=\"1\" class=\"dataframe\">\n",
       "  <thead>\n",
       "    <tr style=\"text-align: right;\">\n",
       "      <th></th>\n",
       "      <th>Dates</th>\n",
       "      <th>PERMNO</th>\n",
       "      <th>Return</th>\n",
       "      <th>Flow</th>\n",
       "      <th>Return_1</th>\n",
       "      <th>Return_2</th>\n",
       "      <th>Return_3</th>\n",
       "      <th>Flow_1</th>\n",
       "      <th>Flow_2</th>\n",
       "      <th>Flow_3</th>\n",
       "    </tr>\n",
       "  </thead>\n",
       "  <tbody>\n",
       "    <tr>\n",
       "      <th>0</th>\n",
       "      <td>19930406</td>\n",
       "      <td>55976</td>\n",
       "      <td>-0.067227</td>\n",
       "      <td>-6.975709</td>\n",
       "      <td>-0.024590</td>\n",
       "      <td>-0.020080</td>\n",
       "      <td>-0.019685</td>\n",
       "      <td>-5.642141</td>\n",
       "      <td>-6.975709</td>\n",
       "      <td>-4.696503</td>\n",
       "    </tr>\n",
       "    <tr>\n",
       "      <th>1</th>\n",
       "      <td>19930407</td>\n",
       "      <td>55976</td>\n",
       "      <td>0.000000</td>\n",
       "      <td>-6.975709</td>\n",
       "      <td>-0.067227</td>\n",
       "      <td>-0.024590</td>\n",
       "      <td>-0.020080</td>\n",
       "      <td>-6.975709</td>\n",
       "      <td>-5.642141</td>\n",
       "      <td>-6.975709</td>\n",
       "    </tr>\n",
       "    <tr>\n",
       "      <th>2</th>\n",
       "      <td>19930408</td>\n",
       "      <td>55976</td>\n",
       "      <td>0.040541</td>\n",
       "      <td>-6.975709</td>\n",
       "      <td>0.000000</td>\n",
       "      <td>-0.067227</td>\n",
       "      <td>-0.024590</td>\n",
       "      <td>-6.975709</td>\n",
       "      <td>-6.975709</td>\n",
       "      <td>-5.642141</td>\n",
       "    </tr>\n",
       "    <tr>\n",
       "      <th>3</th>\n",
       "      <td>19930412</td>\n",
       "      <td>55976</td>\n",
       "      <td>0.038961</td>\n",
       "      <td>-3.351631</td>\n",
       "      <td>0.040541</td>\n",
       "      <td>0.000000</td>\n",
       "      <td>-0.067227</td>\n",
       "      <td>-6.975709</td>\n",
       "      <td>-6.975709</td>\n",
       "      <td>-6.975709</td>\n",
       "    </tr>\n",
       "    <tr>\n",
       "      <th>4</th>\n",
       "      <td>19930413</td>\n",
       "      <td>55976</td>\n",
       "      <td>-0.033333</td>\n",
       "      <td>-2.878666</td>\n",
       "      <td>0.038961</td>\n",
       "      <td>0.040541</td>\n",
       "      <td>0.000000</td>\n",
       "      <td>-3.351631</td>\n",
       "      <td>-6.975709</td>\n",
       "      <td>-6.975709</td>\n",
       "    </tr>\n",
       "    <tr>\n",
       "      <th>5</th>\n",
       "      <td>19930414</td>\n",
       "      <td>55976</td>\n",
       "      <td>-0.060345</td>\n",
       "      <td>-6.975709</td>\n",
       "      <td>-0.033333</td>\n",
       "      <td>0.038961</td>\n",
       "      <td>0.040541</td>\n",
       "      <td>-2.878666</td>\n",
       "      <td>-3.351631</td>\n",
       "      <td>-6.975709</td>\n",
       "    </tr>\n",
       "    <tr>\n",
       "      <th>6</th>\n",
       "      <td>19930415</td>\n",
       "      <td>55976</td>\n",
       "      <td>0.013761</td>\n",
       "      <td>-6.975709</td>\n",
       "      <td>-0.060345</td>\n",
       "      <td>-0.033333</td>\n",
       "      <td>0.038961</td>\n",
       "      <td>-6.975709</td>\n",
       "      <td>-2.878666</td>\n",
       "      <td>-3.351631</td>\n",
       "    </tr>\n",
       "    <tr>\n",
       "      <th>7</th>\n",
       "      <td>19930416</td>\n",
       "      <td>55976</td>\n",
       "      <td>-0.036199</td>\n",
       "      <td>-5.351909</td>\n",
       "      <td>0.013761</td>\n",
       "      <td>-0.060345</td>\n",
       "      <td>-0.033333</td>\n",
       "      <td>-6.975709</td>\n",
       "      <td>-6.975709</td>\n",
       "      <td>-2.878666</td>\n",
       "    </tr>\n",
       "    <tr>\n",
       "      <th>8</th>\n",
       "      <td>19930419</td>\n",
       "      <td>55976</td>\n",
       "      <td>0.004695</td>\n",
       "      <td>-2.729153</td>\n",
       "      <td>-0.036199</td>\n",
       "      <td>0.013761</td>\n",
       "      <td>-0.060345</td>\n",
       "      <td>-5.351909</td>\n",
       "      <td>-6.975709</td>\n",
       "      <td>-6.975709</td>\n",
       "    </tr>\n",
       "    <tr>\n",
       "      <th>9</th>\n",
       "      <td>19930420</td>\n",
       "      <td>55976</td>\n",
       "      <td>-0.014019</td>\n",
       "      <td>-4.112889</td>\n",
       "      <td>0.004695</td>\n",
       "      <td>-0.036199</td>\n",
       "      <td>0.013761</td>\n",
       "      <td>-2.729153</td>\n",
       "      <td>-5.351909</td>\n",
       "      <td>-6.975709</td>\n",
       "    </tr>\n",
       "  </tbody>\n",
       "</table>\n",
       "</div>"
      ],
      "text/plain": [
       "      Dates PERMNO    Return      Flow  Return_1  Return_2  Return_3  \\\n",
       "0  19930406  55976 -0.067227 -6.975709 -0.024590 -0.020080 -0.019685   \n",
       "1  19930407  55976  0.000000 -6.975709 -0.067227 -0.024590 -0.020080   \n",
       "2  19930408  55976  0.040541 -6.975709  0.000000 -0.067227 -0.024590   \n",
       "3  19930412  55976  0.038961 -3.351631  0.040541  0.000000 -0.067227   \n",
       "4  19930413  55976 -0.033333 -2.878666  0.038961  0.040541  0.000000   \n",
       "5  19930414  55976 -0.060345 -6.975709 -0.033333  0.038961  0.040541   \n",
       "6  19930415  55976  0.013761 -6.975709 -0.060345 -0.033333  0.038961   \n",
       "7  19930416  55976 -0.036199 -5.351909  0.013761 -0.060345 -0.033333   \n",
       "8  19930419  55976  0.004695 -2.729153 -0.036199  0.013761 -0.060345   \n",
       "9  19930420  55976 -0.014019 -4.112889  0.004695 -0.036199  0.013761   \n",
       "\n",
       "     Flow_1    Flow_2    Flow_3  \n",
       "0 -5.642141 -6.975709 -4.696503  \n",
       "1 -6.975709 -5.642141 -6.975709  \n",
       "2 -6.975709 -6.975709 -5.642141  \n",
       "3 -6.975709 -6.975709 -6.975709  \n",
       "4 -3.351631 -6.975709 -6.975709  \n",
       "5 -2.878666 -3.351631 -6.975709  \n",
       "6 -6.975709 -2.878666 -3.351631  \n",
       "7 -6.975709 -6.975709 -2.878666  \n",
       "8 -5.351909 -6.975709 -6.975709  \n",
       "9 -2.729153 -5.351909 -6.975709  "
      ]
     },
     "execution_count": 5,
     "metadata": {},
     "output_type": "execute_result"
    }
   ],
   "source": [
    "#Getting Laggs of Returns & Flows\n",
    "no_of_lags = 3\n",
    "merged_data_copy = merged_data.copy()\n",
    "\n",
    "for lag in range(1, no_of_lags + 1):\n",
    "    #Lagging Returns\n",
    "    merged_data_copy[\"Return_\" + str(lag)] = merged_data.groupby([\"PERMNO\"])[\"Return\"].shift(lag)\n",
    "    #Lagging Flows\n",
    "    merged_data[\"Flow_\" + str(lag)] = merged_data.groupby([\"PERMNO\"])[\"Flow\"].shift(lag)\n",
    "\n",
    "#Dropping NA's\n",
    "merged_data_copy.dropna(subset = [\"Return_1\", \"Return_2\", \"Return_3\"], inplace = True)\n",
    "merged_data.dropna(subset = [\"Flow_1\", \"Flow_2\", \"Flow_3\"], inplace = True)\n",
    "\n",
    "#Merging to Create New DataFrame\n",
    "final_data = pd.merge(merged_data_copy, merged_data, on=[\"Dates\", \"PERMNO\", \"Return\", \"Flow\"])\n",
    "final_data.head(10)"
   ]
  },
  {
   "cell_type": "code",
   "execution_count": 6,
   "metadata": {
    "tags": []
   },
   "outputs": [
    {
     "name": "stdout",
     "output_type": "stream",
     "text": [
      "         Dates PERMNO    Return      Flow  Return_1  Return_2  Return_3  \\\n",
      "0     19930406  55976 -0.067227 -6.975709 -0.024590 -0.020080 -0.019685   \n",
      "1     19930407  55976  0.000000 -6.975709 -0.067227 -0.024590 -0.020080   \n",
      "2     19930408  55976  0.040541 -6.975709  0.000000 -0.067227 -0.024590   \n",
      "3     19930412  55976  0.038961 -3.351631  0.040541  0.000000 -0.067227   \n",
      "4     19930413  55976 -0.033333 -2.878666  0.038961  0.040541  0.000000   \n",
      "...        ...    ...       ...       ...       ...       ...       ...   \n",
      "1950  20001222  55976  0.014493  3.519515  0.057471  0.020781 -0.050680   \n",
      "1951  20001226  55976 -0.035714  0.278894  0.014493  0.057471  0.020781   \n",
      "1952  20001227  55976  0.038272  3.668618 -0.035714  0.014493  0.057471   \n",
      "1953  20001228  55976  0.007134  0.794352  0.038272 -0.035714  0.014493   \n",
      "1954  20001229  55976  0.003542  0.654678  0.007134  0.038272 -0.035714   \n",
      "\n",
      "        Flow_1    Flow_2    Flow_3  \n",
      "0    -5.642141 -6.975709 -4.696503  \n",
      "1    -6.975709 -5.642141 -6.975709  \n",
      "2    -6.975709 -6.975709 -5.642141  \n",
      "3    -6.975709 -6.975709 -6.975709  \n",
      "4    -3.351631 -6.975709 -6.975709  \n",
      "...        ...       ...       ...  \n",
      "1950  3.100924  2.088885  1.559735  \n",
      "1951  3.519515  3.100924  2.088885  \n",
      "1952  0.278894  3.519515  3.100924  \n",
      "1953  3.668618  0.278894  3.519515  \n",
      "1954  0.794352  3.668618  0.278894  \n",
      "\n",
      "[1955 rows x 10 columns]\n"
     ]
    }
   ],
   "source": [
    "#Splitting Data by PERMNO (i.e By Stock)\n",
    "indv_stocks_data = {} #Dictionary Containing Data {permo:data}\n",
    "for p in permno:\n",
    "    data = final_data.loc[final_data[\"PERMNO\"] == p]\n",
    "    indv_stocks_data[p] = data.dropna()\n",
    "print(indv_stocks_data[55976])"
   ]
  },
  {
   "cell_type": "markdown",
   "metadata": {},
   "source": [
    "## OLS Regression - Out-of-Sample R^2 and RMSE for all 100 stocks"
   ]
  },
  {
   "cell_type": "code",
   "execution_count": 7,
   "metadata": {},
   "outputs": [],
   "source": [
    "# Creating function to run Rolling-window OLS regressions\n",
    "import statistics\n",
    "def Rolling_Window_OLS(size, x_train, y_train):\n",
    "    time = size\n",
    "    y_preds_ols = []\n",
    "    y_trues = []\n",
    "    errors_ols = []\n",
    "    y_preds_hm = []\n",
    "    errors_hm = []\n",
    "    for i in range(len(x_train)-size-1):\n",
    "        ols_model = sm.OLS(y_train[time-size:time], x_train[time-size:time]).fit()\n",
    "        y_predict_hm = y_train[time-size:time].mean()\n",
    "        \n",
    "        time += 1\n",
    "        \n",
    "        y_predict_ols = ols_model.predict(x_train[time])[0]\n",
    "        \n",
    "        y_true = y_train[time]\n",
    "        error_ols = (y_true - y_predict_ols)**2\n",
    "        error_hm = (y_true - y_predict_hm)**2\n",
    "        \n",
    "        y_preds_ols.append(y_predict_ols)\n",
    "        y_preds_hm.append(y_predict_hm)\n",
    "        y_trues.append(y_true)\n",
    "        errors_ols.append(error_ols)\n",
    "        errors_hm.append(error_hm)\n",
    "        \n",
    "        MSE_ols = statistics.mean(errors_ols)\n",
    "        MSE_hm = statistics.mean(errors_hm)\n",
    "        RMSE = (MSE_hm**0.5) - (MSE_ols**0.5)\n",
    "        \n",
    "    results = pd.DataFrame({\"True Return\":y_trues, \"OLS Prediction\":y_preds_ols, \n",
    "                            \"Historical Mean Return\":y_preds_hm, \"Forecast Error (OLS)\":errors_ols, \n",
    "                            \"Forecast Error (Historical Mean)\":errors_hm})\n",
    "    return RMSE"
   ]
  },
  {
   "cell_type": "code",
   "execution_count": 8,
   "metadata": {},
   "outputs": [
    {
     "data": {
      "application/vnd.jupyter.widget-view+json": {
       "model_id": "c8419950461a47049e7d44b24eb15932",
       "version_major": 2,
       "version_minor": 0
      },
      "text/plain": [
       "HBox(children=(HTML(value=''), FloatProgress(value=0.0), HTML(value='')))"
      ]
     },
     "metadata": {},
     "output_type": "display_data"
    },
    {
     "name": "stdout",
     "output_type": "stream",
     "text": [
      "\n"
     ]
    },
    {
     "data": {
      "text/plain": [
       "[-0.00048484137046778467,\n",
       " -0.0003944108636050325,\n",
       " -0.00038155520922434835,\n",
       " -0.00025667443086522385,\n",
       " 4.3431923676305606e-05,\n",
       " -0.0005064528940290566,\n",
       " -0.0002722421982381557,\n",
       " -0.0013699875481813055,\n",
       " -0.0002176093471390715,\n",
       " -0.000786766150886832,\n",
       " -0.0002560084426872257,\n",
       " -0.0003731807331352789,\n",
       " -0.0010525999693412127,\n",
       " -0.00014415797881240158,\n",
       " -0.0006966926434901904,\n",
       " 0.017188761766239444,\n",
       " -0.00018476074497315517,\n",
       " -0.00024528234292997553,\n",
       " -0.0005272926296287783,\n",
       " -0.0003444225848848251,\n",
       " -0.00023506952558631847,\n",
       " -0.00035596119626674083,\n",
       " -0.0004426812535045267,\n",
       " -0.0004199065459388439,\n",
       " -0.0002747352579494551,\n",
       " -0.00036661207924847117,\n",
       " -0.0005838208780953938,\n",
       " -0.00026170334846413804,\n",
       " -0.0003589194862837,\n",
       " -0.00012481283829451906,\n",
       " -0.00019150230182273312,\n",
       " -0.0009212485909216445,\n",
       " -0.00028020682249319667,\n",
       " -0.0005859228109644163,\n",
       " -0.00018868934261302012,\n",
       " -6.841274080734983e-05,\n",
       " -0.00024510920674430253,\n",
       " -0.0008874616252282849,\n",
       " -0.00016020128151258278,\n",
       " -0.00027014747163185693,\n",
       " -0.00027774098569548385,\n",
       " -0.00021004267304259444,\n",
       " -0.0005354878940851508,\n",
       " -0.0005446135763337821,\n",
       " -0.0005026072670014925,\n",
       " -0.0002897636666256559,\n",
       " -0.0002441380827976243,\n",
       " -4.2471628247026105e-05,\n",
       " -0.0005673951631860845,\n",
       " -0.00019070553792133356,\n",
       " -0.00026560779607144244,\n",
       " -0.0003928847743837234,\n",
       " -0.00025312478349504355,\n",
       " -0.00020769987636141615,\n",
       " -0.00028520341946176517,\n",
       " -0.0005813675689213885,\n",
       " -0.00022965692503012537,\n",
       " -0.000373585313419373,\n",
       " -0.00034794407274742895,\n",
       " -0.00048226926492467986,\n",
       " -0.0002641275215373093,\n",
       " -0.0007720165726811598,\n",
       " -0.00013029316548759245,\n",
       " -0.0008211681240065261,\n",
       " -0.0004420945785614215,\n",
       " -0.00015439055952899683,\n",
       " -0.00022637497644692472,\n",
       " -0.0013658615355856274,\n",
       " -0.0002878894739823355,\n",
       " -0.0003641132037020267,\n",
       " -0.000260733454122343,\n",
       " -0.0006497307282615356,\n",
       " 0.0003841303826272874,\n",
       " -0.0001874933409314137,\n",
       " -0.00030820960897534264,\n",
       " -0.00029406264599895343,\n",
       " -0.0006692245330387897,\n",
       " -0.0002518798079131669,\n",
       " -0.0004400787747738735,\n",
       " -0.00014730359909549857,\n",
       " -0.0002593161828183567,\n",
       " -0.0007001211435807841,\n",
       " -0.00042783613799601133,\n",
       " -0.00030630868480461745,\n",
       " -0.0005511378861152751,\n",
       " -0.0004940338072103416,\n",
       " -0.0004952070080243877,\n",
       " -0.0002448520595696377,\n",
       " -0.00044729221736731703,\n",
       " -0.00021069506568305307,\n",
       " -0.00045408471966013747,\n",
       " -0.00020055482486539336,\n",
       " -0.0004063351095287028,\n",
       " -0.0003254550663611064,\n",
       " -0.00020551899648430655,\n",
       " -0.00018113547174360492,\n",
       " -0.0003808409532314212,\n",
       " -0.000796088115462168,\n",
       " -0.00038969946947177425,\n",
       " -0.0003503967528850141]"
      ]
     },
     "execution_count": 8,
     "metadata": {},
     "output_type": "execute_result"
    }
   ],
   "source": [
    "RMSE_ols = []\n",
    "\n",
    "for i in tqdm(permno):\n",
    "    x=indv_stocks_data[i].loc[:,'Return_1':'Flow_3'].values\n",
    "    y=indv_stocks_data[i].loc[:,'Return'].values\n",
    "    x = sm.add_constant(x)\n",
    "    RMSE_ols.append(Rolling_Window_OLS(200, x, y))\n",
    "\n",
    "RMSE_ols"
   ]
  },
  {
   "cell_type": "code",
   "execution_count": 9,
   "metadata": {},
   "outputs": [
    {
     "data": {
      "text/plain": [
       "-0.00020790004761595177"
      ]
     },
     "execution_count": 9,
     "metadata": {},
     "output_type": "execute_result"
    }
   ],
   "source": [
    "statistics.fmean(RMSE_ols)"
   ]
  },
  {
   "cell_type": "code",
   "execution_count": 10,
   "metadata": {},
   "outputs": [
    {
     "data": {
      "image/png": "[encoded data removed]",
      "text/plain": [
       "<Figure size 1440x720 with 1 Axes>"
      ]
     },
     "metadata": {},
     "output_type": "display_data"
    }
   ],
   "source": [
    "plt.style.use('ggplot')\n",
    "plt.scatter(range(1,len(permno)+1), RMSE_ols, color='b')\n",
    "plt.ylim(-0.002, 0.002)\n",
    "plt.ylabel(r'$\\Delta$'+\"RMSE (Historical Mean Return - OLS Model)\")\n",
    "plt.xlabel(\"Stock i\")\n",
    "plt.axhline(y=0, color='r', linestyle='-')\n",
    "plt.show()"
   ]
  },
  {
   "cell_type": "markdown",
   "metadata": {},
   "source": [
    "## LASSO Model"
   ]
  },
  {
   "cell_type": "markdown",
   "metadata": {},
   "source": [
    "### LASSO with single-lagged cross stock returns and flows"
   ]
  },
  {
   "cell_type": "code",
   "execution_count": 11,
   "metadata": {},
   "outputs": [
    {
     "data": {
      "application/vnd.jupyter.widget-view+json": {
       "model_id": "4bb82f14112248eea924e50de95b8d27",
       "version_major": 2,
       "version_minor": 0
      },
      "text/plain": [
       "HBox(children=(HTML(value=''), FloatProgress(value=0.0), HTML(value='')))"
      ]
     },
     "metadata": {},
     "output_type": "display_data"
    },
    {
     "name": "stdout",
     "output_type": "stream",
     "text": [
      "\n"
     ]
    }
   ],
   "source": [
    "### Extend predictor variables to include a stock's cross-stock returns and net flows (1 lag)\n",
    "X_full = {}\n",
    "for i in tqdm(permno):\n",
    "    permno_copy = permno.copy()\n",
    "    permno_copy.remove(i)\n",
    "    data = indv_stocks_data[i].drop(\"PERMNO\", axis=1)\n",
    "    for j in permno_copy:\n",
    "        data = data.merge(indv_stocks_data[j][[\"Dates\", \"Return_1\", \"Flow_1\"]], on='Dates')\n",
    "    X_full[i] = data.dropna()"
   ]
  },
  {
   "cell_type": "code",
   "execution_count": 12,
   "metadata": {},
   "outputs": [],
   "source": [
    "# Creating function to run Rolling-window LASSO regressions\n",
    "import statistics\n",
    "def Rolling_Window_LASSO(size, x, y, alphas):\n",
    "    time = size\n",
    "    y_preds_lasso = []\n",
    "    y_trues = []\n",
    "    errors_lasso = []\n",
    "    y_preds_hm = []\n",
    "    errors_hm = []\n",
    "    for i in tqdm(range(len(x)-size-1)):\n",
    "        lasso_model = LassoCV(cv=5, alphas=alphas, max_iter=10000, n_jobs=-1)\n",
    "        lasso_model.fit(x[time-size:time], y[time-size:time])\n",
    "        y_predict_hm = y[time-size:time].mean()\n",
    "\n",
    "        time += 1\n",
    "        y_predict_lasso = lasso_model.predict(x[time].reshape(1, -1))[0]\n",
    "        \n",
    "        y_true = y[time]\n",
    "        error_lasso = (y_true - y_predict_lasso)**2\n",
    "        error_hm = (y_true - y_predict_hm)**2\n",
    "\n",
    "        y_preds_lasso.append(y_predict_lasso)\n",
    "        y_preds_hm.append(y_predict_hm)\n",
    "        y_trues.append(y_true)\n",
    "        errors_lasso.append(error_lasso)\n",
    "        errors_hm.append(error_hm)\n",
    "\n",
    "    MSE_lasso = statistics.mean(errors_lasso)\n",
    "    MSE_hm = statistics.mean(errors_hm)\n",
    "    RMSE = (MSE_hm**0.5) - (MSE_lasso**0.5)\n",
    "\n",
    "    results = pd.DataFrame({\"True Return\":y_trues, \"Lasso Prediction\":y_preds_lasso, \n",
    "                             \"Historical Mean Return\":y_preds_hm, \"Forecast Error (LASSO)\":errors_lasso, \n",
    "                             \"Forecast Error (Historical Mean)\":errors_hm})\n",
    "    return RMSE"
   ]
  },
  {
   "cell_type": "code",
   "execution_count": 157,
   "metadata": {},
   "outputs": [
    {
     "data": {
      "application/vnd.jupyter.widget-view+json": {
       "model_id": "80a7316233ce43f88b21aff57a5acf42",
       "version_major": 2,
       "version_minor": 0
      },
      "text/plain": [
       "HBox(children=(HTML(value=''), FloatProgress(value=0.0), HTML(value='')))"
      ]
     },
     "metadata": {},
     "output_type": "display_data"
    },
    {
     "data": {
      "application/vnd.jupyter.widget-view+json": {
       "model_id": "9ecb754705c9424f9d2b5c0698e1f3dc",
       "version_major": 2,
       "version_minor": 0
      },
      "text/plain": [
       "HBox(children=(HTML(value=''), FloatProgress(value=0.0, max=1754.0), HTML(value='')))"
      ]
     },
     "metadata": {},
     "output_type": "display_data"
    },
    {
     "name": "stdout",
     "output_type": "stream",
     "text": [
      "\n"
     ]
    },
    {
     "data": {
      "application/vnd.jupyter.widget-view+json": {
       "model_id": "2397a82a46084b61b1518c3d5fcecef4",
       "version_major": 2,
       "version_minor": 0
      },
      "text/plain": [
       "HBox(children=(HTML(value=''), FloatProgress(value=0.0, max=1754.0), HTML(value='')))"
      ]
     },
     "metadata": {},
     "output_type": "display_data"
    },
    {
     "name": "stdout",
     "output_type": "stream",
     "text": [
      "\n"
     ]
    },
    {
     "data": {
      "application/vnd.jupyter.widget-view+json": {
       "model_id": "135c17e8e4374fbaa36685ca3719e1bf",
       "version_major": 2,
       "version_minor": 0
      },
      "text/plain": [
       "HBox(children=(HTML(value=''), FloatProgress(value=0.0, max=1754.0), HTML(value='')))"
      ]
     },
     "metadata": {},
     "output_type": "display_data"
    },
    {
     "name": "stdout",
     "output_type": "stream",
     "text": [
      "\n"
     ]
    },
    {
     "data": {
      "application/vnd.jupyter.widget-view+json": {
       "model_id": "e397049f3cb64d2fa4cc7b206b015f3e",
       "version_major": 2,
       "version_minor": 0
      },
      "text/plain": [
       "HBox(children=(HTML(value=''), FloatProgress(value=0.0, max=1754.0), HTML(value='')))"
      ]
     },
     "metadata": {},
     "output_type": "display_data"
    },
    {
     "name": "stdout",
     "output_type": "stream",
     "text": [
      "\n"
     ]
    },
    {
     "data": {
      "application/vnd.jupyter.widget-view+json": {
       "model_id": "30c8b84d7e614f5bb2628ec9880c2434",
       "version_major": 2,
       "version_minor": 0
      },
      "text/plain": [
       "HBox(children=(HTML(value=''), FloatProgress(value=0.0, max=1754.0), HTML(value='')))"
      ]
     },
     "metadata": {},
     "output_type": "display_data"
    },
    {
     "name": "stdout",
     "output_type": "stream",
     "text": [
      "\n"
     ]
    },
    {
     "data": {
      "application/vnd.jupyter.widget-view+json": {
       "model_id": "1ca03581073549dba9f4f55d2a9e7b8b",
       "version_major": 2,
       "version_minor": 0
      },
      "text/plain": [
       "HBox(children=(HTML(value=''), FloatProgress(value=0.0, max=1754.0), HTML(value='')))"
      ]
     },
     "metadata": {},
     "output_type": "display_data"
    },
    {
     "name": "stdout",
     "output_type": "stream",
     "text": [
      "\n"
     ]
    },
    {
     "data": {
      "application/vnd.jupyter.widget-view+json": {
       "model_id": "039bb01128ad4fadaaa9558f8b0a6219",
       "version_major": 2,
       "version_minor": 0
      },
      "text/plain": [
       "HBox(children=(HTML(value=''), FloatProgress(value=0.0, max=1754.0), HTML(value='')))"
      ]
     },
     "metadata": {},
     "output_type": "display_data"
    },
    {
     "name": "stdout",
     "output_type": "stream",
     "text": [
      "\n"
     ]
    },
    {
     "data": {
      "application/vnd.jupyter.widget-view+json": {
       "model_id": "b006642fd40d44d2a1e72bbe0f8334d5",
       "version_major": 2,
       "version_minor": 0
      },
      "text/plain": [
       "HBox(children=(HTML(value=''), FloatProgress(value=0.0, max=1754.0), HTML(value='')))"
      ]
     },
     "metadata": {},
     "output_type": "display_data"
    },
    {
     "name": "stdout",
     "output_type": "stream",
     "text": [
      "\n"
     ]
    },
    {
     "data": {
      "application/vnd.jupyter.widget-view+json": {
       "model_id": "f354a7de909247649d25211703b31b62",
       "version_major": 2,
       "version_minor": 0
      },
      "text/plain": [
       "HBox(children=(HTML(value=''), FloatProgress(value=0.0, max=1754.0), HTML(value='')))"
      ]
     },
     "metadata": {},
     "output_type": "display_data"
    },
    {
     "name": "stdout",
     "output_type": "stream",
     "text": [
      "\n"
     ]
    },
    {
     "data": {
      "application/vnd.jupyter.widget-view+json": {
       "model_id": "79318fe4d23f4ebc9787a632353e1c23",
       "version_major": 2,
       "version_minor": 0
      },
      "text/plain": [
       "HBox(children=(HTML(value=''), FloatProgress(value=0.0, max=1754.0), HTML(value='')))"
      ]
     },
     "metadata": {},
     "output_type": "display_data"
    },
    {
     "name": "stdout",
     "output_type": "stream",
     "text": [
      "\n"
     ]
    },
    {
     "data": {
      "application/vnd.jupyter.widget-view+json": {
       "model_id": "fc9afd34e6d14f0e9dae5903f082872b",
       "version_major": 2,
       "version_minor": 0
      },
      "text/plain": [
       "HBox(children=(HTML(value=''), FloatProgress(value=0.0, max=1754.0), HTML(value='')))"
      ]
     },
     "metadata": {},
     "output_type": "display_data"
    },
    {
     "name": "stdout",
     "output_type": "stream",
     "text": [
      "\n"
     ]
    },
    {
     "data": {
      "application/vnd.jupyter.widget-view+json": {
       "model_id": "6e28a1a539834201b69cf02cca80ee9a",
       "version_major": 2,
       "version_minor": 0
      },
      "text/plain": [
       "HBox(children=(HTML(value=''), FloatProgress(value=0.0, max=1754.0), HTML(value='')))"
      ]
     },
     "metadata": {},
     "output_type": "display_data"
    },
    {
     "name": "stdout",
     "output_type": "stream",
     "text": [
      "\n"
     ]
    },
    {
     "data": {
      "application/vnd.jupyter.widget-view+json": {
       "model_id": "10465ab576a241d8b207050dc903c36b",
       "version_major": 2,
       "version_minor": 0
      },
      "text/plain": [
       "HBox(children=(HTML(value=''), FloatProgress(value=0.0, max=1754.0), HTML(value='')))"
      ]
     },
     "metadata": {},
     "output_type": "display_data"
    },
    {
     "name": "stdout",
     "output_type": "stream",
     "text": [
      "\n"
     ]
    },
    {
     "data": {
      "application/vnd.jupyter.widget-view+json": {
       "model_id": "ba361d2027d448449bdba0f7cc3d608b",
       "version_major": 2,
       "version_minor": 0
      },
      "text/plain": [
       "HBox(children=(HTML(value=''), FloatProgress(value=0.0, max=1754.0), HTML(value='')))"
      ]
     },
     "metadata": {},
     "output_type": "display_data"
    },
    {
     "name": "stdout",
     "output_type": "stream",
     "text": [
      "\n"
     ]
    },
    {
     "data": {
      "application/vnd.jupyter.widget-view+json": {
       "model_id": "6aa381b67fdb4a579c9221177198f6ea",
       "version_major": 2,
       "version_minor": 0
      },
      "text/plain": [
       "HBox(children=(HTML(value=''), FloatProgress(value=0.0, max=1754.0), HTML(value='')))"
      ]
     },
     "metadata": {},
     "output_type": "display_data"
    },
    {
     "name": "stdout",
     "output_type": "stream",
     "text": [
      "\n"
     ]
    },
    {
     "data": {
      "application/vnd.jupyter.widget-view+json": {
       "model_id": "15a5cc047d8f4981a2ba93dd119f908a",
       "version_major": 2,
       "version_minor": 0
      },
      "text/plain": [
       "HBox(children=(HTML(value=''), FloatProgress(value=0.0, max=1754.0), HTML(value='')))"
      ]
     },
     "metadata": {},
     "output_type": "display_data"
    },
    {
     "name": "stdout",
     "output_type": "stream",
     "text": [
      "\n"
     ]
    },
    {
     "data": {
      "application/vnd.jupyter.widget-view+json": {
       "model_id": "56f1dad931f44905a540c120abca3a2d",
       "version_major": 2,
       "version_minor": 0
      },
      "text/plain": [
       "HBox(children=(HTML(value=''), FloatProgress(value=0.0, max=1754.0), HTML(value='')))"
      ]
     },
     "metadata": {},
     "output_type": "display_data"
    },
    {
     "name": "stdout",
     "output_type": "stream",
     "text": [
      "\n"
     ]
    },
    {
     "data": {
      "application/vnd.jupyter.widget-view+json": {
       "model_id": "4eac12a8eabc4ca6a4dd05f4d1cb8a4d",
       "version_major": 2,
       "version_minor": 0
      },
      "text/plain": [
       "HBox(children=(HTML(value=''), FloatProgress(value=0.0, max=1754.0), HTML(value='')))"
      ]
     },
     "metadata": {},
     "output_type": "display_data"
    },
    {
     "name": "stdout",
     "output_type": "stream",
     "text": [
      "\n"
     ]
    },
    {
     "data": {
      "application/vnd.jupyter.widget-view+json": {
       "model_id": "60441227b418474a8bd28a19db33ce24",
       "version_major": 2,
       "version_minor": 0
      },
      "text/plain": [
       "HBox(children=(HTML(value=''), FloatProgress(value=0.0, max=1754.0), HTML(value='')))"
      ]
     },
     "metadata": {},
     "output_type": "display_data"
    },
    {
     "name": "stdout",
     "output_type": "stream",
     "text": [
      "\n"
     ]
    },
    {
     "data": {
      "application/vnd.jupyter.widget-view+json": {
       "model_id": "548feaa6b4bf4b709e20ae6820866f1d",
       "version_major": 2,
       "version_minor": 0
      },
      "text/plain": [
       "HBox(children=(HTML(value=''), FloatProgress(value=0.0, max=1754.0), HTML(value='')))"
      ]
     },
     "metadata": {},
     "output_type": "display_data"
    },
    {
     "name": "stdout",
     "output_type": "stream",
     "text": [
      "\n"
     ]
    },
    {
     "data": {
      "application/vnd.jupyter.widget-view+json": {
       "model_id": "677248c47f914c8b85c5cdf60c439f97",
       "version_major": 2,
       "version_minor": 0
      },
      "text/plain": [
       "HBox(children=(HTML(value=''), FloatProgress(value=0.0, max=1754.0), HTML(value='')))"
      ]
     },
     "metadata": {},
     "output_type": "display_data"
    },
    {
     "name": "stdout",
     "output_type": "stream",
     "text": [
      "\n"
     ]
    },
    {
     "data": {
      "application/vnd.jupyter.widget-view+json": {
       "model_id": "0e6f566b09e84cfea7ddbda4cc62cc6e",
       "version_major": 2,
       "version_minor": 0
      },
      "text/plain": [
       "HBox(children=(HTML(value=''), FloatProgress(value=0.0, max=1754.0), HTML(value='')))"
      ]
     },
     "metadata": {},
     "output_type": "display_data"
    },
    {
     "name": "stdout",
     "output_type": "stream",
     "text": [
      "\n"
     ]
    },
    {
     "data": {
      "application/vnd.jupyter.widget-view+json": {
       "model_id": "de40f457962b42daa1e9a55108148f90",
       "version_major": 2,
       "version_minor": 0
      },
      "text/plain": [
       "HBox(children=(HTML(value=''), FloatProgress(value=0.0, max=1754.0), HTML(value='')))"
      ]
     },
     "metadata": {},
     "output_type": "display_data"
    },
    {
     "name": "stdout",
     "output_type": "stream",
     "text": [
      "\n"
     ]
    },
    {
     "data": {
      "application/vnd.jupyter.widget-view+json": {
       "model_id": "1159e16672ff4164a9cd72a4615fa876",
       "version_major": 2,
       "version_minor": 0
      },
      "text/plain": [
       "HBox(children=(HTML(value=''), FloatProgress(value=0.0, max=1754.0), HTML(value='')))"
      ]
     },
     "metadata": {},
     "output_type": "display_data"
    },
    {
     "name": "stdout",
     "output_type": "stream",
     "text": [
      "\n"
     ]
    },
    {
     "data": {
      "application/vnd.jupyter.widget-view+json": {
       "model_id": "95dcf726c4a14be39d8e62a0ff9e7e05",
       "version_major": 2,
       "version_minor": 0
      },
      "text/plain": [
       "HBox(children=(HTML(value=''), FloatProgress(value=0.0, max=1754.0), HTML(value='')))"
      ]
     },
     "metadata": {},
     "output_type": "display_data"
    },
    {
     "name": "stdout",
     "output_type": "stream",
     "text": [
      "\n"
     ]
    },
    {
     "data": {
      "application/vnd.jupyter.widget-view+json": {
       "model_id": "665a4b4a2a40499d875c84007019f896",
       "version_major": 2,
       "version_minor": 0
      },
      "text/plain": [
       "HBox(children=(HTML(value=''), FloatProgress(value=0.0, max=1754.0), HTML(value='')))"
      ]
     },
     "metadata": {},
     "output_type": "display_data"
    },
    {
     "name": "stdout",
     "output_type": "stream",
     "text": [
      "\n"
     ]
    },
    {
     "data": {
      "application/vnd.jupyter.widget-view+json": {
       "model_id": "c9a960d6972247ef802918bab0e83431",
       "version_major": 2,
       "version_minor": 0
      },
      "text/plain": [
       "HBox(children=(HTML(value=''), FloatProgress(value=0.0, max=1754.0), HTML(value='')))"
      ]
     },
     "metadata": {},
     "output_type": "display_data"
    },
    {
     "name": "stdout",
     "output_type": "stream",
     "text": [
      "\n"
     ]
    },
    {
     "data": {
      "application/vnd.jupyter.widget-view+json": {
       "model_id": "8e4dce6f8db1490aa2d8c9a601ca9d0a",
       "version_major": 2,
       "version_minor": 0
      },
      "text/plain": [
       "HBox(children=(HTML(value=''), FloatProgress(value=0.0, max=1754.0), HTML(value='')))"
      ]
     },
     "metadata": {},
     "output_type": "display_data"
    },
    {
     "name": "stdout",
     "output_type": "stream",
     "text": [
      "\n"
     ]
    },
    {
     "data": {
      "application/vnd.jupyter.widget-view+json": {
       "model_id": "927c7b626ce24e5f91a115048bc14280",
       "version_major": 2,
       "version_minor": 0
      },
      "text/plain": [
       "HBox(children=(HTML(value=''), FloatProgress(value=0.0, max=1754.0), HTML(value='')))"
      ]
     },
     "metadata": {},
     "output_type": "display_data"
    },
    {
     "name": "stdout",
     "output_type": "stream",
     "text": [
      "\n"
     ]
    },
    {
     "data": {
      "application/vnd.jupyter.widget-view+json": {
       "model_id": "4335287bba7a4e919c16baeac7f70331",
       "version_major": 2,
       "version_minor": 0
      },
      "text/plain": [
       "HBox(children=(HTML(value=''), FloatProgress(value=0.0, max=1754.0), HTML(value='')))"
      ]
     },
     "metadata": {},
     "output_type": "display_data"
    },
    {
     "name": "stdout",
     "output_type": "stream",
     "text": [
      "\n"
     ]
    },
    {
     "data": {
      "application/vnd.jupyter.widget-view+json": {
       "model_id": "467e21f3f1644ca88cb95fd2aa188b87",
       "version_major": 2,
       "version_minor": 0
      },
      "text/plain": [
       "HBox(children=(HTML(value=''), FloatProgress(value=0.0, max=1754.0), HTML(value='')))"
      ]
     },
     "metadata": {},
     "output_type": "display_data"
    },
    {
     "name": "stdout",
     "output_type": "stream",
     "text": [
      "\n"
     ]
    },
    {
     "data": {
      "application/vnd.jupyter.widget-view+json": {
       "model_id": "85f7e27b16d44b1c9beebdf23f728131",
       "version_major": 2,
       "version_minor": 0
      },
      "text/plain": [
       "HBox(children=(HTML(value=''), FloatProgress(value=0.0, max=1754.0), HTML(value='')))"
      ]
     },
     "metadata": {},
     "output_type": "display_data"
    },
    {
     "name": "stdout",
     "output_type": "stream",
     "text": [
      "\n"
     ]
    },
    {
     "data": {
      "application/vnd.jupyter.widget-view+json": {
       "model_id": "0bc78d8c30e14e6480e652f5c7fba036",
       "version_major": 2,
       "version_minor": 0
      },
      "text/plain": [
       "HBox(children=(HTML(value=''), FloatProgress(value=0.0, max=1754.0), HTML(value='')))"
      ]
     },
     "metadata": {},
     "output_type": "display_data"
    },
    {
     "name": "stdout",
     "output_type": "stream",
     "text": [
      "\n"
     ]
    },
    {
     "data": {
      "application/vnd.jupyter.widget-view+json": {
       "model_id": "e3d7aa12d440452486969eb77ee24629",
       "version_major": 2,
       "version_minor": 0
      },
      "text/plain": [
       "HBox(children=(HTML(value=''), FloatProgress(value=0.0, max=1754.0), HTML(value='')))"
      ]
     },
     "metadata": {},
     "output_type": "display_data"
    },
    {
     "name": "stdout",
     "output_type": "stream",
     "text": [
      "\n"
     ]
    },
    {
     "data": {
      "application/vnd.jupyter.widget-view+json": {
       "model_id": "c797d5de10bb4c9d8474de6e63ce10d6",
       "version_major": 2,
       "version_minor": 0
      },
      "text/plain": [
       "HBox(children=(HTML(value=''), FloatProgress(value=0.0, max=1754.0), HTML(value='')))"
      ]
     },
     "metadata": {},
     "output_type": "display_data"
    },
    {
     "name": "stdout",
     "output_type": "stream",
     "text": [
      "\n"
     ]
    },
    {
     "data": {
      "application/vnd.jupyter.widget-view+json": {
       "model_id": "b35821790e9c45949b3d1ef93b6cbb7e",
       "version_major": 2,
       "version_minor": 0
      },
      "text/plain": [
       "HBox(children=(HTML(value=''), FloatProgress(value=0.0, max=1754.0), HTML(value='')))"
      ]
     },
     "metadata": {},
     "output_type": "display_data"
    },
    {
     "name": "stdout",
     "output_type": "stream",
     "text": [
      "\n"
     ]
    },
    {
     "data": {
      "application/vnd.jupyter.widget-view+json": {
       "model_id": "335431e2546b4c809aa03b33b0c9a1fe",
       "version_major": 2,
       "version_minor": 0
      },
      "text/plain": [
       "HBox(children=(HTML(value=''), FloatProgress(value=0.0, max=1754.0), HTML(value='')))"
      ]
     },
     "metadata": {},
     "output_type": "display_data"
    },
    {
     "name": "stdout",
     "output_type": "stream",
     "text": [
      "\n"
     ]
    },
    {
     "data": {
      "application/vnd.jupyter.widget-view+json": {
       "model_id": "7ae80ba7b883424f9fd069f560a23938",
       "version_major": 2,
       "version_minor": 0
      },
      "text/plain": [
       "HBox(children=(HTML(value=''), FloatProgress(value=0.0, max=1754.0), HTML(value='')))"
      ]
     },
     "metadata": {},
     "output_type": "display_data"
    },
    {
     "name": "stdout",
     "output_type": "stream",
     "text": [
      "\n"
     ]
    },
    {
     "data": {
      "application/vnd.jupyter.widget-view+json": {
       "model_id": "7a54c5902aa34722ae1115aacdc4c2dd",
       "version_major": 2,
       "version_minor": 0
      },
      "text/plain": [
       "HBox(children=(HTML(value=''), FloatProgress(value=0.0, max=1754.0), HTML(value='')))"
      ]
     },
     "metadata": {},
     "output_type": "display_data"
    },
    {
     "name": "stdout",
     "output_type": "stream",
     "text": [
      "\n"
     ]
    },
    {
     "data": {
      "application/vnd.jupyter.widget-view+json": {
       "model_id": "c036960961a54f998c26a8d0ab40f685",
       "version_major": 2,
       "version_minor": 0
      },
      "text/plain": [
       "HBox(children=(HTML(value=''), FloatProgress(value=0.0, max=1754.0), HTML(value='')))"
      ]
     },
     "metadata": {},
     "output_type": "display_data"
    },
    {
     "name": "stdout",
     "output_type": "stream",
     "text": [
      "\n"
     ]
    },
    {
     "data": {
      "application/vnd.jupyter.widget-view+json": {
       "model_id": "73087ff499f84ad8bbae69f503dac202",
       "version_major": 2,
       "version_minor": 0
      },
      "text/plain": [
       "HBox(children=(HTML(value=''), FloatProgress(value=0.0, max=1754.0), HTML(value='')))"
      ]
     },
     "metadata": {},
     "output_type": "display_data"
    },
    {
     "name": "stdout",
     "output_type": "stream",
     "text": [
      "\n"
     ]
    },
    {
     "data": {
      "application/vnd.jupyter.widget-view+json": {
       "model_id": "e7a7f7f314514b1d832b4a89e10d611a",
       "version_major": 2,
       "version_minor": 0
      },
      "text/plain": [
       "HBox(children=(HTML(value=''), FloatProgress(value=0.0, max=1754.0), HTML(value='')))"
      ]
     },
     "metadata": {},
     "output_type": "display_data"
    },
    {
     "name": "stdout",
     "output_type": "stream",
     "text": [
      "\n"
     ]
    },
    {
     "data": {
      "application/vnd.jupyter.widget-view+json": {
       "model_id": "d6cc3522a22b4645ae2e20d63f985b27",
       "version_major": 2,
       "version_minor": 0
      },
      "text/plain": [
       "HBox(children=(HTML(value=''), FloatProgress(value=0.0, max=1754.0), HTML(value='')))"
      ]
     },
     "metadata": {},
     "output_type": "display_data"
    },
    {
     "name": "stdout",
     "output_type": "stream",
     "text": [
      "\n"
     ]
    },
    {
     "data": {
      "application/vnd.jupyter.widget-view+json": {
       "model_id": "704ec7867aab4f869451109114b314f7",
       "version_major": 2,
       "version_minor": 0
      },
      "text/plain": [
       "HBox(children=(HTML(value=''), FloatProgress(value=0.0, max=1754.0), HTML(value='')))"
      ]
     },
     "metadata": {},
     "output_type": "display_data"
    },
    {
     "name": "stdout",
     "output_type": "stream",
     "text": [
      "\n"
     ]
    },
    {
     "data": {
      "application/vnd.jupyter.widget-view+json": {
       "model_id": "259ac3a0a3464e73994806f9e949f636",
       "version_major": 2,
       "version_minor": 0
      },
      "text/plain": [
       "HBox(children=(HTML(value=''), FloatProgress(value=0.0, max=1754.0), HTML(value='')))"
      ]
     },
     "metadata": {},
     "output_type": "display_data"
    },
    {
     "name": "stdout",
     "output_type": "stream",
     "text": [
      "\n"
     ]
    },
    {
     "data": {
      "application/vnd.jupyter.widget-view+json": {
       "model_id": "32f09919bcc248af9c1f9a1df4a95224",
       "version_major": 2,
       "version_minor": 0
      },
      "text/plain": [
       "HBox(children=(HTML(value=''), FloatProgress(value=0.0, max=1754.0), HTML(value='')))"
      ]
     },
     "metadata": {},
     "output_type": "display_data"
    },
    {
     "name": "stdout",
     "output_type": "stream",
     "text": [
      "\n"
     ]
    },
    {
     "data": {
      "application/vnd.jupyter.widget-view+json": {
       "model_id": "39c62109de3a460ea1f7c457160a4874",
       "version_major": 2,
       "version_minor": 0
      },
      "text/plain": [
       "HBox(children=(HTML(value=''), FloatProgress(value=0.0, max=1754.0), HTML(value='')))"
      ]
     },
     "metadata": {},
     "output_type": "display_data"
    },
    {
     "name": "stdout",
     "output_type": "stream",
     "text": [
      "\n"
     ]
    },
    {
     "data": {
      "application/vnd.jupyter.widget-view+json": {
       "model_id": "dbccf770c8114f1eb3b3db40651b2519",
       "version_major": 2,
       "version_minor": 0
      },
      "text/plain": [
       "HBox(children=(HTML(value=''), FloatProgress(value=0.0, max=1754.0), HTML(value='')))"
      ]
     },
     "metadata": {},
     "output_type": "display_data"
    },
    {
     "name": "stdout",
     "output_type": "stream",
     "text": [
      "\n"
     ]
    },
    {
     "data": {
      "application/vnd.jupyter.widget-view+json": {
       "model_id": "e7cb46aadcff4a499b51fc0702b683ed",
       "version_major": 2,
       "version_minor": 0
      },
      "text/plain": [
       "HBox(children=(HTML(value=''), FloatProgress(value=0.0, max=1754.0), HTML(value='')))"
      ]
     },
     "metadata": {},
     "output_type": "display_data"
    },
    {
     "name": "stdout",
     "output_type": "stream",
     "text": [
      "\n"
     ]
    },
    {
     "data": {
      "application/vnd.jupyter.widget-view+json": {
       "model_id": "604c5eb458e044cbb26a163d1d1f503d",
       "version_major": 2,
       "version_minor": 0
      },
      "text/plain": [
       "HBox(children=(HTML(value=''), FloatProgress(value=0.0, max=1754.0), HTML(value='')))"
      ]
     },
     "metadata": {},
     "output_type": "display_data"
    },
    {
     "name": "stdout",
     "output_type": "stream",
     "text": [
      "\n"
     ]
    },
    {
     "data": {
      "application/vnd.jupyter.widget-view+json": {
       "model_id": "74cfb717590b429abb1bb200f67670cd",
       "version_major": 2,
       "version_minor": 0
      },
      "text/plain": [
       "HBox(children=(HTML(value=''), FloatProgress(value=0.0, max=1754.0), HTML(value='')))"
      ]
     },
     "metadata": {},
     "output_type": "display_data"
    },
    {
     "name": "stdout",
     "output_type": "stream",
     "text": [
      "\n"
     ]
    },
    {
     "data": {
      "application/vnd.jupyter.widget-view+json": {
       "model_id": "25588c2b509f45fd973e7a19c868c2c1",
       "version_major": 2,
       "version_minor": 0
      },
      "text/plain": [
       "HBox(children=(HTML(value=''), FloatProgress(value=0.0, max=1754.0), HTML(value='')))"
      ]
     },
     "metadata": {},
     "output_type": "display_data"
    },
    {
     "name": "stdout",
     "output_type": "stream",
     "text": [
      "\n"
     ]
    },
    {
     "data": {
      "application/vnd.jupyter.widget-view+json": {
       "model_id": "a2acbfe7188b4c9c8aac3257b0ff215a",
       "version_major": 2,
       "version_minor": 0
      },
      "text/plain": [
       "HBox(children=(HTML(value=''), FloatProgress(value=0.0, max=1754.0), HTML(value='')))"
      ]
     },
     "metadata": {},
     "output_type": "display_data"
    },
    {
     "name": "stdout",
     "output_type": "stream",
     "text": [
      "\n"
     ]
    },
    {
     "data": {
      "application/vnd.jupyter.widget-view+json": {
       "model_id": "47a44ff1610643ba8abe5daeed5f329a",
       "version_major": 2,
       "version_minor": 0
      },
      "text/plain": [
       "HBox(children=(HTML(value=''), FloatProgress(value=0.0, max=1754.0), HTML(value='')))"
      ]
     },
     "metadata": {},
     "output_type": "display_data"
    },
    {
     "name": "stdout",
     "output_type": "stream",
     "text": [
      "\n"
     ]
    },
    {
     "data": {
      "application/vnd.jupyter.widget-view+json": {
       "model_id": "f5862b75aa69435593cf04f50169b11c",
       "version_major": 2,
       "version_minor": 0
      },
      "text/plain": [
       "HBox(children=(HTML(value=''), FloatProgress(value=0.0, max=1754.0), HTML(value='')))"
      ]
     },
     "metadata": {},
     "output_type": "display_data"
    },
    {
     "name": "stdout",
     "output_type": "stream",
     "text": [
      "\n"
     ]
    },
    {
     "data": {
      "application/vnd.jupyter.widget-view+json": {
       "model_id": "4a8e24c7bc464ceeab266f1048ee5121",
       "version_major": 2,
       "version_minor": 0
      },
      "text/plain": [
       "HBox(children=(HTML(value=''), FloatProgress(value=0.0, max=1754.0), HTML(value='')))"
      ]
     },
     "metadata": {},
     "output_type": "display_data"
    },
    {
     "name": "stdout",
     "output_type": "stream",
     "text": [
      "\n"
     ]
    },
    {
     "data": {
      "application/vnd.jupyter.widget-view+json": {
       "model_id": "d9eac0bd676242b5b706f01a466fcdef",
       "version_major": 2,
       "version_minor": 0
      },
      "text/plain": [
       "HBox(children=(HTML(value=''), FloatProgress(value=0.0, max=1754.0), HTML(value='')))"
      ]
     },
     "metadata": {},
     "output_type": "display_data"
    },
    {
     "name": "stdout",
     "output_type": "stream",
     "text": [
      "\n"
     ]
    },
    {
     "data": {
      "application/vnd.jupyter.widget-view+json": {
       "model_id": "b46d0efd46ef4def85c5a36ecf57d163",
       "version_major": 2,
       "version_minor": 0
      },
      "text/plain": [
       "HBox(children=(HTML(value=''), FloatProgress(value=0.0, max=1754.0), HTML(value='')))"
      ]
     },
     "metadata": {},
     "output_type": "display_data"
    },
    {
     "name": "stdout",
     "output_type": "stream",
     "text": [
      "\n"
     ]
    },
    {
     "data": {
      "application/vnd.jupyter.widget-view+json": {
       "model_id": "6ba5e34149de471eb5bd9e62c7953949",
       "version_major": 2,
       "version_minor": 0
      },
      "text/plain": [
       "HBox(children=(HTML(value=''), FloatProgress(value=0.0, max=1754.0), HTML(value='')))"
      ]
     },
     "metadata": {},
     "output_type": "display_data"
    },
    {
     "name": "stdout",
     "output_type": "stream",
     "text": [
      "\n"
     ]
    },
    {
     "data": {
      "application/vnd.jupyter.widget-view+json": {
       "model_id": "b0ff932bc37649b8be3b8b32628512b6",
       "version_major": 2,
       "version_minor": 0
      },
      "text/plain": [
       "HBox(children=(HTML(value=''), FloatProgress(value=0.0, max=1754.0), HTML(value='')))"
      ]
     },
     "metadata": {},
     "output_type": "display_data"
    },
    {
     "name": "stdout",
     "output_type": "stream",
     "text": [
      "\n"
     ]
    },
    {
     "data": {
      "application/vnd.jupyter.widget-view+json": {
       "model_id": "600f746263e947af9260c939bec42d8e",
       "version_major": 2,
       "version_minor": 0
      },
      "text/plain": [
       "HBox(children=(HTML(value=''), FloatProgress(value=0.0, max=1754.0), HTML(value='')))"
      ]
     },
     "metadata": {},
     "output_type": "display_data"
    },
    {
     "name": "stdout",
     "output_type": "stream",
     "text": [
      "\n"
     ]
    },
    {
     "data": {
      "application/vnd.jupyter.widget-view+json": {
       "model_id": "bed5a84dde2f41f9b0a5d91df986c7cf",
       "version_major": 2,
       "version_minor": 0
      },
      "text/plain": [
       "HBox(children=(HTML(value=''), FloatProgress(value=0.0, max=1754.0), HTML(value='')))"
      ]
     },
     "metadata": {},
     "output_type": "display_data"
    },
    {
     "name": "stdout",
     "output_type": "stream",
     "text": [
      "\n"
     ]
    },
    {
     "data": {
      "application/vnd.jupyter.widget-view+json": {
       "model_id": "3d410cac23dc4e0999f6413157462d07",
       "version_major": 2,
       "version_minor": 0
      },
      "text/plain": [
       "HBox(children=(HTML(value=''), FloatProgress(value=0.0, max=1754.0), HTML(value='')))"
      ]
     },
     "metadata": {},
     "output_type": "display_data"
    },
    {
     "name": "stdout",
     "output_type": "stream",
     "text": [
      "\n"
     ]
    },
    {
     "data": {
      "application/vnd.jupyter.widget-view+json": {
       "model_id": "282bed511248446ebecba3aaf5fa2115",
       "version_major": 2,
       "version_minor": 0
      },
      "text/plain": [
       "HBox(children=(HTML(value=''), FloatProgress(value=0.0, max=1754.0), HTML(value='')))"
      ]
     },
     "metadata": {},
     "output_type": "display_data"
    },
    {
     "name": "stdout",
     "output_type": "stream",
     "text": [
      "\n"
     ]
    },
    {
     "data": {
      "application/vnd.jupyter.widget-view+json": {
       "model_id": "9324d3a0999a40b082813021e3790be1",
       "version_major": 2,
       "version_minor": 0
      },
      "text/plain": [
       "HBox(children=(HTML(value=''), FloatProgress(value=0.0, max=1754.0), HTML(value='')))"
      ]
     },
     "metadata": {},
     "output_type": "display_data"
    },
    {
     "name": "stdout",
     "output_type": "stream",
     "text": [
      "\n"
     ]
    },
    {
     "data": {
      "application/vnd.jupyter.widget-view+json": {
       "model_id": "144f3162f3ab48eab88926302fe0c2ec",
       "version_major": 2,
       "version_minor": 0
      },
      "text/plain": [
       "HBox(children=(HTML(value=''), FloatProgress(value=0.0, max=1754.0), HTML(value='')))"
      ]
     },
     "metadata": {},
     "output_type": "display_data"
    },
    {
     "name": "stdout",
     "output_type": "stream",
     "text": [
      "\n"
     ]
    },
    {
     "data": {
      "application/vnd.jupyter.widget-view+json": {
       "model_id": "394c1e3bf04d4c26b7851c787da59c2f",
       "version_major": 2,
       "version_minor": 0
      },
      "text/plain": [
       "HBox(children=(HTML(value=''), FloatProgress(value=0.0, max=1754.0), HTML(value='')))"
      ]
     },
     "metadata": {},
     "output_type": "display_data"
    },
    {
     "name": "stdout",
     "output_type": "stream",
     "text": [
      "\n"
     ]
    },
    {
     "data": {
      "application/vnd.jupyter.widget-view+json": {
       "model_id": "af3e611bc3024928b06e319a6d2e6f30",
       "version_major": 2,
       "version_minor": 0
      },
      "text/plain": [
       "HBox(children=(HTML(value=''), FloatProgress(value=0.0, max=1754.0), HTML(value='')))"
      ]
     },
     "metadata": {},
     "output_type": "display_data"
    },
    {
     "name": "stdout",
     "output_type": "stream",
     "text": [
      "\n"
     ]
    },
    {
     "data": {
      "application/vnd.jupyter.widget-view+json": {
       "model_id": "38af368710a94cf7a594dec68de9eb2f",
       "version_major": 2,
       "version_minor": 0
      },
      "text/plain": [
       "HBox(children=(HTML(value=''), FloatProgress(value=0.0, max=1754.0), HTML(value='')))"
      ]
     },
     "metadata": {},
     "output_type": "display_data"
    },
    {
     "name": "stdout",
     "output_type": "stream",
     "text": [
      "\n"
     ]
    },
    {
     "data": {
      "application/vnd.jupyter.widget-view+json": {
       "model_id": "6f3cf950c29a41a79fcec3bd5f7a63cf",
       "version_major": 2,
       "version_minor": 0
      },
      "text/plain": [
       "HBox(children=(HTML(value=''), FloatProgress(value=0.0, max=1754.0), HTML(value='')))"
      ]
     },
     "metadata": {},
     "output_type": "display_data"
    },
    {
     "name": "stdout",
     "output_type": "stream",
     "text": [
      "\n"
     ]
    },
    {
     "data": {
      "application/vnd.jupyter.widget-view+json": {
       "model_id": "5a113001dd0a41ceb4083f78715e6e10",
       "version_major": 2,
       "version_minor": 0
      },
      "text/plain": [
       "HBox(children=(HTML(value=''), FloatProgress(value=0.0, max=1754.0), HTML(value='')))"
      ]
     },
     "metadata": {},
     "output_type": "display_data"
    },
    {
     "name": "stdout",
     "output_type": "stream",
     "text": [
      "\n"
     ]
    },
    {
     "data": {
      "application/vnd.jupyter.widget-view+json": {
       "model_id": "19cad82bd71646b6b312e081b7821a20",
       "version_major": 2,
       "version_minor": 0
      },
      "text/plain": [
       "HBox(children=(HTML(value=''), FloatProgress(value=0.0, max=1754.0), HTML(value='')))"
      ]
     },
     "metadata": {},
     "output_type": "display_data"
    },
    {
     "name": "stdout",
     "output_type": "stream",
     "text": [
      "\n"
     ]
    },
    {
     "data": {
      "application/vnd.jupyter.widget-view+json": {
       "model_id": "24393c0f4d4a464baee7093588bebacb",
       "version_major": 2,
       "version_minor": 0
      },
      "text/plain": [
       "HBox(children=(HTML(value=''), FloatProgress(value=0.0, max=1754.0), HTML(value='')))"
      ]
     },
     "metadata": {},
     "output_type": "display_data"
    },
    {
     "name": "stdout",
     "output_type": "stream",
     "text": [
      "\n"
     ]
    },
    {
     "data": {
      "application/vnd.jupyter.widget-view+json": {
       "model_id": "18e5264a2e7b4a6094331b1ae5bb517e",
       "version_major": 2,
       "version_minor": 0
      },
      "text/plain": [
       "HBox(children=(HTML(value=''), FloatProgress(value=0.0, max=1754.0), HTML(value='')))"
      ]
     },
     "metadata": {},
     "output_type": "display_data"
    },
    {
     "name": "stdout",
     "output_type": "stream",
     "text": [
      "\n"
     ]
    },
    {
     "data": {
      "application/vnd.jupyter.widget-view+json": {
       "model_id": "541dabe6e88b4e7ebb14221cfc9a7c34",
       "version_major": 2,
       "version_minor": 0
      },
      "text/plain": [
       "HBox(children=(HTML(value=''), FloatProgress(value=0.0, max=1754.0), HTML(value='')))"
      ]
     },
     "metadata": {},
     "output_type": "display_data"
    },
    {
     "name": "stdout",
     "output_type": "stream",
     "text": [
      "\n"
     ]
    },
    {
     "data": {
      "application/vnd.jupyter.widget-view+json": {
       "model_id": "e21ab61656364c41b8a7bb9f1f31faa5",
       "version_major": 2,
       "version_minor": 0
      },
      "text/plain": [
       "HBox(children=(HTML(value=''), FloatProgress(value=0.0, max=1754.0), HTML(value='')))"
      ]
     },
     "metadata": {},
     "output_type": "display_data"
    },
    {
     "name": "stdout",
     "output_type": "stream",
     "text": [
      "\n"
     ]
    },
    {
     "data": {
      "application/vnd.jupyter.widget-view+json": {
       "model_id": "2a8f9047158c46b9ab3750d0d62480f1",
       "version_major": 2,
       "version_minor": 0
      },
      "text/plain": [
       "HBox(children=(HTML(value=''), FloatProgress(value=0.0, max=1754.0), HTML(value='')))"
      ]
     },
     "metadata": {},
     "output_type": "display_data"
    },
    {
     "name": "stdout",
     "output_type": "stream",
     "text": [
      "\n"
     ]
    },
    {
     "data": {
      "application/vnd.jupyter.widget-view+json": {
       "model_id": "502d41c863f94a5099a841b43a183682",
       "version_major": 2,
       "version_minor": 0
      },
      "text/plain": [
       "HBox(children=(HTML(value=''), FloatProgress(value=0.0, max=1754.0), HTML(value='')))"
      ]
     },
     "metadata": {},
     "output_type": "display_data"
    },
    {
     "name": "stdout",
     "output_type": "stream",
     "text": [
      "\n"
     ]
    },
    {
     "data": {
      "application/vnd.jupyter.widget-view+json": {
       "model_id": "d45e48f3d8e445c8bf6fe042d19ff9a0",
       "version_major": 2,
       "version_minor": 0
      },
      "text/plain": [
       "HBox(children=(HTML(value=''), FloatProgress(value=0.0, max=1754.0), HTML(value='')))"
      ]
     },
     "metadata": {},
     "output_type": "display_data"
    },
    {
     "name": "stdout",
     "output_type": "stream",
     "text": [
      "\n"
     ]
    },
    {
     "data": {
      "application/vnd.jupyter.widget-view+json": {
       "model_id": "eeebcc3c7f334284b983473390565eb7",
       "version_major": 2,
       "version_minor": 0
      },
      "text/plain": [
       "HBox(children=(HTML(value=''), FloatProgress(value=0.0, max=1754.0), HTML(value='')))"
      ]
     },
     "metadata": {},
     "output_type": "display_data"
    },
    {
     "name": "stdout",
     "output_type": "stream",
     "text": [
      "\n"
     ]
    },
    {
     "data": {
      "application/vnd.jupyter.widget-view+json": {
       "model_id": "15567776f82a49f2ae669613c7b14cc8",
       "version_major": 2,
       "version_minor": 0
      },
      "text/plain": [
       "HBox(children=(HTML(value=''), FloatProgress(value=0.0, max=1754.0), HTML(value='')))"
      ]
     },
     "metadata": {},
     "output_type": "display_data"
    },
    {
     "name": "stdout",
     "output_type": "stream",
     "text": [
      "\n"
     ]
    },
    {
     "data": {
      "application/vnd.jupyter.widget-view+json": {
       "model_id": "fd00a4103f2c4f7c873d709a2e220440",
       "version_major": 2,
       "version_minor": 0
      },
      "text/plain": [
       "HBox(children=(HTML(value=''), FloatProgress(value=0.0, max=1754.0), HTML(value='')))"
      ]
     },
     "metadata": {},
     "output_type": "display_data"
    },
    {
     "name": "stdout",
     "output_type": "stream",
     "text": [
      "\n"
     ]
    },
    {
     "data": {
      "application/vnd.jupyter.widget-view+json": {
       "model_id": "3e469522c2644e12a5b4e0371c9665cd",
       "version_major": 2,
       "version_minor": 0
      },
      "text/plain": [
       "HBox(children=(HTML(value=''), FloatProgress(value=0.0, max=1754.0), HTML(value='')))"
      ]
     },
     "metadata": {},
     "output_type": "display_data"
    },
    {
     "name": "stdout",
     "output_type": "stream",
     "text": [
      "\n"
     ]
    },
    {
     "data": {
      "application/vnd.jupyter.widget-view+json": {
       "model_id": "65c7dc6d700442c59411b1b802a482ab",
       "version_major": 2,
       "version_minor": 0
      },
      "text/plain": [
       "HBox(children=(HTML(value=''), FloatProgress(value=0.0, max=1754.0), HTML(value='')))"
      ]
     },
     "metadata": {},
     "output_type": "display_data"
    },
    {
     "name": "stdout",
     "output_type": "stream",
     "text": [
      "\n"
     ]
    },
    {
     "data": {
      "application/vnd.jupyter.widget-view+json": {
       "model_id": "1bfa7c0c0d514dbe9e162648203dee81",
       "version_major": 2,
       "version_minor": 0
      },
      "text/plain": [
       "HBox(children=(HTML(value=''), FloatProgress(value=0.0, max=1754.0), HTML(value='')))"
      ]
     },
     "metadata": {},
     "output_type": "display_data"
    },
    {
     "name": "stdout",
     "output_type": "stream",
     "text": [
      "\n"
     ]
    },
    {
     "data": {
      "application/vnd.jupyter.widget-view+json": {
       "model_id": "5a46a1ac5ff24101895d601fa381b61c",
       "version_major": 2,
       "version_minor": 0
      },
      "text/plain": [
       "HBox(children=(HTML(value=''), FloatProgress(value=0.0, max=1754.0), HTML(value='')))"
      ]
     },
     "metadata": {},
     "output_type": "display_data"
    },
    {
     "name": "stdout",
     "output_type": "stream",
     "text": [
      "\n"
     ]
    },
    {
     "data": {
      "application/vnd.jupyter.widget-view+json": {
       "model_id": "b0c9edd57fa4496c9eae5e8503e53c82",
       "version_major": 2,
       "version_minor": 0
      },
      "text/plain": [
       "HBox(children=(HTML(value=''), FloatProgress(value=0.0, max=1754.0), HTML(value='')))"
      ]
     },
     "metadata": {},
     "output_type": "display_data"
    },
    {
     "name": "stdout",
     "output_type": "stream",
     "text": [
      "\n"
     ]
    },
    {
     "data": {
      "application/vnd.jupyter.widget-view+json": {
       "model_id": "34f37191ac9a4a128069c248b2fbf5a2",
       "version_major": 2,
       "version_minor": 0
      },
      "text/plain": [
       "HBox(children=(HTML(value=''), FloatProgress(value=0.0, max=1754.0), HTML(value='')))"
      ]
     },
     "metadata": {},
     "output_type": "display_data"
    },
    {
     "name": "stdout",
     "output_type": "stream",
     "text": [
      "\n"
     ]
    },
    {
     "data": {
      "application/vnd.jupyter.widget-view+json": {
       "model_id": "9ae908d14e2f40c2930dd558f686f1ce",
       "version_major": 2,
       "version_minor": 0
      },
      "text/plain": [
       "HBox(children=(HTML(value=''), FloatProgress(value=0.0, max=1754.0), HTML(value='')))"
      ]
     },
     "metadata": {},
     "output_type": "display_data"
    },
    {
     "name": "stdout",
     "output_type": "stream",
     "text": [
      "\n"
     ]
    },
    {
     "data": {
      "application/vnd.jupyter.widget-view+json": {
       "model_id": "c9c54d5d245c47cc99322a312db8b58b",
       "version_major": 2,
       "version_minor": 0
      },
      "text/plain": [
       "HBox(children=(HTML(value=''), FloatProgress(value=0.0, max=1754.0), HTML(value='')))"
      ]
     },
     "metadata": {},
     "output_type": "display_data"
    },
    {
     "name": "stdout",
     "output_type": "stream",
     "text": [
      "\n"
     ]
    },
    {
     "data": {
      "application/vnd.jupyter.widget-view+json": {
       "model_id": "940af3c93a3e4c61b530bd83154099e3",
       "version_major": 2,
       "version_minor": 0
      },
      "text/plain": [
       "HBox(children=(HTML(value=''), FloatProgress(value=0.0, max=1754.0), HTML(value='')))"
      ]
     },
     "metadata": {},
     "output_type": "display_data"
    },
    {
     "name": "stdout",
     "output_type": "stream",
     "text": [
      "\n"
     ]
    },
    {
     "data": {
      "application/vnd.jupyter.widget-view+json": {
       "model_id": "302f350fa072408bac845108772ca561",
       "version_major": 2,
       "version_minor": 0
      },
      "text/plain": [
       "HBox(children=(HTML(value=''), FloatProgress(value=0.0, max=1754.0), HTML(value='')))"
      ]
     },
     "metadata": {},
     "output_type": "display_data"
    },
    {
     "name": "stdout",
     "output_type": "stream",
     "text": [
      "\n"
     ]
    },
    {
     "data": {
      "application/vnd.jupyter.widget-view+json": {
       "model_id": "16d4c69e2d6147a8b07c4f5cdcf84764",
       "version_major": 2,
       "version_minor": 0
      },
      "text/plain": [
       "HBox(children=(HTML(value=''), FloatProgress(value=0.0, max=1754.0), HTML(value='')))"
      ]
     },
     "metadata": {},
     "output_type": "display_data"
    },
    {
     "name": "stdout",
     "output_type": "stream",
     "text": [
      "\n"
     ]
    },
    {
     "data": {
      "application/vnd.jupyter.widget-view+json": {
       "model_id": "adf70cb76e57437d8c942c8ed65a8e5e",
       "version_major": 2,
       "version_minor": 0
      },
      "text/plain": [
       "HBox(children=(HTML(value=''), FloatProgress(value=0.0, max=1754.0), HTML(value='')))"
      ]
     },
     "metadata": {},
     "output_type": "display_data"
    },
    {
     "name": "stdout",
     "output_type": "stream",
     "text": [
      "\n"
     ]
    },
    {
     "data": {
      "application/vnd.jupyter.widget-view+json": {
       "model_id": "51e3369ebc0c4d56a5be1b5e1d33ca9f",
       "version_major": 2,
       "version_minor": 0
      },
      "text/plain": [
       "HBox(children=(HTML(value=''), FloatProgress(value=0.0, max=1754.0), HTML(value='')))"
      ]
     },
     "metadata": {},
     "output_type": "display_data"
    },
    {
     "name": "stdout",
     "output_type": "stream",
     "text": [
      "\n"
     ]
    },
    {
     "data": {
      "application/vnd.jupyter.widget-view+json": {
       "model_id": "1a3d5577df12450696a33b7aaebfe3cf",
       "version_major": 2,
       "version_minor": 0
      },
      "text/plain": [
       "HBox(children=(HTML(value=''), FloatProgress(value=0.0, max=1754.0), HTML(value='')))"
      ]
     },
     "metadata": {},
     "output_type": "display_data"
    },
    {
     "name": "stdout",
     "output_type": "stream",
     "text": [
      "\n"
     ]
    },
    {
     "data": {
      "application/vnd.jupyter.widget-view+json": {
       "model_id": "d0afda1791a943c8ab85790d1495369b",
       "version_major": 2,
       "version_minor": 0
      },
      "text/plain": [
       "HBox(children=(HTML(value=''), FloatProgress(value=0.0, max=1754.0), HTML(value='')))"
      ]
     },
     "metadata": {},
     "output_type": "display_data"
    },
    {
     "name": "stdout",
     "output_type": "stream",
     "text": [
      "\n"
     ]
    },
    {
     "data": {
      "application/vnd.jupyter.widget-view+json": {
       "model_id": "ea7d583bb2b14681ba7ed6d326e8eeac",
       "version_major": 2,
       "version_minor": 0
      },
      "text/plain": [
       "HBox(children=(HTML(value=''), FloatProgress(value=0.0, max=1754.0), HTML(value='')))"
      ]
     },
     "metadata": {},
     "output_type": "display_data"
    },
    {
     "name": "stdout",
     "output_type": "stream",
     "text": [
      "\n"
     ]
    },
    {
     "data": {
      "application/vnd.jupyter.widget-view+json": {
       "model_id": "3aaf16f1869a4708b813d60b090176e6",
       "version_major": 2,
       "version_minor": 0
      },
      "text/plain": [
       "HBox(children=(HTML(value=''), FloatProgress(value=0.0, max=1754.0), HTML(value='')))"
      ]
     },
     "metadata": {},
     "output_type": "display_data"
    },
    {
     "name": "stdout",
     "output_type": "stream",
     "text": [
      "\n"
     ]
    },
    {
     "data": {
      "application/vnd.jupyter.widget-view+json": {
       "model_id": "af3d29f983d141cea2686802ba6f0d9d",
       "version_major": 2,
       "version_minor": 0
      },
      "text/plain": [
       "HBox(children=(HTML(value=''), FloatProgress(value=0.0, max=1754.0), HTML(value='')))"
      ]
     },
     "metadata": {},
     "output_type": "display_data"
    },
    {
     "name": "stdout",
     "output_type": "stream",
     "text": [
      "\n",
      "\n"
     ]
    }
   ],
   "source": [
    "alphas = [0.001, 0.01, 0.05, 0.1, 0.5, 1, 5, 10]\n",
    "window_size = 200\n",
    "RMSE_lasso1 = []\n",
    "\n",
    "for p in tqdm(permno):\n",
    "        x = X_full[p].iloc[:,3:].values\n",
    "        y = X_full[p].iloc[:,1].values\n",
    "        RMSE_lasso1.append(Rolling_Window_LASSO(window_size, x, y, alphas))"
   ]
  },
  {
   "cell_type": "code",
   "execution_count": 523,
   "metadata": {},
   "outputs": [
    {
     "data": {
      "text/plain": [
       "-3.9809434162181024e-05"
      ]
     },
     "execution_count": 523,
     "metadata": {},
     "output_type": "execute_result"
    }
   ],
   "source": [
    "statistics.fmean(RMSE_lasso1)"
   ]
  },
  {
   "cell_type": "code",
   "execution_count": 486,
   "metadata": {},
   "outputs": [
    {
     "data": {
      "image/png": "[encoded data removed]",
      "text/plain": [
       "<Figure size 1440x720 with 1 Axes>"
      ]
     },
     "metadata": {},
     "output_type": "display_data"
    }
   ],
   "source": [
    "plt.style.use('ggplot')\n",
    "plt.scatter(range(1,len(permno)+1), RMSE_lasso1, color='b')\n",
    "plt.ylim(-0.0004, 0.0004)\n",
    "plt.ylabel(r'$\\Delta$'+\"RMSE (Historical Mean Return - LASSO Model)\")\n",
    "plt.xlabel(\"Stock i\")\n",
    "plt.axhline(y=0, color='r', linestyle='-')\n",
    "plt.show()"
   ]
  },
  {
   "cell_type": "markdown",
   "metadata": {},
   "source": [
    "### LASSO with Kitchen-sink Model"
   ]
  },
  {
   "cell_type": "code",
   "execution_count": 13,
   "metadata": {},
   "outputs": [
    {
     "data": {
      "application/vnd.jupyter.widget-view+json": {
       "model_id": "b08cfc4540b346ffbc9ba1c9552ff290",
       "version_major": 2,
       "version_minor": 0
      },
      "text/plain": [
       "HBox(children=(HTML(value=''), FloatProgress(value=0.0), HTML(value='')))"
      ]
     },
     "metadata": {},
     "output_type": "display_data"
    },
    {
     "name": "stdout",
     "output_type": "stream",
     "text": [
      "\n"
     ]
    }
   ],
   "source": [
    "### Extend predictor variables to include a stock's cross-stock returns and net flows (3 lags)\n",
    "X_kitchen_sink = {}\n",
    "for i in tqdm(permno):\n",
    "    permno_copy = permno.copy()\n",
    "    permno_copy.remove(i)\n",
    "    data = indv_stocks_data[i].drop(\"PERMNO\", axis=1)\n",
    "    for j in permno_copy:\n",
    "        data = data.merge(indv_stocks_data[j][[\"Dates\", \"Return_1\", \"Flow_1\", \n",
    "                                               \"Return_2\", \"Flow_2\", \"Return_3\", \"Flow_3\" ]], on='Dates')\n",
    "    X_kitchen_sink[i] = data.dropna()"
   ]
  },
  {
   "cell_type": "code",
   "execution_count": 462,
   "metadata": {},
   "outputs": [
    {
     "data": {
      "application/vnd.jupyter.widget-view+json": {
       "model_id": "37e6dda952424450a543d6f90b3050fb",
       "version_major": 2,
       "version_minor": 0
      },
      "text/plain": [
       "HBox(children=(HTML(value=''), FloatProgress(value=0.0), HTML(value='')))"
      ]
     },
     "metadata": {},
     "output_type": "display_data"
    },
    {
     "data": {
      "application/vnd.jupyter.widget-view+json": {
       "model_id": "d87557f332ee4417a89aeb1089dc0b1b",
       "version_major": 2,
       "version_minor": 0
      },
      "text/plain": [
       "HBox(children=(HTML(value=''), FloatProgress(value=0.0, max=386.0), HTML(value='')))"
      ]
     },
     "metadata": {},
     "output_type": "display_data"
    },
    {
     "name": "stdout",
     "output_type": "stream",
     "text": [
      "\n",
      "[-2.5610181559235223e-05]\n"
     ]
    },
    {
     "data": {
      "application/vnd.jupyter.widget-view+json": {
       "model_id": "a064ee88e6224923bad5c6fedc97b6d9",
       "version_major": 2,
       "version_minor": 0
      },
      "text/plain": [
       "HBox(children=(HTML(value=''), FloatProgress(value=0.0, max=386.0), HTML(value='')))"
      ]
     },
     "metadata": {},
     "output_type": "display_data"
    },
    {
     "name": "stdout",
     "output_type": "stream",
     "text": [
      "\n",
      "[-2.5610181559235223e-05, -4.216004647124294e-05]\n"
     ]
    },
    {
     "data": {
      "application/vnd.jupyter.widget-view+json": {
       "model_id": "df4c5982f57a470589235f352776f772",
       "version_major": 2,
       "version_minor": 0
      },
      "text/plain": [
       "HBox(children=(HTML(value=''), FloatProgress(value=0.0, max=386.0), HTML(value='')))"
      ]
     },
     "metadata": {},
     "output_type": "display_data"
    },
    {
     "name": "stdout",
     "output_type": "stream",
     "text": [
      "\n",
      "[-2.5610181559235223e-05, -4.216004647124294e-05, 1.3147421279446903e-06]\n"
     ]
    },
    {
     "data": {
      "application/vnd.jupyter.widget-view+json": {
       "model_id": "009c4d90f671406db9e5228213e61069",
       "version_major": 2,
       "version_minor": 0
      },
      "text/plain": [
       "HBox(children=(HTML(value=''), FloatProgress(value=0.0, max=386.0), HTML(value='')))"
      ]
     },
     "metadata": {},
     "output_type": "display_data"
    },
    {
     "name": "stdout",
     "output_type": "stream",
     "text": [
      "\n",
      "[-2.5610181559235223e-05, -4.216004647124294e-05, 1.3147421279446903e-06, -1.2870753256132711e-05]\n"
     ]
    },
    {
     "data": {
      "application/vnd.jupyter.widget-view+json": {
       "model_id": "897a30219d8a4c38b9b41e9da6fda46b",
       "version_major": 2,
       "version_minor": 0
      },
      "text/plain": [
       "HBox(children=(HTML(value=''), FloatProgress(value=0.0, max=386.0), HTML(value='')))"
      ]
     },
     "metadata": {},
     "output_type": "display_data"
    },
    {
     "name": "stdout",
     "output_type": "stream",
     "text": [
      "\n",
      "[-2.5610181559235223e-05, -4.216004647124294e-05, 1.3147421279446903e-06, -1.2870753256132711e-05, -0.0001432573702578599]\n"
     ]
    },
    {
     "data": {
      "application/vnd.jupyter.widget-view+json": {
       "model_id": "48d2768ee38a43e88f25c1c2eaa36f60",
       "version_major": 2,
       "version_minor": 0
      },
      "text/plain": [
       "HBox(children=(HTML(value=''), FloatProgress(value=0.0, max=386.0), HTML(value='')))"
      ]
     },
     "metadata": {},
     "output_type": "display_data"
    },
    {
     "name": "stdout",
     "output_type": "stream",
     "text": [
      "\n",
      "[-2.5610181559235223e-05, -4.216004647124294e-05, 1.3147421279446903e-06, -1.2870753256132711e-05, -0.0001432573702578599, -8.546307235145212e-06]\n"
     ]
    },
    {
     "data": {
      "application/vnd.jupyter.widget-view+json": {
       "model_id": "84b40d324f2946b494816b3fa33f5f87",
       "version_major": 2,
       "version_minor": 0
      },
      "text/plain": [
       "HBox(children=(HTML(value=''), FloatProgress(value=0.0, max=386.0), HTML(value='')))"
      ]
     },
     "metadata": {},
     "output_type": "display_data"
    },
    {
     "name": "stdout",
     "output_type": "stream",
     "text": [
      "\n",
      "[-2.5610181559235223e-05, -4.216004647124294e-05, 1.3147421279446903e-06, -1.2870753256132711e-05, -0.0001432573702578599, -8.546307235145212e-06, -1.99365810698085e-06]\n"
     ]
    },
    {
     "data": {
      "application/vnd.jupyter.widget-view+json": {
       "model_id": "388be8007e9f45f79f33cac05c4f8065",
       "version_major": 2,
       "version_minor": 0
      },
      "text/plain": [
       "HBox(children=(HTML(value=''), FloatProgress(value=0.0, max=386.0), HTML(value='')))"
      ]
     },
     "metadata": {},
     "output_type": "display_data"
    },
    {
     "name": "stdout",
     "output_type": "stream",
     "text": [
      "\n",
      "[-2.5610181559235223e-05, -4.216004647124294e-05, 1.3147421279446903e-06, -1.2870753256132711e-05, -0.0001432573702578599, -8.546307235145212e-06, -1.99365810698085e-06, -6.867076713556325e-06]\n"
     ]
    },
    {
     "data": {
      "application/vnd.jupyter.widget-view+json": {
       "model_id": "dbbe7b116cac4b3c80d00e234c7c8091",
       "version_major": 2,
       "version_minor": 0
      },
      "text/plain": [
       "HBox(children=(HTML(value=''), FloatProgress(value=0.0, max=386.0), HTML(value='')))"
      ]
     },
     "metadata": {},
     "output_type": "display_data"
    },
    {
     "name": "stdout",
     "output_type": "stream",
     "text": [
      "\n",
      "[-2.5610181559235223e-05, -4.216004647124294e-05, 1.3147421279446903e-06, -1.2870753256132711e-05, -0.0001432573702578599, -8.546307235145212e-06, -1.99365810698085e-06, -6.867076713556325e-06, -7.443156437945617e-05]\n"
     ]
    },
    {
     "data": {
      "application/vnd.jupyter.widget-view+json": {
       "model_id": "dd0cab4a020e4c81bfa8672ed9fd72c0",
       "version_major": 2,
       "version_minor": 0
      },
      "text/plain": [
       "HBox(children=(HTML(value=''), FloatProgress(value=0.0, max=386.0), HTML(value='')))"
      ]
     },
     "metadata": {},
     "output_type": "display_data"
    },
    {
     "name": "stdout",
     "output_type": "stream",
     "text": [
      "\n",
      "[-2.5610181559235223e-05, -4.216004647124294e-05, 1.3147421279446903e-06, -1.2870753256132711e-05, -0.0001432573702578599, -8.546307235145212e-06, -1.99365810698085e-06, -6.867076713556325e-06, -7.443156437945617e-05, -0.0002718303094229116]\n"
     ]
    },
    {
     "data": {
      "application/vnd.jupyter.widget-view+json": {
       "model_id": "1d900a0984844c0faaf41beb375d0f69",
       "version_major": 2,
       "version_minor": 0
      },
      "text/plain": [
       "HBox(children=(HTML(value=''), FloatProgress(value=0.0, max=386.0), HTML(value='')))"
      ]
     },
     "metadata": {},
     "output_type": "display_data"
    },
    {
     "name": "stdout",
     "output_type": "stream",
     "text": [
      "\n",
      "[-2.5610181559235223e-05, -4.216004647124294e-05, 1.3147421279446903e-06, -1.2870753256132711e-05, -0.0001432573702578599, -8.546307235145212e-06, -1.99365810698085e-06, -6.867076713556325e-06, -7.443156437945617e-05, -0.0002718303094229116, -6.337375163077003e-05]\n"
     ]
    },
    {
     "data": {
      "application/vnd.jupyter.widget-view+json": {
       "model_id": "a06065f393c14ed9bcb5809d24373d4e",
       "version_major": 2,
       "version_minor": 0
      },
      "text/plain": [
       "HBox(children=(HTML(value=''), FloatProgress(value=0.0, max=386.0), HTML(value='')))"
      ]
     },
     "metadata": {},
     "output_type": "display_data"
    },
    {
     "name": "stdout",
     "output_type": "stream",
     "text": [
      "\n",
      "[-2.5610181559235223e-05, -4.216004647124294e-05, 1.3147421279446903e-06, -1.2870753256132711e-05, -0.0001432573702578599, -8.546307235145212e-06, -1.99365810698085e-06, -6.867076713556325e-06, -7.443156437945617e-05, -0.0002718303094229116, -6.337375163077003e-05, 2.7857924773735943e-05]\n"
     ]
    },
    {
     "data": {
      "application/vnd.jupyter.widget-view+json": {
       "model_id": "eb7af286a41a41ada08ea54aae7013d3",
       "version_major": 2,
       "version_minor": 0
      },
      "text/plain": [
       "HBox(children=(HTML(value=''), FloatProgress(value=0.0, max=386.0), HTML(value='')))"
      ]
     },
     "metadata": {},
     "output_type": "display_data"
    },
    {
     "name": "stdout",
     "output_type": "stream",
     "text": [
      "\n",
      "[-2.5610181559235223e-05, -4.216004647124294e-05, 1.3147421279446903e-06, -1.2870753256132711e-05, -0.0001432573702578599, -8.546307235145212e-06, -1.99365810698085e-06, -6.867076713556325e-06, -7.443156437945617e-05, -0.0002718303094229116, -6.337375163077003e-05, 2.7857924773735943e-05, -1.9781778996176558e-05]\n"
     ]
    },
    {
     "data": {
      "application/vnd.jupyter.widget-view+json": {
       "model_id": "5e51dcebf0294154a165f7fb56f24cb0",
       "version_major": 2,
       "version_minor": 0
      },
      "text/plain": [
       "HBox(children=(HTML(value=''), FloatProgress(value=0.0, max=386.0), HTML(value='')))"
      ]
     },
     "metadata": {},
     "output_type": "display_data"
    },
    {
     "name": "stdout",
     "output_type": "stream",
     "text": [
      "\n",
      "[-2.5610181559235223e-05, -4.216004647124294e-05, 1.3147421279446903e-06, -1.2870753256132711e-05, -0.0001432573702578599, -8.546307235145212e-06, -1.99365810698085e-06, -6.867076713556325e-06, -7.443156437945617e-05, -0.0002718303094229116, -6.337375163077003e-05, 2.7857924773735943e-05, -1.9781778996176558e-05, -6.078769650674429e-05]\n"
     ]
    },
    {
     "data": {
      "application/vnd.jupyter.widget-view+json": {
       "model_id": "46c9bb67994549fa835f7d2ca6eb7e8f",
       "version_major": 2,
       "version_minor": 0
      },
      "text/plain": [
       "HBox(children=(HTML(value=''), FloatProgress(value=0.0, max=386.0), HTML(value='')))"
      ]
     },
     "metadata": {},
     "output_type": "display_data"
    },
    {
     "name": "stdout",
     "output_type": "stream",
     "text": [
      "\n",
      "[-2.5610181559235223e-05, -4.216004647124294e-05, 1.3147421279446903e-06, -1.2870753256132711e-05, -0.0001432573702578599, -8.546307235145212e-06, -1.99365810698085e-06, -6.867076713556325e-06, -7.443156437945617e-05, -0.0002718303094229116, -6.337375163077003e-05, 2.7857924773735943e-05, -1.9781778996176558e-05, -6.078769650674429e-05, -7.55790618672536e-05]\n"
     ]
    },
    {
     "data": {
      "application/vnd.jupyter.widget-view+json": {
       "model_id": "aae8d23e686b4f9ca2bab9475bc6f618",
       "version_major": 2,
       "version_minor": 0
      },
      "text/plain": [
       "HBox(children=(HTML(value=''), FloatProgress(value=0.0, max=386.0), HTML(value='')))"
      ]
     },
     "metadata": {},
     "output_type": "display_data"
    },
    {
     "name": "stderr",
     "output_type": "stream",
     "text": [
      "/Users/Parth/opt/anaconda3/lib/python3.8/site-packages/sklearn/linear_model/_coordinate_descent.py:529: ConvergenceWarning: Objective did not converge. You might want to increase the number of iterations. Duality gap: 0.00038298530479617633, tolerance: 0.0003009848934776994\n",
      "  model = cd_fast.enet_coordinate_descent(\n"
     ]
    },
    {
     "name": "stdout",
     "output_type": "stream",
     "text": [
      "\n",
      "[-2.5610181559235223e-05, -4.216004647124294e-05, 1.3147421279446903e-06, -1.2870753256132711e-05, -0.0001432573702578599, -8.546307235145212e-06, -1.99365810698085e-06, -6.867076713556325e-06, -7.443156437945617e-05, -0.0002718303094229116, -6.337375163077003e-05, 2.7857924773735943e-05, -1.9781778996176558e-05, -6.078769650674429e-05, -7.55790618672536e-05, 7.105820026914733e-06]\n"
     ]
    },
    {
     "data": {
      "application/vnd.jupyter.widget-view+json": {
       "model_id": "153d880da23d469b9ff5af1c53d27b77",
       "version_major": 2,
       "version_minor": 0
      },
      "text/plain": [
       "HBox(children=(HTML(value=''), FloatProgress(value=0.0, max=386.0), HTML(value='')))"
      ]
     },
     "metadata": {},
     "output_type": "display_data"
    },
    {
     "name": "stdout",
     "output_type": "stream",
     "text": [
      "\n",
      "[-2.5610181559235223e-05, -4.216004647124294e-05, 1.3147421279446903e-06, -1.2870753256132711e-05, -0.0001432573702578599, -8.546307235145212e-06, -1.99365810698085e-06, -6.867076713556325e-06, -7.443156437945617e-05, -0.0002718303094229116, -6.337375163077003e-05, 2.7857924773735943e-05, -1.9781778996176558e-05, -6.078769650674429e-05, -7.55790618672536e-05, 7.105820026914733e-06, -0.0002012851094688184]\n"
     ]
    },
    {
     "data": {
      "application/vnd.jupyter.widget-view+json": {
       "model_id": "f28ef89501154b35a5c769c45b2a76c0",
       "version_major": 2,
       "version_minor": 0
      },
      "text/plain": [
       "HBox(children=(HTML(value=''), FloatProgress(value=0.0, max=386.0), HTML(value='')))"
      ]
     },
     "metadata": {},
     "output_type": "display_data"
    },
    {
     "name": "stdout",
     "output_type": "stream",
     "text": [
      "\n",
      "[-2.5610181559235223e-05, -4.216004647124294e-05, 1.3147421279446903e-06, -1.2870753256132711e-05, -0.0001432573702578599, -8.546307235145212e-06, -1.99365810698085e-06, -6.867076713556325e-06, -7.443156437945617e-05, -0.0002718303094229116, -6.337375163077003e-05, 2.7857924773735943e-05, -1.9781778996176558e-05, -6.078769650674429e-05, -7.55790618672536e-05, 7.105820026914733e-06, -0.0002012851094688184, -1.6050626748864705e-05]\n"
     ]
    },
    {
     "data": {
      "application/vnd.jupyter.widget-view+json": {
       "model_id": "005895b67faa4156a29c433c6d2785c2",
       "version_major": 2,
       "version_minor": 0
      },
      "text/plain": [
       "HBox(children=(HTML(value=''), FloatProgress(value=0.0, max=386.0), HTML(value='')))"
      ]
     },
     "metadata": {},
     "output_type": "display_data"
    },
    {
     "name": "stdout",
     "output_type": "stream",
     "text": [
      "\n",
      "[-2.5610181559235223e-05, -4.216004647124294e-05, 1.3147421279446903e-06, -1.2870753256132711e-05, -0.0001432573702578599, -8.546307235145212e-06, -1.99365810698085e-06, -6.867076713556325e-06, -7.443156437945617e-05, -0.0002718303094229116, -6.337375163077003e-05, 2.7857924773735943e-05, -1.9781778996176558e-05, -6.078769650674429e-05, -7.55790618672536e-05, 7.105820026914733e-06, -0.0002012851094688184, -1.6050626748864705e-05, -1.0135805805090714e-05]\n"
     ]
    },
    {
     "data": {
      "application/vnd.jupyter.widget-view+json": {
       "model_id": "b0ca91a414514ab1ae85336c762ab762",
       "version_major": 2,
       "version_minor": 0
      },
      "text/plain": [
       "HBox(children=(HTML(value=''), FloatProgress(value=0.0, max=386.0), HTML(value='')))"
      ]
     },
     "metadata": {},
     "output_type": "display_data"
    },
    {
     "name": "stdout",
     "output_type": "stream",
     "text": [
      "\n",
      "[-2.5610181559235223e-05, -4.216004647124294e-05, 1.3147421279446903e-06, -1.2870753256132711e-05, -0.0001432573702578599, -8.546307235145212e-06, -1.99365810698085e-06, -6.867076713556325e-06, -7.443156437945617e-05, -0.0002718303094229116, -6.337375163077003e-05, 2.7857924773735943e-05, -1.9781778996176558e-05, -6.078769650674429e-05, -7.55790618672536e-05, 7.105820026914733e-06, -0.0002012851094688184, -1.6050626748864705e-05, -1.0135805805090714e-05, -2.323041552738589e-05]\n"
     ]
    },
    {
     "data": {
      "application/vnd.jupyter.widget-view+json": {
       "model_id": "96f84eff69184cdeabcfd577d0ca80f2",
       "version_major": 2,
       "version_minor": 0
      },
      "text/plain": [
       "HBox(children=(HTML(value=''), FloatProgress(value=0.0, max=386.0), HTML(value='')))"
      ]
     },
     "metadata": {},
     "output_type": "display_data"
    },
    {
     "name": "stdout",
     "output_type": "stream",
     "text": [
      "\n",
      "[-2.5610181559235223e-05, -4.216004647124294e-05, 1.3147421279446903e-06, -1.2870753256132711e-05, -0.0001432573702578599, -8.546307235145212e-06, -1.99365810698085e-06, -6.867076713556325e-06, -7.443156437945617e-05, -0.0002718303094229116, -6.337375163077003e-05, 2.7857924773735943e-05, -1.9781778996176558e-05, -6.078769650674429e-05, -7.55790618672536e-05, 7.105820026914733e-06, -0.0002012851094688184, -1.6050626748864705e-05, -1.0135805805090714e-05, -2.323041552738589e-05, 4.655410395514037e-05]\n"
     ]
    },
    {
     "data": {
      "application/vnd.jupyter.widget-view+json": {
       "model_id": "70a69bd1786542799ef4be00707d7509",
       "version_major": 2,
       "version_minor": 0
      },
      "text/plain": [
       "HBox(children=(HTML(value=''), FloatProgress(value=0.0, max=386.0), HTML(value='')))"
      ]
     },
     "metadata": {},
     "output_type": "display_data"
    },
    {
     "name": "stdout",
     "output_type": "stream",
     "text": [
      "\n",
      "[-2.5610181559235223e-05, -4.216004647124294e-05, 1.3147421279446903e-06, -1.2870753256132711e-05, -0.0001432573702578599, -8.546307235145212e-06, -1.99365810698085e-06, -6.867076713556325e-06, -7.443156437945617e-05, -0.0002718303094229116, -6.337375163077003e-05, 2.7857924773735943e-05, -1.9781778996176558e-05, -6.078769650674429e-05, -7.55790618672536e-05, 7.105820026914733e-06, -0.0002012851094688184, -1.6050626748864705e-05, -1.0135805805090714e-05, -2.323041552738589e-05, 4.655410395514037e-05, -0.00014823886546039625]\n"
     ]
    },
    {
     "data": {
      "application/vnd.jupyter.widget-view+json": {
       "model_id": "a35513bd11884bf098ad17d74562a81e",
       "version_major": 2,
       "version_minor": 0
      },
      "text/plain": [
       "HBox(children=(HTML(value=''), FloatProgress(value=0.0, max=386.0), HTML(value='')))"
      ]
     },
     "metadata": {},
     "output_type": "display_data"
    },
    {
     "name": "stdout",
     "output_type": "stream",
     "text": [
      "\n",
      "[-2.5610181559235223e-05, -4.216004647124294e-05, 1.3147421279446903e-06, -1.2870753256132711e-05, -0.0001432573702578599, -8.546307235145212e-06, -1.99365810698085e-06, -6.867076713556325e-06, -7.443156437945617e-05, -0.0002718303094229116, -6.337375163077003e-05, 2.7857924773735943e-05, -1.9781778996176558e-05, -6.078769650674429e-05, -7.55790618672536e-05, 7.105820026914733e-06, -0.0002012851094688184, -1.6050626748864705e-05, -1.0135805805090714e-05, -2.323041552738589e-05, 4.655410395514037e-05, -0.00014823886546039625, -0.00016760708129714627]\n"
     ]
    },
    {
     "data": {
      "application/vnd.jupyter.widget-view+json": {
       "model_id": "0537428cba3443ee836e8fda66877d12",
       "version_major": 2,
       "version_minor": 0
      },
      "text/plain": [
       "HBox(children=(HTML(value=''), FloatProgress(value=0.0, max=386.0), HTML(value='')))"
      ]
     },
     "metadata": {},
     "output_type": "display_data"
    },
    {
     "name": "stdout",
     "output_type": "stream",
     "text": [
      "\n",
      "[-2.5610181559235223e-05, -4.216004647124294e-05, 1.3147421279446903e-06, -1.2870753256132711e-05, -0.0001432573702578599, -8.546307235145212e-06, -1.99365810698085e-06, -6.867076713556325e-06, -7.443156437945617e-05, -0.0002718303094229116, -6.337375163077003e-05, 2.7857924773735943e-05, -1.9781778996176558e-05, -6.078769650674429e-05, -7.55790618672536e-05, 7.105820026914733e-06, -0.0002012851094688184, -1.6050626748864705e-05, -1.0135805805090714e-05, -2.323041552738589e-05, 4.655410395514037e-05, -0.00014823886546039625, -0.00016760708129714627, -2.985529071447557e-05]\n"
     ]
    },
    {
     "data": {
      "application/vnd.jupyter.widget-view+json": {
       "model_id": "3e6d7ccdc0dc402e96042a54e2cddcdf",
       "version_major": 2,
       "version_minor": 0
      },
      "text/plain": [
       "HBox(children=(HTML(value=''), FloatProgress(value=0.0, max=386.0), HTML(value='')))"
      ]
     },
     "metadata": {},
     "output_type": "display_data"
    },
    {
     "name": "stdout",
     "output_type": "stream",
     "text": [
      "\n",
      "[-2.5610181559235223e-05, -4.216004647124294e-05, 1.3147421279446903e-06, -1.2870753256132711e-05, -0.0001432573702578599, -8.546307235145212e-06, -1.99365810698085e-06, -6.867076713556325e-06, -7.443156437945617e-05, -0.0002718303094229116, -6.337375163077003e-05, 2.7857924773735943e-05, -1.9781778996176558e-05, -6.078769650674429e-05, -7.55790618672536e-05, 7.105820026914733e-06, -0.0002012851094688184, -1.6050626748864705e-05, -1.0135805805090714e-05, -2.323041552738589e-05, 4.655410395514037e-05, -0.00014823886546039625, -0.00016760708129714627, -2.985529071447557e-05, 6.524997474798011e-06]\n"
     ]
    },
    {
     "data": {
      "application/vnd.jupyter.widget-view+json": {
       "model_id": "f4874315dc3b41d9b932f06bf8096669",
       "version_major": 2,
       "version_minor": 0
      },
      "text/plain": [
       "HBox(children=(HTML(value=''), FloatProgress(value=0.0, max=386.0), HTML(value='')))"
      ]
     },
     "metadata": {},
     "output_type": "display_data"
    },
    {
     "name": "stdout",
     "output_type": "stream",
     "text": [
      "\n",
      "[-2.5610181559235223e-05, -4.216004647124294e-05, 1.3147421279446903e-06, -1.2870753256132711e-05, -0.0001432573702578599, -8.546307235145212e-06, -1.99365810698085e-06, -6.867076713556325e-06, -7.443156437945617e-05, -0.0002718303094229116, -6.337375163077003e-05, 2.7857924773735943e-05, -1.9781778996176558e-05, -6.078769650674429e-05, -7.55790618672536e-05, 7.105820026914733e-06, -0.0002012851094688184, -1.6050626748864705e-05, -1.0135805805090714e-05, -2.323041552738589e-05, 4.655410395514037e-05, -0.00014823886546039625, -0.00016760708129714627, -2.985529071447557e-05, 6.524997474798011e-06, 8.135745655752508e-05]\n"
     ]
    },
    {
     "data": {
      "application/vnd.jupyter.widget-view+json": {
       "model_id": "df93e86a4c4b4e0fafc3edcea6858379",
       "version_major": 2,
       "version_minor": 0
      },
      "text/plain": [
       "HBox(children=(HTML(value=''), FloatProgress(value=0.0, max=386.0), HTML(value='')))"
      ]
     },
     "metadata": {},
     "output_type": "display_data"
    },
    {
     "name": "stdout",
     "output_type": "stream",
     "text": [
      "\n",
      "[-2.5610181559235223e-05, -4.216004647124294e-05, 1.3147421279446903e-06, -1.2870753256132711e-05, -0.0001432573702578599, -8.546307235145212e-06, -1.99365810698085e-06, -6.867076713556325e-06, -7.443156437945617e-05, -0.0002718303094229116, -6.337375163077003e-05, 2.7857924773735943e-05, -1.9781778996176558e-05, -6.078769650674429e-05, -7.55790618672536e-05, 7.105820026914733e-06, -0.0002012851094688184, -1.6050626748864705e-05, -1.0135805805090714e-05, -2.323041552738589e-05, 4.655410395514037e-05, -0.00014823886546039625, -0.00016760708129714627, -2.985529071447557e-05, 6.524997474798011e-06, 8.135745655752508e-05, -3.363903297339682e-05]\n"
     ]
    },
    {
     "data": {
      "application/vnd.jupyter.widget-view+json": {
       "model_id": "d5d1eb51f1e842eeb46a5f3588605f5d",
       "version_major": 2,
       "version_minor": 0
      },
      "text/plain": [
       "HBox(children=(HTML(value=''), FloatProgress(value=0.0, max=386.0), HTML(value='')))"
      ]
     },
     "metadata": {},
     "output_type": "display_data"
    },
    {
     "name": "stdout",
     "output_type": "stream",
     "text": [
      "\n",
      "[-2.5610181559235223e-05, -4.216004647124294e-05, 1.3147421279446903e-06, -1.2870753256132711e-05, -0.0001432573702578599, -8.546307235145212e-06, -1.99365810698085e-06, -6.867076713556325e-06, -7.443156437945617e-05, -0.0002718303094229116, -6.337375163077003e-05, 2.7857924773735943e-05, -1.9781778996176558e-05, -6.078769650674429e-05, -7.55790618672536e-05, 7.105820026914733e-06, -0.0002012851094688184, -1.6050626748864705e-05, -1.0135805805090714e-05, -2.323041552738589e-05, 4.655410395514037e-05, -0.00014823886546039625, -0.00016760708129714627, -2.985529071447557e-05, 6.524997474798011e-06, 8.135745655752508e-05, -3.363903297339682e-05, -8.965230651473283e-06]\n"
     ]
    },
    {
     "data": {
      "application/vnd.jupyter.widget-view+json": {
       "model_id": "9bf7aadc349c4f9f9d52ffc89de8c4ab",
       "version_major": 2,
       "version_minor": 0
      },
      "text/plain": [
       "HBox(children=(HTML(value=''), FloatProgress(value=0.0, max=386.0), HTML(value='')))"
      ]
     },
     "metadata": {},
     "output_type": "display_data"
    },
    {
     "name": "stdout",
     "output_type": "stream",
     "text": [
      "\n",
      "[-2.5610181559235223e-05, -4.216004647124294e-05, 1.3147421279446903e-06, -1.2870753256132711e-05, -0.0001432573702578599, -8.546307235145212e-06, -1.99365810698085e-06, -6.867076713556325e-06, -7.443156437945617e-05, -0.0002718303094229116, -6.337375163077003e-05, 2.7857924773735943e-05, -1.9781778996176558e-05, -6.078769650674429e-05, -7.55790618672536e-05, 7.105820026914733e-06, -0.0002012851094688184, -1.6050626748864705e-05, -1.0135805805090714e-05, -2.323041552738589e-05, 4.655410395514037e-05, -0.00014823886546039625, -0.00016760708129714627, -2.985529071447557e-05, 6.524997474798011e-06, 8.135745655752508e-05, -3.363903297339682e-05, -8.965230651473283e-06, -2.2837712461983017e-05]\n"
     ]
    },
    {
     "data": {
      "application/vnd.jupyter.widget-view+json": {
       "model_id": "b0d5319455d84f37a08374f712a876e2",
       "version_major": 2,
       "version_minor": 0
      },
      "text/plain": [
       "HBox(children=(HTML(value=''), FloatProgress(value=0.0, max=386.0), HTML(value='')))"
      ]
     },
     "metadata": {},
     "output_type": "display_data"
    },
    {
     "name": "stdout",
     "output_type": "stream",
     "text": [
      "\n",
      "[-2.5610181559235223e-05, -4.216004647124294e-05, 1.3147421279446903e-06, -1.2870753256132711e-05, -0.0001432573702578599, -8.546307235145212e-06, -1.99365810698085e-06, -6.867076713556325e-06, -7.443156437945617e-05, -0.0002718303094229116, -6.337375163077003e-05, 2.7857924773735943e-05, -1.9781778996176558e-05, -6.078769650674429e-05, -7.55790618672536e-05, 7.105820026914733e-06, -0.0002012851094688184, -1.6050626748864705e-05, -1.0135805805090714e-05, -2.323041552738589e-05, 4.655410395514037e-05, -0.00014823886546039625, -0.00016760708129714627, -2.985529071447557e-05, 6.524997474798011e-06, 8.135745655752508e-05, -3.363903297339682e-05, -8.965230651473283e-06, -2.2837712461983017e-05, -7.118266544007407e-05]\n"
     ]
    },
    {
     "data": {
      "application/vnd.jupyter.widget-view+json": {
       "model_id": "22e4144c47be4b4bb85bed5cee7c8c8b",
       "version_major": 2,
       "version_minor": 0
      },
      "text/plain": [
       "HBox(children=(HTML(value=''), FloatProgress(value=0.0, max=386.0), HTML(value='')))"
      ]
     },
     "metadata": {},
     "output_type": "display_data"
    },
    {
     "name": "stdout",
     "output_type": "stream",
     "text": [
      "\n",
      "[-2.5610181559235223e-05, -4.216004647124294e-05, 1.3147421279446903e-06, -1.2870753256132711e-05, -0.0001432573702578599, -8.546307235145212e-06, -1.99365810698085e-06, -6.867076713556325e-06, -7.443156437945617e-05, -0.0002718303094229116, -6.337375163077003e-05, 2.7857924773735943e-05, -1.9781778996176558e-05, -6.078769650674429e-05, -7.55790618672536e-05, 7.105820026914733e-06, -0.0002012851094688184, -1.6050626748864705e-05, -1.0135805805090714e-05, -2.323041552738589e-05, 4.655410395514037e-05, -0.00014823886546039625, -0.00016760708129714627, -2.985529071447557e-05, 6.524997474798011e-06, 8.135745655752508e-05, -3.363903297339682e-05, -8.965230651473283e-06, -2.2837712461983017e-05, -7.118266544007407e-05, -1.766061867764998e-05]\n"
     ]
    },
    {
     "data": {
      "application/vnd.jupyter.widget-view+json": {
       "model_id": "f1bba0e5502445a2be2d9bb4f40994e3",
       "version_major": 2,
       "version_minor": 0
      },
      "text/plain": [
       "HBox(children=(HTML(value=''), FloatProgress(value=0.0, max=386.0), HTML(value='')))"
      ]
     },
     "metadata": {},
     "output_type": "display_data"
    },
    {
     "name": "stdout",
     "output_type": "stream",
     "text": [
      "\n",
      "[-2.5610181559235223e-05, -4.216004647124294e-05, 1.3147421279446903e-06, -1.2870753256132711e-05, -0.0001432573702578599, -8.546307235145212e-06, -1.99365810698085e-06, -6.867076713556325e-06, -7.443156437945617e-05, -0.0002718303094229116, -6.337375163077003e-05, 2.7857924773735943e-05, -1.9781778996176558e-05, -6.078769650674429e-05, -7.55790618672536e-05, 7.105820026914733e-06, -0.0002012851094688184, -1.6050626748864705e-05, -1.0135805805090714e-05, -2.323041552738589e-05, 4.655410395514037e-05, -0.00014823886546039625, -0.00016760708129714627, -2.985529071447557e-05, 6.524997474798011e-06, 8.135745655752508e-05, -3.363903297339682e-05, -8.965230651473283e-06, -2.2837712461983017e-05, -7.118266544007407e-05, -1.766061867764998e-05, -0.00012170127213687737]\n"
     ]
    },
    {
     "data": {
      "application/vnd.jupyter.widget-view+json": {
       "model_id": "4271b6d32d0a45359c42c076d3af7f82",
       "version_major": 2,
       "version_minor": 0
      },
      "text/plain": [
       "HBox(children=(HTML(value=''), FloatProgress(value=0.0, max=386.0), HTML(value='')))"
      ]
     },
     "metadata": {},
     "output_type": "display_data"
    },
    {
     "name": "stdout",
     "output_type": "stream",
     "text": [
      "\n",
      "[-2.5610181559235223e-05, -4.216004647124294e-05, 1.3147421279446903e-06, -1.2870753256132711e-05, -0.0001432573702578599, -8.546307235145212e-06, -1.99365810698085e-06, -6.867076713556325e-06, -7.443156437945617e-05, -0.0002718303094229116, -6.337375163077003e-05, 2.7857924773735943e-05, -1.9781778996176558e-05, -6.078769650674429e-05, -7.55790618672536e-05, 7.105820026914733e-06, -0.0002012851094688184, -1.6050626748864705e-05, -1.0135805805090714e-05, -2.323041552738589e-05, 4.655410395514037e-05, -0.00014823886546039625, -0.00016760708129714627, -2.985529071447557e-05, 6.524997474798011e-06, 8.135745655752508e-05, -3.363903297339682e-05, -8.965230651473283e-06, -2.2837712461983017e-05, -7.118266544007407e-05, -1.766061867764998e-05, -0.00012170127213687737, 1.5047122443323513e-06]\n"
     ]
    },
    {
     "data": {
      "application/vnd.jupyter.widget-view+json": {
       "model_id": "cd73aa9576374103a8c0cf2c325f31ad",
       "version_major": 2,
       "version_minor": 0
      },
      "text/plain": [
       "HBox(children=(HTML(value=''), FloatProgress(value=0.0, max=386.0), HTML(value='')))"
      ]
     },
     "metadata": {},
     "output_type": "display_data"
    },
    {
     "name": "stdout",
     "output_type": "stream",
     "text": [
      "\n",
      "[-2.5610181559235223e-05, -4.216004647124294e-05, 1.3147421279446903e-06, -1.2870753256132711e-05, -0.0001432573702578599, -8.546307235145212e-06, -1.99365810698085e-06, -6.867076713556325e-06, -7.443156437945617e-05, -0.0002718303094229116, -6.337375163077003e-05, 2.7857924773735943e-05, -1.9781778996176558e-05, -6.078769650674429e-05, -7.55790618672536e-05, 7.105820026914733e-06, -0.0002012851094688184, -1.6050626748864705e-05, -1.0135805805090714e-05, -2.323041552738589e-05, 4.655410395514037e-05, -0.00014823886546039625, -0.00016760708129714627, -2.985529071447557e-05, 6.524997474798011e-06, 8.135745655752508e-05, -3.363903297339682e-05, -8.965230651473283e-06, -2.2837712461983017e-05, -7.118266544007407e-05, -1.766061867764998e-05, -0.00012170127213687737, 1.5047122443323513e-06, -0.0001227158183230298]\n"
     ]
    },
    {
     "data": {
      "application/vnd.jupyter.widget-view+json": {
       "model_id": "84cbc51ee17b4be0a11a66f5eab97280",
       "version_major": 2,
       "version_minor": 0
      },
      "text/plain": [
       "HBox(children=(HTML(value=''), FloatProgress(value=0.0, max=386.0), HTML(value='')))"
      ]
     },
     "metadata": {},
     "output_type": "display_data"
    },
    {
     "name": "stdout",
     "output_type": "stream",
     "text": [
      "\n",
      "[-2.5610181559235223e-05, -4.216004647124294e-05, 1.3147421279446903e-06, -1.2870753256132711e-05, -0.0001432573702578599, -8.546307235145212e-06, -1.99365810698085e-06, -6.867076713556325e-06, -7.443156437945617e-05, -0.0002718303094229116, -6.337375163077003e-05, 2.7857924773735943e-05, -1.9781778996176558e-05, -6.078769650674429e-05, -7.55790618672536e-05, 7.105820026914733e-06, -0.0002012851094688184, -1.6050626748864705e-05, -1.0135805805090714e-05, -2.323041552738589e-05, 4.655410395514037e-05, -0.00014823886546039625, -0.00016760708129714627, -2.985529071447557e-05, 6.524997474798011e-06, 8.135745655752508e-05, -3.363903297339682e-05, -8.965230651473283e-06, -2.2837712461983017e-05, -7.118266544007407e-05, -1.766061867764998e-05, -0.00012170127213687737, 1.5047122443323513e-06, -0.0001227158183230298, -0.00011940949193265694]\n"
     ]
    },
    {
     "data": {
      "application/vnd.jupyter.widget-view+json": {
       "model_id": "232f0e630bed460c970ecf919c9c6a65",
       "version_major": 2,
       "version_minor": 0
      },
      "text/plain": [
       "HBox(children=(HTML(value=''), FloatProgress(value=0.0, max=386.0), HTML(value='')))"
      ]
     },
     "metadata": {},
     "output_type": "display_data"
    },
    {
     "name": "stdout",
     "output_type": "stream",
     "text": [
      "\n",
      "[-2.5610181559235223e-05, -4.216004647124294e-05, 1.3147421279446903e-06, -1.2870753256132711e-05, -0.0001432573702578599, -8.546307235145212e-06, -1.99365810698085e-06, -6.867076713556325e-06, -7.443156437945617e-05, -0.0002718303094229116, -6.337375163077003e-05, 2.7857924773735943e-05, -1.9781778996176558e-05, -6.078769650674429e-05, -7.55790618672536e-05, 7.105820026914733e-06, -0.0002012851094688184, -1.6050626748864705e-05, -1.0135805805090714e-05, -2.323041552738589e-05, 4.655410395514037e-05, -0.00014823886546039625, -0.00016760708129714627, -2.985529071447557e-05, 6.524997474798011e-06, 8.135745655752508e-05, -3.363903297339682e-05, -8.965230651473283e-06, -2.2837712461983017e-05, -7.118266544007407e-05, -1.766061867764998e-05, -0.00012170127213687737, 1.5047122443323513e-06, -0.0001227158183230298, -0.00011940949193265694, -3.916962292892928e-05]\n"
     ]
    },
    {
     "data": {
      "application/vnd.jupyter.widget-view+json": {
       "model_id": "0200a91aab19402c9d66fb5fbcbfad2b",
       "version_major": 2,
       "version_minor": 0
      },
      "text/plain": [
       "HBox(children=(HTML(value=''), FloatProgress(value=0.0, max=386.0), HTML(value='')))"
      ]
     },
     "metadata": {},
     "output_type": "display_data"
    },
    {
     "name": "stdout",
     "output_type": "stream",
     "text": [
      "\n",
      "[-2.5610181559235223e-05, -4.216004647124294e-05, 1.3147421279446903e-06, -1.2870753256132711e-05, -0.0001432573702578599, -8.546307235145212e-06, -1.99365810698085e-06, -6.867076713556325e-06, -7.443156437945617e-05, -0.0002718303094229116, -6.337375163077003e-05, 2.7857924773735943e-05, -1.9781778996176558e-05, -6.078769650674429e-05, -7.55790618672536e-05, 7.105820026914733e-06, -0.0002012851094688184, -1.6050626748864705e-05, -1.0135805805090714e-05, -2.323041552738589e-05, 4.655410395514037e-05, -0.00014823886546039625, -0.00016760708129714627, -2.985529071447557e-05, 6.524997474798011e-06, 8.135745655752508e-05, -3.363903297339682e-05, -8.965230651473283e-06, -2.2837712461983017e-05, -7.118266544007407e-05, -1.766061867764998e-05, -0.00012170127213687737, 1.5047122443323513e-06, -0.0001227158183230298, -0.00011940949193265694, -3.916962292892928e-05, 3.539693097080049e-06]\n"
     ]
    },
    {
     "data": {
      "application/vnd.jupyter.widget-view+json": {
       "model_id": "860b5dc57f8e4aa086de24ae17ebbf0f",
       "version_major": 2,
       "version_minor": 0
      },
      "text/plain": [
       "HBox(children=(HTML(value=''), FloatProgress(value=0.0, max=386.0), HTML(value='')))"
      ]
     },
     "metadata": {},
     "output_type": "display_data"
    },
    {
     "name": "stdout",
     "output_type": "stream",
     "text": [
      "\n",
      "[-2.5610181559235223e-05, -4.216004647124294e-05, 1.3147421279446903e-06, -1.2870753256132711e-05, -0.0001432573702578599, -8.546307235145212e-06, -1.99365810698085e-06, -6.867076713556325e-06, -7.443156437945617e-05, -0.0002718303094229116, -6.337375163077003e-05, 2.7857924773735943e-05, -1.9781778996176558e-05, -6.078769650674429e-05, -7.55790618672536e-05, 7.105820026914733e-06, -0.0002012851094688184, -1.6050626748864705e-05, -1.0135805805090714e-05, -2.323041552738589e-05, 4.655410395514037e-05, -0.00014823886546039625, -0.00016760708129714627, -2.985529071447557e-05, 6.524997474798011e-06, 8.135745655752508e-05, -3.363903297339682e-05, -8.965230651473283e-06, -2.2837712461983017e-05, -7.118266544007407e-05, -1.766061867764998e-05, -0.00012170127213687737, 1.5047122443323513e-06, -0.0001227158183230298, -0.00011940949193265694, -3.916962292892928e-05, 3.539693097080049e-06, -8.763751643753315e-05]\n"
     ]
    },
    {
     "data": {
      "application/vnd.jupyter.widget-view+json": {
       "model_id": "a68d82978c334cc9a72d8ecf90f372e8",
       "version_major": 2,
       "version_minor": 0
      },
      "text/plain": [
       "HBox(children=(HTML(value=''), FloatProgress(value=0.0, max=386.0), HTML(value='')))"
      ]
     },
     "metadata": {},
     "output_type": "display_data"
    },
    {
     "name": "stdout",
     "output_type": "stream",
     "text": [
      "\n",
      "[-2.5610181559235223e-05, -4.216004647124294e-05, 1.3147421279446903e-06, -1.2870753256132711e-05, -0.0001432573702578599, -8.546307235145212e-06, -1.99365810698085e-06, -6.867076713556325e-06, -7.443156437945617e-05, -0.0002718303094229116, -6.337375163077003e-05, 2.7857924773735943e-05, -1.9781778996176558e-05, -6.078769650674429e-05, -7.55790618672536e-05, 7.105820026914733e-06, -0.0002012851094688184, -1.6050626748864705e-05, -1.0135805805090714e-05, -2.323041552738589e-05, 4.655410395514037e-05, -0.00014823886546039625, -0.00016760708129714627, -2.985529071447557e-05, 6.524997474798011e-06, 8.135745655752508e-05, -3.363903297339682e-05, -8.965230651473283e-06, -2.2837712461983017e-05, -7.118266544007407e-05, -1.766061867764998e-05, -0.00012170127213687737, 1.5047122443323513e-06, -0.0001227158183230298, -0.00011940949193265694, -3.916962292892928e-05, 3.539693097080049e-06, -8.763751643753315e-05, -3.684727537296706e-05]\n"
     ]
    },
    {
     "data": {
      "application/vnd.jupyter.widget-view+json": {
       "model_id": "0bbe2d4fdef0453fa86f3d348aaa2236",
       "version_major": 2,
       "version_minor": 0
      },
      "text/plain": [
       "HBox(children=(HTML(value=''), FloatProgress(value=0.0, max=386.0), HTML(value='')))"
      ]
     },
     "metadata": {},
     "output_type": "display_data"
    },
    {
     "name": "stdout",
     "output_type": "stream",
     "text": [
      "\n",
      "[-2.5610181559235223e-05, -4.216004647124294e-05, 1.3147421279446903e-06, -1.2870753256132711e-05, -0.0001432573702578599, -8.546307235145212e-06, -1.99365810698085e-06, -6.867076713556325e-06, -7.443156437945617e-05, -0.0002718303094229116, -6.337375163077003e-05, 2.7857924773735943e-05, -1.9781778996176558e-05, -6.078769650674429e-05, -7.55790618672536e-05, 7.105820026914733e-06, -0.0002012851094688184, -1.6050626748864705e-05, -1.0135805805090714e-05, -2.323041552738589e-05, 4.655410395514037e-05, -0.00014823886546039625, -0.00016760708129714627, -2.985529071447557e-05, 6.524997474798011e-06, 8.135745655752508e-05, -3.363903297339682e-05, -8.965230651473283e-06, -2.2837712461983017e-05, -7.118266544007407e-05, -1.766061867764998e-05, -0.00012170127213687737, 1.5047122443323513e-06, -0.0001227158183230298, -0.00011940949193265694, -3.916962292892928e-05, 3.539693097080049e-06, -8.763751643753315e-05, -3.684727537296706e-05, -4.41268459439384e-06]\n"
     ]
    },
    {
     "data": {
      "application/vnd.jupyter.widget-view+json": {
       "model_id": "1f94fd60c881429eae0da12fbea0d07a",
       "version_major": 2,
       "version_minor": 0
      },
      "text/plain": [
       "HBox(children=(HTML(value=''), FloatProgress(value=0.0, max=386.0), HTML(value='')))"
      ]
     },
     "metadata": {},
     "output_type": "display_data"
    },
    {
     "name": "stdout",
     "output_type": "stream",
     "text": [
      "\n",
      "[-2.5610181559235223e-05, -4.216004647124294e-05, 1.3147421279446903e-06, -1.2870753256132711e-05, -0.0001432573702578599, -8.546307235145212e-06, -1.99365810698085e-06, -6.867076713556325e-06, -7.443156437945617e-05, -0.0002718303094229116, -6.337375163077003e-05, 2.7857924773735943e-05, -1.9781778996176558e-05, -6.078769650674429e-05, -7.55790618672536e-05, 7.105820026914733e-06, -0.0002012851094688184, -1.6050626748864705e-05, -1.0135805805090714e-05, -2.323041552738589e-05, 4.655410395514037e-05, -0.00014823886546039625, -0.00016760708129714627, -2.985529071447557e-05, 6.524997474798011e-06, 8.135745655752508e-05, -3.363903297339682e-05, -8.965230651473283e-06, -2.2837712461983017e-05, -7.118266544007407e-05, -1.766061867764998e-05, -0.00012170127213687737, 1.5047122443323513e-06, -0.0001227158183230298, -0.00011940949193265694, -3.916962292892928e-05, 3.539693097080049e-06, -8.763751643753315e-05, -3.684727537296706e-05, -4.41268459439384e-06, 2.4400292485821096e-07]\n"
     ]
    },
    {
     "data": {
      "application/vnd.jupyter.widget-view+json": {
       "model_id": "60b26eea4ab447c59e064bfe9422a279",
       "version_major": 2,
       "version_minor": 0
      },
      "text/plain": [
       "HBox(children=(HTML(value=''), FloatProgress(value=0.0, max=386.0), HTML(value='')))"
      ]
     },
     "metadata": {},
     "output_type": "display_data"
    },
    {
     "name": "stdout",
     "output_type": "stream",
     "text": [
      "\n",
      "[-2.5610181559235223e-05, -4.216004647124294e-05, 1.3147421279446903e-06, -1.2870753256132711e-05, -0.0001432573702578599, -8.546307235145212e-06, -1.99365810698085e-06, -6.867076713556325e-06, -7.443156437945617e-05, -0.0002718303094229116, -6.337375163077003e-05, 2.7857924773735943e-05, -1.9781778996176558e-05, -6.078769650674429e-05, -7.55790618672536e-05, 7.105820026914733e-06, -0.0002012851094688184, -1.6050626748864705e-05, -1.0135805805090714e-05, -2.323041552738589e-05, 4.655410395514037e-05, -0.00014823886546039625, -0.00016760708129714627, -2.985529071447557e-05, 6.524997474798011e-06, 8.135745655752508e-05, -3.363903297339682e-05, -8.965230651473283e-06, -2.2837712461983017e-05, -7.118266544007407e-05, -1.766061867764998e-05, -0.00012170127213687737, 1.5047122443323513e-06, -0.0001227158183230298, -0.00011940949193265694, -3.916962292892928e-05, 3.539693097080049e-06, -8.763751643753315e-05, -3.684727537296706e-05, -4.41268459439384e-06, 2.4400292485821096e-07, -2.2110630263014186e-05]\n"
     ]
    },
    {
     "data": {
      "application/vnd.jupyter.widget-view+json": {
       "model_id": "f37a1c915c83480bae8dbe57e4b9d5ed",
       "version_major": 2,
       "version_minor": 0
      },
      "text/plain": [
       "HBox(children=(HTML(value=''), FloatProgress(value=0.0, max=386.0), HTML(value='')))"
      ]
     },
     "metadata": {},
     "output_type": "display_data"
    },
    {
     "name": "stdout",
     "output_type": "stream",
     "text": [
      "\n",
      "[-2.5610181559235223e-05, -4.216004647124294e-05, 1.3147421279446903e-06, -1.2870753256132711e-05, -0.0001432573702578599, -8.546307235145212e-06, -1.99365810698085e-06, -6.867076713556325e-06, -7.443156437945617e-05, -0.0002718303094229116, -6.337375163077003e-05, 2.7857924773735943e-05, -1.9781778996176558e-05, -6.078769650674429e-05, -7.55790618672536e-05, 7.105820026914733e-06, -0.0002012851094688184, -1.6050626748864705e-05, -1.0135805805090714e-05, -2.323041552738589e-05, 4.655410395514037e-05, -0.00014823886546039625, -0.00016760708129714627, -2.985529071447557e-05, 6.524997474798011e-06, 8.135745655752508e-05, -3.363903297339682e-05, -8.965230651473283e-06, -2.2837712461983017e-05, -7.118266544007407e-05, -1.766061867764998e-05, -0.00012170127213687737, 1.5047122443323513e-06, -0.0001227158183230298, -0.00011940949193265694, -3.916962292892928e-05, 3.539693097080049e-06, -8.763751643753315e-05, -3.684727537296706e-05, -4.41268459439384e-06, 2.4400292485821096e-07, -2.2110630263014186e-05, 3.7525657388091938e-06]\n"
     ]
    },
    {
     "data": {
      "application/vnd.jupyter.widget-view+json": {
       "model_id": "1c19cc3fdcd54345b0c72250b377b5c8",
       "version_major": 2,
       "version_minor": 0
      },
      "text/plain": [
       "HBox(children=(HTML(value=''), FloatProgress(value=0.0, max=386.0), HTML(value='')))"
      ]
     },
     "metadata": {},
     "output_type": "display_data"
    },
    {
     "name": "stdout",
     "output_type": "stream",
     "text": [
      "\n",
      "[-2.5610181559235223e-05, -4.216004647124294e-05, 1.3147421279446903e-06, -1.2870753256132711e-05, -0.0001432573702578599, -8.546307235145212e-06, -1.99365810698085e-06, -6.867076713556325e-06, -7.443156437945617e-05, -0.0002718303094229116, -6.337375163077003e-05, 2.7857924773735943e-05, -1.9781778996176558e-05, -6.078769650674429e-05, -7.55790618672536e-05, 7.105820026914733e-06, -0.0002012851094688184, -1.6050626748864705e-05, -1.0135805805090714e-05, -2.323041552738589e-05, 4.655410395514037e-05, -0.00014823886546039625, -0.00016760708129714627, -2.985529071447557e-05, 6.524997474798011e-06, 8.135745655752508e-05, -3.363903297339682e-05, -8.965230651473283e-06, -2.2837712461983017e-05, -7.118266544007407e-05, -1.766061867764998e-05, -0.00012170127213687737, 1.5047122443323513e-06, -0.0001227158183230298, -0.00011940949193265694, -3.916962292892928e-05, 3.539693097080049e-06, -8.763751643753315e-05, -3.684727537296706e-05, -4.41268459439384e-06, 2.4400292485821096e-07, -2.2110630263014186e-05, 3.7525657388091938e-06, -0.0001191425541497218]\n"
     ]
    },
    {
     "data": {
      "application/vnd.jupyter.widget-view+json": {
       "model_id": "c0a2d159c38a4dac927b9e9d99aeae3c",
       "version_major": 2,
       "version_minor": 0
      },
      "text/plain": [
       "HBox(children=(HTML(value=''), FloatProgress(value=0.0, max=386.0), HTML(value='')))"
      ]
     },
     "metadata": {},
     "output_type": "display_data"
    },
    {
     "name": "stdout",
     "output_type": "stream",
     "text": [
      "\n",
      "[-2.5610181559235223e-05, -4.216004647124294e-05, 1.3147421279446903e-06, -1.2870753256132711e-05, -0.0001432573702578599, -8.546307235145212e-06, -1.99365810698085e-06, -6.867076713556325e-06, -7.443156437945617e-05, -0.0002718303094229116, -6.337375163077003e-05, 2.7857924773735943e-05, -1.9781778996176558e-05, -6.078769650674429e-05, -7.55790618672536e-05, 7.105820026914733e-06, -0.0002012851094688184, -1.6050626748864705e-05, -1.0135805805090714e-05, -2.323041552738589e-05, 4.655410395514037e-05, -0.00014823886546039625, -0.00016760708129714627, -2.985529071447557e-05, 6.524997474798011e-06, 8.135745655752508e-05, -3.363903297339682e-05, -8.965230651473283e-06, -2.2837712461983017e-05, -7.118266544007407e-05, -1.766061867764998e-05, -0.00012170127213687737, 1.5047122443323513e-06, -0.0001227158183230298, -0.00011940949193265694, -3.916962292892928e-05, 3.539693097080049e-06, -8.763751643753315e-05, -3.684727537296706e-05, -4.41268459439384e-06, 2.4400292485821096e-07, -2.2110630263014186e-05, 3.7525657388091938e-06, -0.0001191425541497218, -1.0196735914153043e-05]\n"
     ]
    },
    {
     "data": {
      "application/vnd.jupyter.widget-view+json": {
       "model_id": "474c643f180042aeb2e20b02c7de6281",
       "version_major": 2,
       "version_minor": 0
      },
      "text/plain": [
       "HBox(children=(HTML(value=''), FloatProgress(value=0.0, max=386.0), HTML(value='')))"
      ]
     },
     "metadata": {},
     "output_type": "display_data"
    },
    {
     "name": "stdout",
     "output_type": "stream",
     "text": [
      "\n",
      "[-2.5610181559235223e-05, -4.216004647124294e-05, 1.3147421279446903e-06, -1.2870753256132711e-05, -0.0001432573702578599, -8.546307235145212e-06, -1.99365810698085e-06, -6.867076713556325e-06, -7.443156437945617e-05, -0.0002718303094229116, -6.337375163077003e-05, 2.7857924773735943e-05, -1.9781778996176558e-05, -6.078769650674429e-05, -7.55790618672536e-05, 7.105820026914733e-06, -0.0002012851094688184, -1.6050626748864705e-05, -1.0135805805090714e-05, -2.323041552738589e-05, 4.655410395514037e-05, -0.00014823886546039625, -0.00016760708129714627, -2.985529071447557e-05, 6.524997474798011e-06, 8.135745655752508e-05, -3.363903297339682e-05, -8.965230651473283e-06, -2.2837712461983017e-05, -7.118266544007407e-05, -1.766061867764998e-05, -0.00012170127213687737, 1.5047122443323513e-06, -0.0001227158183230298, -0.00011940949193265694, -3.916962292892928e-05, 3.539693097080049e-06, -8.763751643753315e-05, -3.684727537296706e-05, -4.41268459439384e-06, 2.4400292485821096e-07, -2.2110630263014186e-05, 3.7525657388091938e-06, -0.0001191425541497218, -1.0196735914153043e-05, -4.80464542838982e-05]\n"
     ]
    },
    {
     "data": {
      "application/vnd.jupyter.widget-view+json": {
       "model_id": "448bf266480f413f849d02397f965590",
       "version_major": 2,
       "version_minor": 0
      },
      "text/plain": [
       "HBox(children=(HTML(value=''), FloatProgress(value=0.0, max=386.0), HTML(value='')))"
      ]
     },
     "metadata": {},
     "output_type": "display_data"
    },
    {
     "name": "stdout",
     "output_type": "stream",
     "text": [
      "\n",
      "[-2.5610181559235223e-05, -4.216004647124294e-05, 1.3147421279446903e-06, -1.2870753256132711e-05, -0.0001432573702578599, -8.546307235145212e-06, -1.99365810698085e-06, -6.867076713556325e-06, -7.443156437945617e-05, -0.0002718303094229116, -6.337375163077003e-05, 2.7857924773735943e-05, -1.9781778996176558e-05, -6.078769650674429e-05, -7.55790618672536e-05, 7.105820026914733e-06, -0.0002012851094688184, -1.6050626748864705e-05, -1.0135805805090714e-05, -2.323041552738589e-05, 4.655410395514037e-05, -0.00014823886546039625, -0.00016760708129714627, -2.985529071447557e-05, 6.524997474798011e-06, 8.135745655752508e-05, -3.363903297339682e-05, -8.965230651473283e-06, -2.2837712461983017e-05, -7.118266544007407e-05, -1.766061867764998e-05, -0.00012170127213687737, 1.5047122443323513e-06, -0.0001227158183230298, -0.00011940949193265694, -3.916962292892928e-05, 3.539693097080049e-06, -8.763751643753315e-05, -3.684727537296706e-05, -4.41268459439384e-06, 2.4400292485821096e-07, -2.2110630263014186e-05, 3.7525657388091938e-06, -0.0001191425541497218, -1.0196735914153043e-05, -4.80464542838982e-05, -8.808836973239406e-05]\n"
     ]
    },
    {
     "data": {
      "application/vnd.jupyter.widget-view+json": {
       "model_id": "b0cb3403839643cc88f59ab8c9c1f16b",
       "version_major": 2,
       "version_minor": 0
      },
      "text/plain": [
       "HBox(children=(HTML(value=''), FloatProgress(value=0.0, max=386.0), HTML(value='')))"
      ]
     },
     "metadata": {},
     "output_type": "display_data"
    },
    {
     "name": "stdout",
     "output_type": "stream",
     "text": [
      "\n",
      "[-2.5610181559235223e-05, -4.216004647124294e-05, 1.3147421279446903e-06, -1.2870753256132711e-05, -0.0001432573702578599, -8.546307235145212e-06, -1.99365810698085e-06, -6.867076713556325e-06, -7.443156437945617e-05, -0.0002718303094229116, -6.337375163077003e-05, 2.7857924773735943e-05, -1.9781778996176558e-05, -6.078769650674429e-05, -7.55790618672536e-05, 7.105820026914733e-06, -0.0002012851094688184, -1.6050626748864705e-05, -1.0135805805090714e-05, -2.323041552738589e-05, 4.655410395514037e-05, -0.00014823886546039625, -0.00016760708129714627, -2.985529071447557e-05, 6.524997474798011e-06, 8.135745655752508e-05, -3.363903297339682e-05, -8.965230651473283e-06, -2.2837712461983017e-05, -7.118266544007407e-05, -1.766061867764998e-05, -0.00012170127213687737, 1.5047122443323513e-06, -0.0001227158183230298, -0.00011940949193265694, -3.916962292892928e-05, 3.539693097080049e-06, -8.763751643753315e-05, -3.684727537296706e-05, -4.41268459439384e-06, 2.4400292485821096e-07, -2.2110630263014186e-05, 3.7525657388091938e-06, -0.0001191425541497218, -1.0196735914153043e-05, -4.80464542838982e-05, -8.808836973239406e-05, -8.172190204750601e-05]\n"
     ]
    },
    {
     "data": {
      "application/vnd.jupyter.widget-view+json": {
       "model_id": "62ebf78a1a704cab977f99899aa60d59",
       "version_major": 2,
       "version_minor": 0
      },
      "text/plain": [
       "HBox(children=(HTML(value=''), FloatProgress(value=0.0, max=386.0), HTML(value='')))"
      ]
     },
     "metadata": {},
     "output_type": "display_data"
    },
    {
     "name": "stdout",
     "output_type": "stream",
     "text": [
      "\n",
      "[-2.5610181559235223e-05, -4.216004647124294e-05, 1.3147421279446903e-06, -1.2870753256132711e-05, -0.0001432573702578599, -8.546307235145212e-06, -1.99365810698085e-06, -6.867076713556325e-06, -7.443156437945617e-05, -0.0002718303094229116, -6.337375163077003e-05, 2.7857924773735943e-05, -1.9781778996176558e-05, -6.078769650674429e-05, -7.55790618672536e-05, 7.105820026914733e-06, -0.0002012851094688184, -1.6050626748864705e-05, -1.0135805805090714e-05, -2.323041552738589e-05, 4.655410395514037e-05, -0.00014823886546039625, -0.00016760708129714627, -2.985529071447557e-05, 6.524997474798011e-06, 8.135745655752508e-05, -3.363903297339682e-05, -8.965230651473283e-06, -2.2837712461983017e-05, -7.118266544007407e-05, -1.766061867764998e-05, -0.00012170127213687737, 1.5047122443323513e-06, -0.0001227158183230298, -0.00011940949193265694, -3.916962292892928e-05, 3.539693097080049e-06, -8.763751643753315e-05, -3.684727537296706e-05, -4.41268459439384e-06, 2.4400292485821096e-07, -2.2110630263014186e-05, 3.7525657388091938e-06, -0.0001191425541497218, -1.0196735914153043e-05, -4.80464542838982e-05, -8.808836973239406e-05, -8.172190204750601e-05, -8.490312013154783e-06]\n"
     ]
    },
    {
     "data": {
      "application/vnd.jupyter.widget-view+json": {
       "model_id": "e53c93c9133b4898bef7a18e6424db6f",
       "version_major": 2,
       "version_minor": 0
      },
      "text/plain": [
       "HBox(children=(HTML(value=''), FloatProgress(value=0.0, max=386.0), HTML(value='')))"
      ]
     },
     "metadata": {},
     "output_type": "display_data"
    },
    {
     "name": "stdout",
     "output_type": "stream",
     "text": [
      "\n",
      "[-2.5610181559235223e-05, -4.216004647124294e-05, 1.3147421279446903e-06, -1.2870753256132711e-05, -0.0001432573702578599, -8.546307235145212e-06, -1.99365810698085e-06, -6.867076713556325e-06, -7.443156437945617e-05, -0.0002718303094229116, -6.337375163077003e-05, 2.7857924773735943e-05, -1.9781778996176558e-05, -6.078769650674429e-05, -7.55790618672536e-05, 7.105820026914733e-06, -0.0002012851094688184, -1.6050626748864705e-05, -1.0135805805090714e-05, -2.323041552738589e-05, 4.655410395514037e-05, -0.00014823886546039625, -0.00016760708129714627, -2.985529071447557e-05, 6.524997474798011e-06, 8.135745655752508e-05, -3.363903297339682e-05, -8.965230651473283e-06, -2.2837712461983017e-05, -7.118266544007407e-05, -1.766061867764998e-05, -0.00012170127213687737, 1.5047122443323513e-06, -0.0001227158183230298, -0.00011940949193265694, -3.916962292892928e-05, 3.539693097080049e-06, -8.763751643753315e-05, -3.684727537296706e-05, -4.41268459439384e-06, 2.4400292485821096e-07, -2.2110630263014186e-05, 3.7525657388091938e-06, -0.0001191425541497218, -1.0196735914153043e-05, -4.80464542838982e-05, -8.808836973239406e-05, -8.172190204750601e-05, -8.490312013154783e-06, -2.9264768684745396e-05]\n"
     ]
    },
    {
     "data": {
      "application/vnd.jupyter.widget-view+json": {
       "model_id": "17a0d6527ffa4b269de1149a19bd53e2",
       "version_major": 2,
       "version_minor": 0
      },
      "text/plain": [
       "HBox(children=(HTML(value=''), FloatProgress(value=0.0, max=386.0), HTML(value='')))"
      ]
     },
     "metadata": {},
     "output_type": "display_data"
    },
    {
     "name": "stdout",
     "output_type": "stream",
     "text": [
      "\n",
      "[-2.5610181559235223e-05, -4.216004647124294e-05, 1.3147421279446903e-06, -1.2870753256132711e-05, -0.0001432573702578599, -8.546307235145212e-06, -1.99365810698085e-06, -6.867076713556325e-06, -7.443156437945617e-05, -0.0002718303094229116, -6.337375163077003e-05, 2.7857924773735943e-05, -1.9781778996176558e-05, -6.078769650674429e-05, -7.55790618672536e-05, 7.105820026914733e-06, -0.0002012851094688184, -1.6050626748864705e-05, -1.0135805805090714e-05, -2.323041552738589e-05, 4.655410395514037e-05, -0.00014823886546039625, -0.00016760708129714627, -2.985529071447557e-05, 6.524997474798011e-06, 8.135745655752508e-05, -3.363903297339682e-05, -8.965230651473283e-06, -2.2837712461983017e-05, -7.118266544007407e-05, -1.766061867764998e-05, -0.00012170127213687737, 1.5047122443323513e-06, -0.0001227158183230298, -0.00011940949193265694, -3.916962292892928e-05, 3.539693097080049e-06, -8.763751643753315e-05, -3.684727537296706e-05, -4.41268459439384e-06, 2.4400292485821096e-07, -2.2110630263014186e-05, 3.7525657388091938e-06, -0.0001191425541497218, -1.0196735914153043e-05, -4.80464542838982e-05, -8.808836973239406e-05, -8.172190204750601e-05, -8.490312013154783e-06, -2.9264768684745396e-05, 4.668554721786594e-05]\n"
     ]
    },
    {
     "data": {
      "application/vnd.jupyter.widget-view+json": {
       "model_id": "cd9b0e5ae2604dbd95ee4dd447c1b0ac",
       "version_major": 2,
       "version_minor": 0
      },
      "text/plain": [
       "HBox(children=(HTML(value=''), FloatProgress(value=0.0, max=386.0), HTML(value='')))"
      ]
     },
     "metadata": {},
     "output_type": "display_data"
    },
    {
     "name": "stdout",
     "output_type": "stream",
     "text": [
      "\n",
      "[-2.5610181559235223e-05, -4.216004647124294e-05, 1.3147421279446903e-06, -1.2870753256132711e-05, -0.0001432573702578599, -8.546307235145212e-06, -1.99365810698085e-06, -6.867076713556325e-06, -7.443156437945617e-05, -0.0002718303094229116, -6.337375163077003e-05, 2.7857924773735943e-05, -1.9781778996176558e-05, -6.078769650674429e-05, -7.55790618672536e-05, 7.105820026914733e-06, -0.0002012851094688184, -1.6050626748864705e-05, -1.0135805805090714e-05, -2.323041552738589e-05, 4.655410395514037e-05, -0.00014823886546039625, -0.00016760708129714627, -2.985529071447557e-05, 6.524997474798011e-06, 8.135745655752508e-05, -3.363903297339682e-05, -8.965230651473283e-06, -2.2837712461983017e-05, -7.118266544007407e-05, -1.766061867764998e-05, -0.00012170127213687737, 1.5047122443323513e-06, -0.0001227158183230298, -0.00011940949193265694, -3.916962292892928e-05, 3.539693097080049e-06, -8.763751643753315e-05, -3.684727537296706e-05, -4.41268459439384e-06, 2.4400292485821096e-07, -2.2110630263014186e-05, 3.7525657388091938e-06, -0.0001191425541497218, -1.0196735914153043e-05, -4.80464542838982e-05, -8.808836973239406e-05, -8.172190204750601e-05, -8.490312013154783e-06, -2.9264768684745396e-05, 4.668554721786594e-05, -0.0002916607402375926]\n"
     ]
    },
    {
     "data": {
      "application/vnd.jupyter.widget-view+json": {
       "model_id": "29687dc51a8d4f7783eb852a7ca03bac",
       "version_major": 2,
       "version_minor": 0
      },
      "text/plain": [
       "HBox(children=(HTML(value=''), FloatProgress(value=0.0, max=386.0), HTML(value='')))"
      ]
     },
     "metadata": {},
     "output_type": "display_data"
    },
    {
     "name": "stdout",
     "output_type": "stream",
     "text": [
      "\n",
      "[-2.5610181559235223e-05, -4.216004647124294e-05, 1.3147421279446903e-06, -1.2870753256132711e-05, -0.0001432573702578599, -8.546307235145212e-06, -1.99365810698085e-06, -6.867076713556325e-06, -7.443156437945617e-05, -0.0002718303094229116, -6.337375163077003e-05, 2.7857924773735943e-05, -1.9781778996176558e-05, -6.078769650674429e-05, -7.55790618672536e-05, 7.105820026914733e-06, -0.0002012851094688184, -1.6050626748864705e-05, -1.0135805805090714e-05, -2.323041552738589e-05, 4.655410395514037e-05, -0.00014823886546039625, -0.00016760708129714627, -2.985529071447557e-05, 6.524997474798011e-06, 8.135745655752508e-05, -3.363903297339682e-05, -8.965230651473283e-06, -2.2837712461983017e-05, -7.118266544007407e-05, -1.766061867764998e-05, -0.00012170127213687737, 1.5047122443323513e-06, -0.0001227158183230298, -0.00011940949193265694, -3.916962292892928e-05, 3.539693097080049e-06, -8.763751643753315e-05, -3.684727537296706e-05, -4.41268459439384e-06, 2.4400292485821096e-07, -2.2110630263014186e-05, 3.7525657388091938e-06, -0.0001191425541497218, -1.0196735914153043e-05, -4.80464542838982e-05, -8.808836973239406e-05, -8.172190204750601e-05, -8.490312013154783e-06, -2.9264768684745396e-05, 4.668554721786594e-05, -0.0002916607402375926, -3.597293081297748e-05]\n"
     ]
    },
    {
     "data": {
      "application/vnd.jupyter.widget-view+json": {
       "model_id": "eb643555b39946b1bf8af8c129a29239",
       "version_major": 2,
       "version_minor": 0
      },
      "text/plain": [
       "HBox(children=(HTML(value=''), FloatProgress(value=0.0, max=386.0), HTML(value='')))"
      ]
     },
     "metadata": {},
     "output_type": "display_data"
    },
    {
     "name": "stdout",
     "output_type": "stream",
     "text": [
      "\n",
      "[-2.5610181559235223e-05, -4.216004647124294e-05, 1.3147421279446903e-06, -1.2870753256132711e-05, -0.0001432573702578599, -8.546307235145212e-06, -1.99365810698085e-06, -6.867076713556325e-06, -7.443156437945617e-05, -0.0002718303094229116, -6.337375163077003e-05, 2.7857924773735943e-05, -1.9781778996176558e-05, -6.078769650674429e-05, -7.55790618672536e-05, 7.105820026914733e-06, -0.0002012851094688184, -1.6050626748864705e-05, -1.0135805805090714e-05, -2.323041552738589e-05, 4.655410395514037e-05, -0.00014823886546039625, -0.00016760708129714627, -2.985529071447557e-05, 6.524997474798011e-06, 8.135745655752508e-05, -3.363903297339682e-05, -8.965230651473283e-06, -2.2837712461983017e-05, -7.118266544007407e-05, -1.766061867764998e-05, -0.00012170127213687737, 1.5047122443323513e-06, -0.0001227158183230298, -0.00011940949193265694, -3.916962292892928e-05, 3.539693097080049e-06, -8.763751643753315e-05, -3.684727537296706e-05, -4.41268459439384e-06, 2.4400292485821096e-07, -2.2110630263014186e-05, 3.7525657388091938e-06, -0.0001191425541497218, -1.0196735914153043e-05, -4.80464542838982e-05, -8.808836973239406e-05, -8.172190204750601e-05, -8.490312013154783e-06, -2.9264768684745396e-05, 4.668554721786594e-05, -0.0002916607402375926, -3.597293081297748e-05, 2.5341724583915343e-05]\n"
     ]
    },
    {
     "data": {
      "application/vnd.jupyter.widget-view+json": {
       "model_id": "12e870583baa4de69f6afa4c278d4b60",
       "version_major": 2,
       "version_minor": 0
      },
      "text/plain": [
       "HBox(children=(HTML(value=''), FloatProgress(value=0.0, max=386.0), HTML(value='')))"
      ]
     },
     "metadata": {},
     "output_type": "display_data"
    },
    {
     "name": "stdout",
     "output_type": "stream",
     "text": [
      "\n",
      "[-2.5610181559235223e-05, -4.216004647124294e-05, 1.3147421279446903e-06, -1.2870753256132711e-05, -0.0001432573702578599, -8.546307235145212e-06, -1.99365810698085e-06, -6.867076713556325e-06, -7.443156437945617e-05, -0.0002718303094229116, -6.337375163077003e-05, 2.7857924773735943e-05, -1.9781778996176558e-05, -6.078769650674429e-05, -7.55790618672536e-05, 7.105820026914733e-06, -0.0002012851094688184, -1.6050626748864705e-05, -1.0135805805090714e-05, -2.323041552738589e-05, 4.655410395514037e-05, -0.00014823886546039625, -0.00016760708129714627, -2.985529071447557e-05, 6.524997474798011e-06, 8.135745655752508e-05, -3.363903297339682e-05, -8.965230651473283e-06, -2.2837712461983017e-05, -7.118266544007407e-05, -1.766061867764998e-05, -0.00012170127213687737, 1.5047122443323513e-06, -0.0001227158183230298, -0.00011940949193265694, -3.916962292892928e-05, 3.539693097080049e-06, -8.763751643753315e-05, -3.684727537296706e-05, -4.41268459439384e-06, 2.4400292485821096e-07, -2.2110630263014186e-05, 3.7525657388091938e-06, -0.0001191425541497218, -1.0196735914153043e-05, -4.80464542838982e-05, -8.808836973239406e-05, -8.172190204750601e-05, -8.490312013154783e-06, -2.9264768684745396e-05, 4.668554721786594e-05, -0.0002916607402375926, -3.597293081297748e-05, 2.5341724583915343e-05, -1.0963029660124302e-07]\n"
     ]
    },
    {
     "data": {
      "application/vnd.jupyter.widget-view+json": {
       "model_id": "0fac91b39af9498ba69f3171efa5000b",
       "version_major": 2,
       "version_minor": 0
      },
      "text/plain": [
       "HBox(children=(HTML(value=''), FloatProgress(value=0.0, max=386.0), HTML(value='')))"
      ]
     },
     "metadata": {},
     "output_type": "display_data"
    },
    {
     "name": "stdout",
     "output_type": "stream",
     "text": [
      "\n",
      "[-2.5610181559235223e-05, -4.216004647124294e-05, 1.3147421279446903e-06, -1.2870753256132711e-05, -0.0001432573702578599, -8.546307235145212e-06, -1.99365810698085e-06, -6.867076713556325e-06, -7.443156437945617e-05, -0.0002718303094229116, -6.337375163077003e-05, 2.7857924773735943e-05, -1.9781778996176558e-05, -6.078769650674429e-05, -7.55790618672536e-05, 7.105820026914733e-06, -0.0002012851094688184, -1.6050626748864705e-05, -1.0135805805090714e-05, -2.323041552738589e-05, 4.655410395514037e-05, -0.00014823886546039625, -0.00016760708129714627, -2.985529071447557e-05, 6.524997474798011e-06, 8.135745655752508e-05, -3.363903297339682e-05, -8.965230651473283e-06, -2.2837712461983017e-05, -7.118266544007407e-05, -1.766061867764998e-05, -0.00012170127213687737, 1.5047122443323513e-06, -0.0001227158183230298, -0.00011940949193265694, -3.916962292892928e-05, 3.539693097080049e-06, -8.763751643753315e-05, -3.684727537296706e-05, -4.41268459439384e-06, 2.4400292485821096e-07, -2.2110630263014186e-05, 3.7525657388091938e-06, -0.0001191425541497218, -1.0196735914153043e-05, -4.80464542838982e-05, -8.808836973239406e-05, -8.172190204750601e-05, -8.490312013154783e-06, -2.9264768684745396e-05, 4.668554721786594e-05, -0.0002916607402375926, -3.597293081297748e-05, 2.5341724583915343e-05, -1.0963029660124302e-07, -0.00011030396222402178]\n"
     ]
    },
    {
     "data": {
      "application/vnd.jupyter.widget-view+json": {
       "model_id": "4077eb41f60f4c548b018312ef147c0d",
       "version_major": 2,
       "version_minor": 0
      },
      "text/plain": [
       "HBox(children=(HTML(value=''), FloatProgress(value=0.0, max=386.0), HTML(value='')))"
      ]
     },
     "metadata": {},
     "output_type": "display_data"
    },
    {
     "name": "stdout",
     "output_type": "stream",
     "text": [
      "\n",
      "[-2.5610181559235223e-05, -4.216004647124294e-05, 1.3147421279446903e-06, -1.2870753256132711e-05, -0.0001432573702578599, -8.546307235145212e-06, -1.99365810698085e-06, -6.867076713556325e-06, -7.443156437945617e-05, -0.0002718303094229116, -6.337375163077003e-05, 2.7857924773735943e-05, -1.9781778996176558e-05, -6.078769650674429e-05, -7.55790618672536e-05, 7.105820026914733e-06, -0.0002012851094688184, -1.6050626748864705e-05, -1.0135805805090714e-05, -2.323041552738589e-05, 4.655410395514037e-05, -0.00014823886546039625, -0.00016760708129714627, -2.985529071447557e-05, 6.524997474798011e-06, 8.135745655752508e-05, -3.363903297339682e-05, -8.965230651473283e-06, -2.2837712461983017e-05, -7.118266544007407e-05, -1.766061867764998e-05, -0.00012170127213687737, 1.5047122443323513e-06, -0.0001227158183230298, -0.00011940949193265694, -3.916962292892928e-05, 3.539693097080049e-06, -8.763751643753315e-05, -3.684727537296706e-05, -4.41268459439384e-06, 2.4400292485821096e-07, -2.2110630263014186e-05, 3.7525657388091938e-06, -0.0001191425541497218, -1.0196735914153043e-05, -4.80464542838982e-05, -8.808836973239406e-05, -8.172190204750601e-05, -8.490312013154783e-06, -2.9264768684745396e-05, 4.668554721786594e-05, -0.0002916607402375926, -3.597293081297748e-05, 2.5341724583915343e-05, -1.0963029660124302e-07, -0.00011030396222402178, -5.44001383027265e-06]\n"
     ]
    },
    {
     "data": {
      "application/vnd.jupyter.widget-view+json": {
       "model_id": "f81dadc3eb2b4c1bbdc21d3bcf7ed5dc",
       "version_major": 2,
       "version_minor": 0
      },
      "text/plain": [
       "HBox(children=(HTML(value=''), FloatProgress(value=0.0, max=386.0), HTML(value='')))"
      ]
     },
     "metadata": {},
     "output_type": "display_data"
    },
    {
     "name": "stdout",
     "output_type": "stream",
     "text": [
      "\n",
      "[-2.5610181559235223e-05, -4.216004647124294e-05, 1.3147421279446903e-06, -1.2870753256132711e-05, -0.0001432573702578599, -8.546307235145212e-06, -1.99365810698085e-06, -6.867076713556325e-06, -7.443156437945617e-05, -0.0002718303094229116, -6.337375163077003e-05, 2.7857924773735943e-05, -1.9781778996176558e-05, -6.078769650674429e-05, -7.55790618672536e-05, 7.105820026914733e-06, -0.0002012851094688184, -1.6050626748864705e-05, -1.0135805805090714e-05, -2.323041552738589e-05, 4.655410395514037e-05, -0.00014823886546039625, -0.00016760708129714627, -2.985529071447557e-05, 6.524997474798011e-06, 8.135745655752508e-05, -3.363903297339682e-05, -8.965230651473283e-06, -2.2837712461983017e-05, -7.118266544007407e-05, -1.766061867764998e-05, -0.00012170127213687737, 1.5047122443323513e-06, -0.0001227158183230298, -0.00011940949193265694, -3.916962292892928e-05, 3.539693097080049e-06, -8.763751643753315e-05, -3.684727537296706e-05, -4.41268459439384e-06, 2.4400292485821096e-07, -2.2110630263014186e-05, 3.7525657388091938e-06, -0.0001191425541497218, -1.0196735914153043e-05, -4.80464542838982e-05, -8.808836973239406e-05, -8.172190204750601e-05, -8.490312013154783e-06, -2.9264768684745396e-05, 4.668554721786594e-05, -0.0002916607402375926, -3.597293081297748e-05, 2.5341724583915343e-05, -1.0963029660124302e-07, -0.00011030396222402178, -5.44001383027265e-06, -2.5138303035909804e-05]\n"
     ]
    },
    {
     "data": {
      "application/vnd.jupyter.widget-view+json": {
       "model_id": "f05053c8481a4d8ea452e83298e0eb5b",
       "version_major": 2,
       "version_minor": 0
      },
      "text/plain": [
       "HBox(children=(HTML(value=''), FloatProgress(value=0.0, max=386.0), HTML(value='')))"
      ]
     },
     "metadata": {},
     "output_type": "display_data"
    },
    {
     "name": "stdout",
     "output_type": "stream",
     "text": [
      "\n",
      "[-2.5610181559235223e-05, -4.216004647124294e-05, 1.3147421279446903e-06, -1.2870753256132711e-05, -0.0001432573702578599, -8.546307235145212e-06, -1.99365810698085e-06, -6.867076713556325e-06, -7.443156437945617e-05, -0.0002718303094229116, -6.337375163077003e-05, 2.7857924773735943e-05, -1.9781778996176558e-05, -6.078769650674429e-05, -7.55790618672536e-05, 7.105820026914733e-06, -0.0002012851094688184, -1.6050626748864705e-05, -1.0135805805090714e-05, -2.323041552738589e-05, 4.655410395514037e-05, -0.00014823886546039625, -0.00016760708129714627, -2.985529071447557e-05, 6.524997474798011e-06, 8.135745655752508e-05, -3.363903297339682e-05, -8.965230651473283e-06, -2.2837712461983017e-05, -7.118266544007407e-05, -1.766061867764998e-05, -0.00012170127213687737, 1.5047122443323513e-06, -0.0001227158183230298, -0.00011940949193265694, -3.916962292892928e-05, 3.539693097080049e-06, -8.763751643753315e-05, -3.684727537296706e-05, -4.41268459439384e-06, 2.4400292485821096e-07, -2.2110630263014186e-05, 3.7525657388091938e-06, -0.0001191425541497218, -1.0196735914153043e-05, -4.80464542838982e-05, -8.808836973239406e-05, -8.172190204750601e-05, -8.490312013154783e-06, -2.9264768684745396e-05, 4.668554721786594e-05, -0.0002916607402375926, -3.597293081297748e-05, 2.5341724583915343e-05, -1.0963029660124302e-07, -0.00011030396222402178, -5.44001383027265e-06, -2.5138303035909804e-05, -3.130080874789998e-05]\n"
     ]
    },
    {
     "data": {
      "application/vnd.jupyter.widget-view+json": {
       "model_id": "154ce08ae65d49ebb4b67ed147a33011",
       "version_major": 2,
       "version_minor": 0
      },
      "text/plain": [
       "HBox(children=(HTML(value=''), FloatProgress(value=0.0, max=386.0), HTML(value='')))"
      ]
     },
     "metadata": {},
     "output_type": "display_data"
    },
    {
     "name": "stdout",
     "output_type": "stream",
     "text": [
      "\n",
      "[-2.5610181559235223e-05, -4.216004647124294e-05, 1.3147421279446903e-06, -1.2870753256132711e-05, -0.0001432573702578599, -8.546307235145212e-06, -1.99365810698085e-06, -6.867076713556325e-06, -7.443156437945617e-05, -0.0002718303094229116, -6.337375163077003e-05, 2.7857924773735943e-05, -1.9781778996176558e-05, -6.078769650674429e-05, -7.55790618672536e-05, 7.105820026914733e-06, -0.0002012851094688184, -1.6050626748864705e-05, -1.0135805805090714e-05, -2.323041552738589e-05, 4.655410395514037e-05, -0.00014823886546039625, -0.00016760708129714627, -2.985529071447557e-05, 6.524997474798011e-06, 8.135745655752508e-05, -3.363903297339682e-05, -8.965230651473283e-06, -2.2837712461983017e-05, -7.118266544007407e-05, -1.766061867764998e-05, -0.00012170127213687737, 1.5047122443323513e-06, -0.0001227158183230298, -0.00011940949193265694, -3.916962292892928e-05, 3.539693097080049e-06, -8.763751643753315e-05, -3.684727537296706e-05, -4.41268459439384e-06, 2.4400292485821096e-07, -2.2110630263014186e-05, 3.7525657388091938e-06, -0.0001191425541497218, -1.0196735914153043e-05, -4.80464542838982e-05, -8.808836973239406e-05, -8.172190204750601e-05, -8.490312013154783e-06, -2.9264768684745396e-05, 4.668554721786594e-05, -0.0002916607402375926, -3.597293081297748e-05, 2.5341724583915343e-05, -1.0963029660124302e-07, -0.00011030396222402178, -5.44001383027265e-06, -2.5138303035909804e-05, -3.130080874789998e-05, 0.00012434072289713854]\n"
     ]
    },
    {
     "data": {
      "application/vnd.jupyter.widget-view+json": {
       "model_id": "82aa5c85ba084acaaf097a10107b8233",
       "version_major": 2,
       "version_minor": 0
      },
      "text/plain": [
       "HBox(children=(HTML(value=''), FloatProgress(value=0.0, max=386.0), HTML(value='')))"
      ]
     },
     "metadata": {},
     "output_type": "display_data"
    },
    {
     "name": "stdout",
     "output_type": "stream",
     "text": [
      "\n",
      "[-2.5610181559235223e-05, -4.216004647124294e-05, 1.3147421279446903e-06, -1.2870753256132711e-05, -0.0001432573702578599, -8.546307235145212e-06, -1.99365810698085e-06, -6.867076713556325e-06, -7.443156437945617e-05, -0.0002718303094229116, -6.337375163077003e-05, 2.7857924773735943e-05, -1.9781778996176558e-05, -6.078769650674429e-05, -7.55790618672536e-05, 7.105820026914733e-06, -0.0002012851094688184, -1.6050626748864705e-05, -1.0135805805090714e-05, -2.323041552738589e-05, 4.655410395514037e-05, -0.00014823886546039625, -0.00016760708129714627, -2.985529071447557e-05, 6.524997474798011e-06, 8.135745655752508e-05, -3.363903297339682e-05, -8.965230651473283e-06, -2.2837712461983017e-05, -7.118266544007407e-05, -1.766061867764998e-05, -0.00012170127213687737, 1.5047122443323513e-06, -0.0001227158183230298, -0.00011940949193265694, -3.916962292892928e-05, 3.539693097080049e-06, -8.763751643753315e-05, -3.684727537296706e-05, -4.41268459439384e-06, 2.4400292485821096e-07, -2.2110630263014186e-05, 3.7525657388091938e-06, -0.0001191425541497218, -1.0196735914153043e-05, -4.80464542838982e-05, -8.808836973239406e-05, -8.172190204750601e-05, -8.490312013154783e-06, -2.9264768684745396e-05, 4.668554721786594e-05, -0.0002916607402375926, -3.597293081297748e-05, 2.5341724583915343e-05, -1.0963029660124302e-07, -0.00011030396222402178, -5.44001383027265e-06, -2.5138303035909804e-05, -3.130080874789998e-05, 0.00012434072289713854, -8.285388547617928e-06]\n"
     ]
    },
    {
     "data": {
      "application/vnd.jupyter.widget-view+json": {
       "model_id": "ee1e7d4b4c264a53a4dffe484a5fd1c4",
       "version_major": 2,
       "version_minor": 0
      },
      "text/plain": [
       "HBox(children=(HTML(value=''), FloatProgress(value=0.0, max=386.0), HTML(value='')))"
      ]
     },
     "metadata": {},
     "output_type": "display_data"
    },
    {
     "name": "stdout",
     "output_type": "stream",
     "text": [
      "\n",
      "[-2.5610181559235223e-05, -4.216004647124294e-05, 1.3147421279446903e-06, -1.2870753256132711e-05, -0.0001432573702578599, -8.546307235145212e-06, -1.99365810698085e-06, -6.867076713556325e-06, -7.443156437945617e-05, -0.0002718303094229116, -6.337375163077003e-05, 2.7857924773735943e-05, -1.9781778996176558e-05, -6.078769650674429e-05, -7.55790618672536e-05, 7.105820026914733e-06, -0.0002012851094688184, -1.6050626748864705e-05, -1.0135805805090714e-05, -2.323041552738589e-05, 4.655410395514037e-05, -0.00014823886546039625, -0.00016760708129714627, -2.985529071447557e-05, 6.524997474798011e-06, 8.135745655752508e-05, -3.363903297339682e-05, -8.965230651473283e-06, -2.2837712461983017e-05, -7.118266544007407e-05, -1.766061867764998e-05, -0.00012170127213687737, 1.5047122443323513e-06, -0.0001227158183230298, -0.00011940949193265694, -3.916962292892928e-05, 3.539693097080049e-06, -8.763751643753315e-05, -3.684727537296706e-05, -4.41268459439384e-06, 2.4400292485821096e-07, -2.2110630263014186e-05, 3.7525657388091938e-06, -0.0001191425541497218, -1.0196735914153043e-05, -4.80464542838982e-05, -8.808836973239406e-05, -8.172190204750601e-05, -8.490312013154783e-06, -2.9264768684745396e-05, 4.668554721786594e-05, -0.0002916607402375926, -3.597293081297748e-05, 2.5341724583915343e-05, -1.0963029660124302e-07, -0.00011030396222402178, -5.44001383027265e-06, -2.5138303035909804e-05, -3.130080874789998e-05, 0.00012434072289713854, -8.285388547617928e-06, 9.758444753204393e-05]\n"
     ]
    },
    {
     "data": {
      "application/vnd.jupyter.widget-view+json": {
       "model_id": "24176a6a6ccc4aecbbdfef7a682d69e8",
       "version_major": 2,
       "version_minor": 0
      },
      "text/plain": [
       "HBox(children=(HTML(value=''), FloatProgress(value=0.0, max=386.0), HTML(value='')))"
      ]
     },
     "metadata": {},
     "output_type": "display_data"
    },
    {
     "name": "stdout",
     "output_type": "stream",
     "text": [
      "\n",
      "[-2.5610181559235223e-05, -4.216004647124294e-05, 1.3147421279446903e-06, -1.2870753256132711e-05, -0.0001432573702578599, -8.546307235145212e-06, -1.99365810698085e-06, -6.867076713556325e-06, -7.443156437945617e-05, -0.0002718303094229116, -6.337375163077003e-05, 2.7857924773735943e-05, -1.9781778996176558e-05, -6.078769650674429e-05, -7.55790618672536e-05, 7.105820026914733e-06, -0.0002012851094688184, -1.6050626748864705e-05, -1.0135805805090714e-05, -2.323041552738589e-05, 4.655410395514037e-05, -0.00014823886546039625, -0.00016760708129714627, -2.985529071447557e-05, 6.524997474798011e-06, 8.135745655752508e-05, -3.363903297339682e-05, -8.965230651473283e-06, -2.2837712461983017e-05, -7.118266544007407e-05, -1.766061867764998e-05, -0.00012170127213687737, 1.5047122443323513e-06, -0.0001227158183230298, -0.00011940949193265694, -3.916962292892928e-05, 3.539693097080049e-06, -8.763751643753315e-05, -3.684727537296706e-05, -4.41268459439384e-06, 2.4400292485821096e-07, -2.2110630263014186e-05, 3.7525657388091938e-06, -0.0001191425541497218, -1.0196735914153043e-05, -4.80464542838982e-05, -8.808836973239406e-05, -8.172190204750601e-05, -8.490312013154783e-06, -2.9264768684745396e-05, 4.668554721786594e-05, -0.0002916607402375926, -3.597293081297748e-05, 2.5341724583915343e-05, -1.0963029660124302e-07, -0.00011030396222402178, -5.44001383027265e-06, -2.5138303035909804e-05, -3.130080874789998e-05, 0.00012434072289713854, -8.285388547617928e-06, 9.758444753204393e-05, -1.4834520538980003e-05]\n"
     ]
    },
    {
     "data": {
      "application/vnd.jupyter.widget-view+json": {
       "model_id": "8d47b8f12f8445d8a63e507f45251409",
       "version_major": 2,
       "version_minor": 0
      },
      "text/plain": [
       "HBox(children=(HTML(value=''), FloatProgress(value=0.0, max=386.0), HTML(value='')))"
      ]
     },
     "metadata": {},
     "output_type": "display_data"
    },
    {
     "name": "stdout",
     "output_type": "stream",
     "text": [
      "\n",
      "[-2.5610181559235223e-05, -4.216004647124294e-05, 1.3147421279446903e-06, -1.2870753256132711e-05, -0.0001432573702578599, -8.546307235145212e-06, -1.99365810698085e-06, -6.867076713556325e-06, -7.443156437945617e-05, -0.0002718303094229116, -6.337375163077003e-05, 2.7857924773735943e-05, -1.9781778996176558e-05, -6.078769650674429e-05, -7.55790618672536e-05, 7.105820026914733e-06, -0.0002012851094688184, -1.6050626748864705e-05, -1.0135805805090714e-05, -2.323041552738589e-05, 4.655410395514037e-05, -0.00014823886546039625, -0.00016760708129714627, -2.985529071447557e-05, 6.524997474798011e-06, 8.135745655752508e-05, -3.363903297339682e-05, -8.965230651473283e-06, -2.2837712461983017e-05, -7.118266544007407e-05, -1.766061867764998e-05, -0.00012170127213687737, 1.5047122443323513e-06, -0.0001227158183230298, -0.00011940949193265694, -3.916962292892928e-05, 3.539693097080049e-06, -8.763751643753315e-05, -3.684727537296706e-05, -4.41268459439384e-06, 2.4400292485821096e-07, -2.2110630263014186e-05, 3.7525657388091938e-06, -0.0001191425541497218, -1.0196735914153043e-05, -4.80464542838982e-05, -8.808836973239406e-05, -8.172190204750601e-05, -8.490312013154783e-06, -2.9264768684745396e-05, 4.668554721786594e-05, -0.0002916607402375926, -3.597293081297748e-05, 2.5341724583915343e-05, -1.0963029660124302e-07, -0.00011030396222402178, -5.44001383027265e-06, -2.5138303035909804e-05, -3.130080874789998e-05, 0.00012434072289713854, -8.285388547617928e-06, 9.758444753204393e-05, -1.4834520538980003e-05, -2.893150715006787e-06]\n"
     ]
    },
    {
     "data": {
      "application/vnd.jupyter.widget-view+json": {
       "model_id": "98df5b7dcdde45348fb044914289757c",
       "version_major": 2,
       "version_minor": 0
      },
      "text/plain": [
       "HBox(children=(HTML(value=''), FloatProgress(value=0.0, max=386.0), HTML(value='')))"
      ]
     },
     "metadata": {},
     "output_type": "display_data"
    },
    {
     "name": "stdout",
     "output_type": "stream",
     "text": [
      "\n",
      "[-2.5610181559235223e-05, -4.216004647124294e-05, 1.3147421279446903e-06, -1.2870753256132711e-05, -0.0001432573702578599, -8.546307235145212e-06, -1.99365810698085e-06, -6.867076713556325e-06, -7.443156437945617e-05, -0.0002718303094229116, -6.337375163077003e-05, 2.7857924773735943e-05, -1.9781778996176558e-05, -6.078769650674429e-05, -7.55790618672536e-05, 7.105820026914733e-06, -0.0002012851094688184, -1.6050626748864705e-05, -1.0135805805090714e-05, -2.323041552738589e-05, 4.655410395514037e-05, -0.00014823886546039625, -0.00016760708129714627, -2.985529071447557e-05, 6.524997474798011e-06, 8.135745655752508e-05, -3.363903297339682e-05, -8.965230651473283e-06, -2.2837712461983017e-05, -7.118266544007407e-05, -1.766061867764998e-05, -0.00012170127213687737, 1.5047122443323513e-06, -0.0001227158183230298, -0.00011940949193265694, -3.916962292892928e-05, 3.539693097080049e-06, -8.763751643753315e-05, -3.684727537296706e-05, -4.41268459439384e-06, 2.4400292485821096e-07, -2.2110630263014186e-05, 3.7525657388091938e-06, -0.0001191425541497218, -1.0196735914153043e-05, -4.80464542838982e-05, -8.808836973239406e-05, -8.172190204750601e-05, -8.490312013154783e-06, -2.9264768684745396e-05, 4.668554721786594e-05, -0.0002916607402375926, -3.597293081297748e-05, 2.5341724583915343e-05, -1.0963029660124302e-07, -0.00011030396222402178, -5.44001383027265e-06, -2.5138303035909804e-05, -3.130080874789998e-05, 0.00012434072289713854, -8.285388547617928e-06, 9.758444753204393e-05, -1.4834520538980003e-05, -2.893150715006787e-06, -2.7239765701209118e-05]\n"
     ]
    },
    {
     "data": {
      "application/vnd.jupyter.widget-view+json": {
       "model_id": "126e94b519614de78b99cd3cf04c081a",
       "version_major": 2,
       "version_minor": 0
      },
      "text/plain": [
       "HBox(children=(HTML(value=''), FloatProgress(value=0.0, max=386.0), HTML(value='')))"
      ]
     },
     "metadata": {},
     "output_type": "display_data"
    },
    {
     "name": "stdout",
     "output_type": "stream",
     "text": [
      "\n",
      "[-2.5610181559235223e-05, -4.216004647124294e-05, 1.3147421279446903e-06, -1.2870753256132711e-05, -0.0001432573702578599, -8.546307235145212e-06, -1.99365810698085e-06, -6.867076713556325e-06, -7.443156437945617e-05, -0.0002718303094229116, -6.337375163077003e-05, 2.7857924773735943e-05, -1.9781778996176558e-05, -6.078769650674429e-05, -7.55790618672536e-05, 7.105820026914733e-06, -0.0002012851094688184, -1.6050626748864705e-05, -1.0135805805090714e-05, -2.323041552738589e-05, 4.655410395514037e-05, -0.00014823886546039625, -0.00016760708129714627, -2.985529071447557e-05, 6.524997474798011e-06, 8.135745655752508e-05, -3.363903297339682e-05, -8.965230651473283e-06, -2.2837712461983017e-05, -7.118266544007407e-05, -1.766061867764998e-05, -0.00012170127213687737, 1.5047122443323513e-06, -0.0001227158183230298, -0.00011940949193265694, -3.916962292892928e-05, 3.539693097080049e-06, -8.763751643753315e-05, -3.684727537296706e-05, -4.41268459439384e-06, 2.4400292485821096e-07, -2.2110630263014186e-05, 3.7525657388091938e-06, -0.0001191425541497218, -1.0196735914153043e-05, -4.80464542838982e-05, -8.808836973239406e-05, -8.172190204750601e-05, -8.490312013154783e-06, -2.9264768684745396e-05, 4.668554721786594e-05, -0.0002916607402375926, -3.597293081297748e-05, 2.5341724583915343e-05, -1.0963029660124302e-07, -0.00011030396222402178, -5.44001383027265e-06, -2.5138303035909804e-05, -3.130080874789998e-05, 0.00012434072289713854, -8.285388547617928e-06, 9.758444753204393e-05, -1.4834520538980003e-05, -2.893150715006787e-06, -2.7239765701209118e-05, 3.141635847606766e-05]\n"
     ]
    },
    {
     "data": {
      "application/vnd.jupyter.widget-view+json": {
       "model_id": "d5ea2abdd97e4915952017ac992b33df",
       "version_major": 2,
       "version_minor": 0
      },
      "text/plain": [
       "HBox(children=(HTML(value=''), FloatProgress(value=0.0, max=386.0), HTML(value='')))"
      ]
     },
     "metadata": {},
     "output_type": "display_data"
    },
    {
     "name": "stdout",
     "output_type": "stream",
     "text": [
      "\n",
      "[-2.5610181559235223e-05, -4.216004647124294e-05, 1.3147421279446903e-06, -1.2870753256132711e-05, -0.0001432573702578599, -8.546307235145212e-06, -1.99365810698085e-06, -6.867076713556325e-06, -7.443156437945617e-05, -0.0002718303094229116, -6.337375163077003e-05, 2.7857924773735943e-05, -1.9781778996176558e-05, -6.078769650674429e-05, -7.55790618672536e-05, 7.105820026914733e-06, -0.0002012851094688184, -1.6050626748864705e-05, -1.0135805805090714e-05, -2.323041552738589e-05, 4.655410395514037e-05, -0.00014823886546039625, -0.00016760708129714627, -2.985529071447557e-05, 6.524997474798011e-06, 8.135745655752508e-05, -3.363903297339682e-05, -8.965230651473283e-06, -2.2837712461983017e-05, -7.118266544007407e-05, -1.766061867764998e-05, -0.00012170127213687737, 1.5047122443323513e-06, -0.0001227158183230298, -0.00011940949193265694, -3.916962292892928e-05, 3.539693097080049e-06, -8.763751643753315e-05, -3.684727537296706e-05, -4.41268459439384e-06, 2.4400292485821096e-07, -2.2110630263014186e-05, 3.7525657388091938e-06, -0.0001191425541497218, -1.0196735914153043e-05, -4.80464542838982e-05, -8.808836973239406e-05, -8.172190204750601e-05, -8.490312013154783e-06, -2.9264768684745396e-05, 4.668554721786594e-05, -0.0002916607402375926, -3.597293081297748e-05, 2.5341724583915343e-05, -1.0963029660124302e-07, -0.00011030396222402178, -5.44001383027265e-06, -2.5138303035909804e-05, -3.130080874789998e-05, 0.00012434072289713854, -8.285388547617928e-06, 9.758444753204393e-05, -1.4834520538980003e-05, -2.893150715006787e-06, -2.7239765701209118e-05, 3.141635847606766e-05, -4.468915744999802e-05]\n"
     ]
    },
    {
     "data": {
      "application/vnd.jupyter.widget-view+json": {
       "model_id": "3d85b30f9d3c409f9062cbfc264cae48",
       "version_major": 2,
       "version_minor": 0
      },
      "text/plain": [
       "HBox(children=(HTML(value=''), FloatProgress(value=0.0, max=386.0), HTML(value='')))"
      ]
     },
     "metadata": {},
     "output_type": "display_data"
    },
    {
     "name": "stdout",
     "output_type": "stream",
     "text": [
      "\n",
      "[-2.5610181559235223e-05, -4.216004647124294e-05, 1.3147421279446903e-06, -1.2870753256132711e-05, -0.0001432573702578599, -8.546307235145212e-06, -1.99365810698085e-06, -6.867076713556325e-06, -7.443156437945617e-05, -0.0002718303094229116, -6.337375163077003e-05, 2.7857924773735943e-05, -1.9781778996176558e-05, -6.078769650674429e-05, -7.55790618672536e-05, 7.105820026914733e-06, -0.0002012851094688184, -1.6050626748864705e-05, -1.0135805805090714e-05, -2.323041552738589e-05, 4.655410395514037e-05, -0.00014823886546039625, -0.00016760708129714627, -2.985529071447557e-05, 6.524997474798011e-06, 8.135745655752508e-05, -3.363903297339682e-05, -8.965230651473283e-06, -2.2837712461983017e-05, -7.118266544007407e-05, -1.766061867764998e-05, -0.00012170127213687737, 1.5047122443323513e-06, -0.0001227158183230298, -0.00011940949193265694, -3.916962292892928e-05, 3.539693097080049e-06, -8.763751643753315e-05, -3.684727537296706e-05, -4.41268459439384e-06, 2.4400292485821096e-07, -2.2110630263014186e-05, 3.7525657388091938e-06, -0.0001191425541497218, -1.0196735914153043e-05, -4.80464542838982e-05, -8.808836973239406e-05, -8.172190204750601e-05, -8.490312013154783e-06, -2.9264768684745396e-05, 4.668554721786594e-05, -0.0002916607402375926, -3.597293081297748e-05, 2.5341724583915343e-05, -1.0963029660124302e-07, -0.00011030396222402178, -5.44001383027265e-06, -2.5138303035909804e-05, -3.130080874789998e-05, 0.00012434072289713854, -8.285388547617928e-06, 9.758444753204393e-05, -1.4834520538980003e-05, -2.893150715006787e-06, -2.7239765701209118e-05, 3.141635847606766e-05, -4.468915744999802e-05, -1.3246130787451793e-05]\n"
     ]
    },
    {
     "data": {
      "application/vnd.jupyter.widget-view+json": {
       "model_id": "b52c666de1f54ee397041f4ee6badeb2",
       "version_major": 2,
       "version_minor": 0
      },
      "text/plain": [
       "HBox(children=(HTML(value=''), FloatProgress(value=0.0, max=386.0), HTML(value='')))"
      ]
     },
     "metadata": {},
     "output_type": "display_data"
    },
    {
     "name": "stdout",
     "output_type": "stream",
     "text": [
      "\n",
      "[-2.5610181559235223e-05, -4.216004647124294e-05, 1.3147421279446903e-06, -1.2870753256132711e-05, -0.0001432573702578599, -8.546307235145212e-06, -1.99365810698085e-06, -6.867076713556325e-06, -7.443156437945617e-05, -0.0002718303094229116, -6.337375163077003e-05, 2.7857924773735943e-05, -1.9781778996176558e-05, -6.078769650674429e-05, -7.55790618672536e-05, 7.105820026914733e-06, -0.0002012851094688184, -1.6050626748864705e-05, -1.0135805805090714e-05, -2.323041552738589e-05, 4.655410395514037e-05, -0.00014823886546039625, -0.00016760708129714627, -2.985529071447557e-05, 6.524997474798011e-06, 8.135745655752508e-05, -3.363903297339682e-05, -8.965230651473283e-06, -2.2837712461983017e-05, -7.118266544007407e-05, -1.766061867764998e-05, -0.00012170127213687737, 1.5047122443323513e-06, -0.0001227158183230298, -0.00011940949193265694, -3.916962292892928e-05, 3.539693097080049e-06, -8.763751643753315e-05, -3.684727537296706e-05, -4.41268459439384e-06, 2.4400292485821096e-07, -2.2110630263014186e-05, 3.7525657388091938e-06, -0.0001191425541497218, -1.0196735914153043e-05, -4.80464542838982e-05, -8.808836973239406e-05, -8.172190204750601e-05, -8.490312013154783e-06, -2.9264768684745396e-05, 4.668554721786594e-05, -0.0002916607402375926, -3.597293081297748e-05, 2.5341724583915343e-05, -1.0963029660124302e-07, -0.00011030396222402178, -5.44001383027265e-06, -2.5138303035909804e-05, -3.130080874789998e-05, 0.00012434072289713854, -8.285388547617928e-06, 9.758444753204393e-05, -1.4834520538980003e-05, -2.893150715006787e-06, -2.7239765701209118e-05, 3.141635847606766e-05, -4.468915744999802e-05, -1.3246130787451793e-05, 2.27933979418532e-05]\n"
     ]
    },
    {
     "data": {
      "application/vnd.jupyter.widget-view+json": {
       "model_id": "e2517414208f475b983e6e6bfde95330",
       "version_major": 2,
       "version_minor": 0
      },
      "text/plain": [
       "HBox(children=(HTML(value=''), FloatProgress(value=0.0, max=386.0), HTML(value='')))"
      ]
     },
     "metadata": {},
     "output_type": "display_data"
    },
    {
     "name": "stdout",
     "output_type": "stream",
     "text": [
      "\n",
      "[-2.5610181559235223e-05, -4.216004647124294e-05, 1.3147421279446903e-06, -1.2870753256132711e-05, -0.0001432573702578599, -8.546307235145212e-06, -1.99365810698085e-06, -6.867076713556325e-06, -7.443156437945617e-05, -0.0002718303094229116, -6.337375163077003e-05, 2.7857924773735943e-05, -1.9781778996176558e-05, -6.078769650674429e-05, -7.55790618672536e-05, 7.105820026914733e-06, -0.0002012851094688184, -1.6050626748864705e-05, -1.0135805805090714e-05, -2.323041552738589e-05, 4.655410395514037e-05, -0.00014823886546039625, -0.00016760708129714627, -2.985529071447557e-05, 6.524997474798011e-06, 8.135745655752508e-05, -3.363903297339682e-05, -8.965230651473283e-06, -2.2837712461983017e-05, -7.118266544007407e-05, -1.766061867764998e-05, -0.00012170127213687737, 1.5047122443323513e-06, -0.0001227158183230298, -0.00011940949193265694, -3.916962292892928e-05, 3.539693097080049e-06, -8.763751643753315e-05, -3.684727537296706e-05, -4.41268459439384e-06, 2.4400292485821096e-07, -2.2110630263014186e-05, 3.7525657388091938e-06, -0.0001191425541497218, -1.0196735914153043e-05, -4.80464542838982e-05, -8.808836973239406e-05, -8.172190204750601e-05, -8.490312013154783e-06, -2.9264768684745396e-05, 4.668554721786594e-05, -0.0002916607402375926, -3.597293081297748e-05, 2.5341724583915343e-05, -1.0963029660124302e-07, -0.00011030396222402178, -5.44001383027265e-06, -2.5138303035909804e-05, -3.130080874789998e-05, 0.00012434072289713854, -8.285388547617928e-06, 9.758444753204393e-05, -1.4834520538980003e-05, -2.893150715006787e-06, -2.7239765701209118e-05, 3.141635847606766e-05, -4.468915744999802e-05, -1.3246130787451793e-05, 2.27933979418532e-05, 2.2003616076543553e-05]\n"
     ]
    },
    {
     "data": {
      "application/vnd.jupyter.widget-view+json": {
       "model_id": "ccad2389cfb14627980719c039e649ea",
       "version_major": 2,
       "version_minor": 0
      },
      "text/plain": [
       "HBox(children=(HTML(value=''), FloatProgress(value=0.0, max=386.0), HTML(value='')))"
      ]
     },
     "metadata": {},
     "output_type": "display_data"
    },
    {
     "name": "stdout",
     "output_type": "stream",
     "text": [
      "\n",
      "[-2.5610181559235223e-05, -4.216004647124294e-05, 1.3147421279446903e-06, -1.2870753256132711e-05, -0.0001432573702578599, -8.546307235145212e-06, -1.99365810698085e-06, -6.867076713556325e-06, -7.443156437945617e-05, -0.0002718303094229116, -6.337375163077003e-05, 2.7857924773735943e-05, -1.9781778996176558e-05, -6.078769650674429e-05, -7.55790618672536e-05, 7.105820026914733e-06, -0.0002012851094688184, -1.6050626748864705e-05, -1.0135805805090714e-05, -2.323041552738589e-05, 4.655410395514037e-05, -0.00014823886546039625, -0.00016760708129714627, -2.985529071447557e-05, 6.524997474798011e-06, 8.135745655752508e-05, -3.363903297339682e-05, -8.965230651473283e-06, -2.2837712461983017e-05, -7.118266544007407e-05, -1.766061867764998e-05, -0.00012170127213687737, 1.5047122443323513e-06, -0.0001227158183230298, -0.00011940949193265694, -3.916962292892928e-05, 3.539693097080049e-06, -8.763751643753315e-05, -3.684727537296706e-05, -4.41268459439384e-06, 2.4400292485821096e-07, -2.2110630263014186e-05, 3.7525657388091938e-06, -0.0001191425541497218, -1.0196735914153043e-05, -4.80464542838982e-05, -8.808836973239406e-05, -8.172190204750601e-05, -8.490312013154783e-06, -2.9264768684745396e-05, 4.668554721786594e-05, -0.0002916607402375926, -3.597293081297748e-05, 2.5341724583915343e-05, -1.0963029660124302e-07, -0.00011030396222402178, -5.44001383027265e-06, -2.5138303035909804e-05, -3.130080874789998e-05, 0.00012434072289713854, -8.285388547617928e-06, 9.758444753204393e-05, -1.4834520538980003e-05, -2.893150715006787e-06, -2.7239765701209118e-05, 3.141635847606766e-05, -4.468915744999802e-05, -1.3246130787451793e-05, 2.27933979418532e-05, 2.2003616076543553e-05, -3.5754636653069494e-05]\n"
     ]
    },
    {
     "data": {
      "application/vnd.jupyter.widget-view+json": {
       "model_id": "90524a652628473b86392adcbf36d19d",
       "version_major": 2,
       "version_minor": 0
      },
      "text/plain": [
       "HBox(children=(HTML(value=''), FloatProgress(value=0.0, max=386.0), HTML(value='')))"
      ]
     },
     "metadata": {},
     "output_type": "display_data"
    },
    {
     "name": "stdout",
     "output_type": "stream",
     "text": [
      "\n",
      "[-2.5610181559235223e-05, -4.216004647124294e-05, 1.3147421279446903e-06, -1.2870753256132711e-05, -0.0001432573702578599, -8.546307235145212e-06, -1.99365810698085e-06, -6.867076713556325e-06, -7.443156437945617e-05, -0.0002718303094229116, -6.337375163077003e-05, 2.7857924773735943e-05, -1.9781778996176558e-05, -6.078769650674429e-05, -7.55790618672536e-05, 7.105820026914733e-06, -0.0002012851094688184, -1.6050626748864705e-05, -1.0135805805090714e-05, -2.323041552738589e-05, 4.655410395514037e-05, -0.00014823886546039625, -0.00016760708129714627, -2.985529071447557e-05, 6.524997474798011e-06, 8.135745655752508e-05, -3.363903297339682e-05, -8.965230651473283e-06, -2.2837712461983017e-05, -7.118266544007407e-05, -1.766061867764998e-05, -0.00012170127213687737, 1.5047122443323513e-06, -0.0001227158183230298, -0.00011940949193265694, -3.916962292892928e-05, 3.539693097080049e-06, -8.763751643753315e-05, -3.684727537296706e-05, -4.41268459439384e-06, 2.4400292485821096e-07, -2.2110630263014186e-05, 3.7525657388091938e-06, -0.0001191425541497218, -1.0196735914153043e-05, -4.80464542838982e-05, -8.808836973239406e-05, -8.172190204750601e-05, -8.490312013154783e-06, -2.9264768684745396e-05, 4.668554721786594e-05, -0.0002916607402375926, -3.597293081297748e-05, 2.5341724583915343e-05, -1.0963029660124302e-07, -0.00011030396222402178, -5.44001383027265e-06, -2.5138303035909804e-05, -3.130080874789998e-05, 0.00012434072289713854, -8.285388547617928e-06, 9.758444753204393e-05, -1.4834520538980003e-05, -2.893150715006787e-06, -2.7239765701209118e-05, 3.141635847606766e-05, -4.468915744999802e-05, -1.3246130787451793e-05, 2.27933979418532e-05, 2.2003616076543553e-05, -3.5754636653069494e-05, -0.00020052104000294751]\n"
     ]
    },
    {
     "data": {
      "application/vnd.jupyter.widget-view+json": {
       "model_id": "fd20a2774870439bae01c42b03fdb0d1",
       "version_major": 2,
       "version_minor": 0
      },
      "text/plain": [
       "HBox(children=(HTML(value=''), FloatProgress(value=0.0, max=386.0), HTML(value='')))"
      ]
     },
     "metadata": {},
     "output_type": "display_data"
    },
    {
     "name": "stdout",
     "output_type": "stream",
     "text": [
      "\n",
      "[-2.5610181559235223e-05, -4.216004647124294e-05, 1.3147421279446903e-06, -1.2870753256132711e-05, -0.0001432573702578599, -8.546307235145212e-06, -1.99365810698085e-06, -6.867076713556325e-06, -7.443156437945617e-05, -0.0002718303094229116, -6.337375163077003e-05, 2.7857924773735943e-05, -1.9781778996176558e-05, -6.078769650674429e-05, -7.55790618672536e-05, 7.105820026914733e-06, -0.0002012851094688184, -1.6050626748864705e-05, -1.0135805805090714e-05, -2.323041552738589e-05, 4.655410395514037e-05, -0.00014823886546039625, -0.00016760708129714627, -2.985529071447557e-05, 6.524997474798011e-06, 8.135745655752508e-05, -3.363903297339682e-05, -8.965230651473283e-06, -2.2837712461983017e-05, -7.118266544007407e-05, -1.766061867764998e-05, -0.00012170127213687737, 1.5047122443323513e-06, -0.0001227158183230298, -0.00011940949193265694, -3.916962292892928e-05, 3.539693097080049e-06, -8.763751643753315e-05, -3.684727537296706e-05, -4.41268459439384e-06, 2.4400292485821096e-07, -2.2110630263014186e-05, 3.7525657388091938e-06, -0.0001191425541497218, -1.0196735914153043e-05, -4.80464542838982e-05, -8.808836973239406e-05, -8.172190204750601e-05, -8.490312013154783e-06, -2.9264768684745396e-05, 4.668554721786594e-05, -0.0002916607402375926, -3.597293081297748e-05, 2.5341724583915343e-05, -1.0963029660124302e-07, -0.00011030396222402178, -5.44001383027265e-06, -2.5138303035909804e-05, -3.130080874789998e-05, 0.00012434072289713854, -8.285388547617928e-06, 9.758444753204393e-05, -1.4834520538980003e-05, -2.893150715006787e-06, -2.7239765701209118e-05, 3.141635847606766e-05, -4.468915744999802e-05, -1.3246130787451793e-05, 2.27933979418532e-05, 2.2003616076543553e-05, -3.5754636653069494e-05, -0.00020052104000294751, 0.0002717229120327985]\n"
     ]
    },
    {
     "data": {
      "application/vnd.jupyter.widget-view+json": {
       "model_id": "5467e89579274fb09ce174775e70d5d3",
       "version_major": 2,
       "version_minor": 0
      },
      "text/plain": [
       "HBox(children=(HTML(value=''), FloatProgress(value=0.0, max=386.0), HTML(value='')))"
      ]
     },
     "metadata": {},
     "output_type": "display_data"
    },
    {
     "name": "stdout",
     "output_type": "stream",
     "text": [
      "\n",
      "[-2.5610181559235223e-05, -4.216004647124294e-05, 1.3147421279446903e-06, -1.2870753256132711e-05, -0.0001432573702578599, -8.546307235145212e-06, -1.99365810698085e-06, -6.867076713556325e-06, -7.443156437945617e-05, -0.0002718303094229116, -6.337375163077003e-05, 2.7857924773735943e-05, -1.9781778996176558e-05, -6.078769650674429e-05, -7.55790618672536e-05, 7.105820026914733e-06, -0.0002012851094688184, -1.6050626748864705e-05, -1.0135805805090714e-05, -2.323041552738589e-05, 4.655410395514037e-05, -0.00014823886546039625, -0.00016760708129714627, -2.985529071447557e-05, 6.524997474798011e-06, 8.135745655752508e-05, -3.363903297339682e-05, -8.965230651473283e-06, -2.2837712461983017e-05, -7.118266544007407e-05, -1.766061867764998e-05, -0.00012170127213687737, 1.5047122443323513e-06, -0.0001227158183230298, -0.00011940949193265694, -3.916962292892928e-05, 3.539693097080049e-06, -8.763751643753315e-05, -3.684727537296706e-05, -4.41268459439384e-06, 2.4400292485821096e-07, -2.2110630263014186e-05, 3.7525657388091938e-06, -0.0001191425541497218, -1.0196735914153043e-05, -4.80464542838982e-05, -8.808836973239406e-05, -8.172190204750601e-05, -8.490312013154783e-06, -2.9264768684745396e-05, 4.668554721786594e-05, -0.0002916607402375926, -3.597293081297748e-05, 2.5341724583915343e-05, -1.0963029660124302e-07, -0.00011030396222402178, -5.44001383027265e-06, -2.5138303035909804e-05, -3.130080874789998e-05, 0.00012434072289713854, -8.285388547617928e-06, 9.758444753204393e-05, -1.4834520538980003e-05, -2.893150715006787e-06, -2.7239765701209118e-05, 3.141635847606766e-05, -4.468915744999802e-05, -1.3246130787451793e-05, 2.27933979418532e-05, 2.2003616076543553e-05, -3.5754636653069494e-05, -0.00020052104000294751, 0.0002717229120327985, -7.628230727884863e-05]\n"
     ]
    },
    {
     "data": {
      "application/vnd.jupyter.widget-view+json": {
       "model_id": "cf89551970ee4f16b62f0ba9fa4fedf8",
       "version_major": 2,
       "version_minor": 0
      },
      "text/plain": [
       "HBox(children=(HTML(value=''), FloatProgress(value=0.0, max=386.0), HTML(value='')))"
      ]
     },
     "metadata": {},
     "output_type": "display_data"
    },
    {
     "name": "stdout",
     "output_type": "stream",
     "text": [
      "\n",
      "[-2.5610181559235223e-05, -4.216004647124294e-05, 1.3147421279446903e-06, -1.2870753256132711e-05, -0.0001432573702578599, -8.546307235145212e-06, -1.99365810698085e-06, -6.867076713556325e-06, -7.443156437945617e-05, -0.0002718303094229116, -6.337375163077003e-05, 2.7857924773735943e-05, -1.9781778996176558e-05, -6.078769650674429e-05, -7.55790618672536e-05, 7.105820026914733e-06, -0.0002012851094688184, -1.6050626748864705e-05, -1.0135805805090714e-05, -2.323041552738589e-05, 4.655410395514037e-05, -0.00014823886546039625, -0.00016760708129714627, -2.985529071447557e-05, 6.524997474798011e-06, 8.135745655752508e-05, -3.363903297339682e-05, -8.965230651473283e-06, -2.2837712461983017e-05, -7.118266544007407e-05, -1.766061867764998e-05, -0.00012170127213687737, 1.5047122443323513e-06, -0.0001227158183230298, -0.00011940949193265694, -3.916962292892928e-05, 3.539693097080049e-06, -8.763751643753315e-05, -3.684727537296706e-05, -4.41268459439384e-06, 2.4400292485821096e-07, -2.2110630263014186e-05, 3.7525657388091938e-06, -0.0001191425541497218, -1.0196735914153043e-05, -4.80464542838982e-05, -8.808836973239406e-05, -8.172190204750601e-05, -8.490312013154783e-06, -2.9264768684745396e-05, 4.668554721786594e-05, -0.0002916607402375926, -3.597293081297748e-05, 2.5341724583915343e-05, -1.0963029660124302e-07, -0.00011030396222402178, -5.44001383027265e-06, -2.5138303035909804e-05, -3.130080874789998e-05, 0.00012434072289713854, -8.285388547617928e-06, 9.758444753204393e-05, -1.4834520538980003e-05, -2.893150715006787e-06, -2.7239765701209118e-05, 3.141635847606766e-05, -4.468915744999802e-05, -1.3246130787451793e-05, 2.27933979418532e-05, 2.2003616076543553e-05, -3.5754636653069494e-05, -0.00020052104000294751, 0.0002717229120327985, -7.628230727884863e-05, 7.1497462991107485e-06]\n"
     ]
    },
    {
     "data": {
      "application/vnd.jupyter.widget-view+json": {
       "model_id": "13cb830e100e418fa62b55a9379a9b69",
       "version_major": 2,
       "version_minor": 0
      },
      "text/plain": [
       "HBox(children=(HTML(value=''), FloatProgress(value=0.0, max=386.0), HTML(value='')))"
      ]
     },
     "metadata": {},
     "output_type": "display_data"
    },
    {
     "name": "stdout",
     "output_type": "stream",
     "text": [
      "\n",
      "[-2.5610181559235223e-05, -4.216004647124294e-05, 1.3147421279446903e-06, -1.2870753256132711e-05, -0.0001432573702578599, -8.546307235145212e-06, -1.99365810698085e-06, -6.867076713556325e-06, -7.443156437945617e-05, -0.0002718303094229116, -6.337375163077003e-05, 2.7857924773735943e-05, -1.9781778996176558e-05, -6.078769650674429e-05, -7.55790618672536e-05, 7.105820026914733e-06, -0.0002012851094688184, -1.6050626748864705e-05, -1.0135805805090714e-05, -2.323041552738589e-05, 4.655410395514037e-05, -0.00014823886546039625, -0.00016760708129714627, -2.985529071447557e-05, 6.524997474798011e-06, 8.135745655752508e-05, -3.363903297339682e-05, -8.965230651473283e-06, -2.2837712461983017e-05, -7.118266544007407e-05, -1.766061867764998e-05, -0.00012170127213687737, 1.5047122443323513e-06, -0.0001227158183230298, -0.00011940949193265694, -3.916962292892928e-05, 3.539693097080049e-06, -8.763751643753315e-05, -3.684727537296706e-05, -4.41268459439384e-06, 2.4400292485821096e-07, -2.2110630263014186e-05, 3.7525657388091938e-06, -0.0001191425541497218, -1.0196735914153043e-05, -4.80464542838982e-05, -8.808836973239406e-05, -8.172190204750601e-05, -8.490312013154783e-06, -2.9264768684745396e-05, 4.668554721786594e-05, -0.0002916607402375926, -3.597293081297748e-05, 2.5341724583915343e-05, -1.0963029660124302e-07, -0.00011030396222402178, -5.44001383027265e-06, -2.5138303035909804e-05, -3.130080874789998e-05, 0.00012434072289713854, -8.285388547617928e-06, 9.758444753204393e-05, -1.4834520538980003e-05, -2.893150715006787e-06, -2.7239765701209118e-05, 3.141635847606766e-05, -4.468915744999802e-05, -1.3246130787451793e-05, 2.27933979418532e-05, 2.2003616076543553e-05, -3.5754636653069494e-05, -0.00020052104000294751, 0.0002717229120327985, -7.628230727884863e-05, 7.1497462991107485e-06, -2.193231381742225e-05]\n"
     ]
    },
    {
     "data": {
      "application/vnd.jupyter.widget-view+json": {
       "model_id": "b6e2937bfa3a470aab1469b4a7a3c903",
       "version_major": 2,
       "version_minor": 0
      },
      "text/plain": [
       "HBox(children=(HTML(value=''), FloatProgress(value=0.0, max=386.0), HTML(value='')))"
      ]
     },
     "metadata": {},
     "output_type": "display_data"
    },
    {
     "name": "stdout",
     "output_type": "stream",
     "text": [
      "\n",
      "[-2.5610181559235223e-05, -4.216004647124294e-05, 1.3147421279446903e-06, -1.2870753256132711e-05, -0.0001432573702578599, -8.546307235145212e-06, -1.99365810698085e-06, -6.867076713556325e-06, -7.443156437945617e-05, -0.0002718303094229116, -6.337375163077003e-05, 2.7857924773735943e-05, -1.9781778996176558e-05, -6.078769650674429e-05, -7.55790618672536e-05, 7.105820026914733e-06, -0.0002012851094688184, -1.6050626748864705e-05, -1.0135805805090714e-05, -2.323041552738589e-05, 4.655410395514037e-05, -0.00014823886546039625, -0.00016760708129714627, -2.985529071447557e-05, 6.524997474798011e-06, 8.135745655752508e-05, -3.363903297339682e-05, -8.965230651473283e-06, -2.2837712461983017e-05, -7.118266544007407e-05, -1.766061867764998e-05, -0.00012170127213687737, 1.5047122443323513e-06, -0.0001227158183230298, -0.00011940949193265694, -3.916962292892928e-05, 3.539693097080049e-06, -8.763751643753315e-05, -3.684727537296706e-05, -4.41268459439384e-06, 2.4400292485821096e-07, -2.2110630263014186e-05, 3.7525657388091938e-06, -0.0001191425541497218, -1.0196735914153043e-05, -4.80464542838982e-05, -8.808836973239406e-05, -8.172190204750601e-05, -8.490312013154783e-06, -2.9264768684745396e-05, 4.668554721786594e-05, -0.0002916607402375926, -3.597293081297748e-05, 2.5341724583915343e-05, -1.0963029660124302e-07, -0.00011030396222402178, -5.44001383027265e-06, -2.5138303035909804e-05, -3.130080874789998e-05, 0.00012434072289713854, -8.285388547617928e-06, 9.758444753204393e-05, -1.4834520538980003e-05, -2.893150715006787e-06, -2.7239765701209118e-05, 3.141635847606766e-05, -4.468915744999802e-05, -1.3246130787451793e-05, 2.27933979418532e-05, 2.2003616076543553e-05, -3.5754636653069494e-05, -0.00020052104000294751, 0.0002717229120327985, -7.628230727884863e-05, 7.1497462991107485e-06, -2.193231381742225e-05, -5.783897008762584e-05]\n"
     ]
    },
    {
     "data": {
      "application/vnd.jupyter.widget-view+json": {
       "model_id": "6e7186efc8d3409391ba6db464a742b0",
       "version_major": 2,
       "version_minor": 0
      },
      "text/plain": [
       "HBox(children=(HTML(value=''), FloatProgress(value=0.0, max=386.0), HTML(value='')))"
      ]
     },
     "metadata": {},
     "output_type": "display_data"
    },
    {
     "name": "stdout",
     "output_type": "stream",
     "text": [
      "\n",
      "[-2.5610181559235223e-05, -4.216004647124294e-05, 1.3147421279446903e-06, -1.2870753256132711e-05, -0.0001432573702578599, -8.546307235145212e-06, -1.99365810698085e-06, -6.867076713556325e-06, -7.443156437945617e-05, -0.0002718303094229116, -6.337375163077003e-05, 2.7857924773735943e-05, -1.9781778996176558e-05, -6.078769650674429e-05, -7.55790618672536e-05, 7.105820026914733e-06, -0.0002012851094688184, -1.6050626748864705e-05, -1.0135805805090714e-05, -2.323041552738589e-05, 4.655410395514037e-05, -0.00014823886546039625, -0.00016760708129714627, -2.985529071447557e-05, 6.524997474798011e-06, 8.135745655752508e-05, -3.363903297339682e-05, -8.965230651473283e-06, -2.2837712461983017e-05, -7.118266544007407e-05, -1.766061867764998e-05, -0.00012170127213687737, 1.5047122443323513e-06, -0.0001227158183230298, -0.00011940949193265694, -3.916962292892928e-05, 3.539693097080049e-06, -8.763751643753315e-05, -3.684727537296706e-05, -4.41268459439384e-06, 2.4400292485821096e-07, -2.2110630263014186e-05, 3.7525657388091938e-06, -0.0001191425541497218, -1.0196735914153043e-05, -4.80464542838982e-05, -8.808836973239406e-05, -8.172190204750601e-05, -8.490312013154783e-06, -2.9264768684745396e-05, 4.668554721786594e-05, -0.0002916607402375926, -3.597293081297748e-05, 2.5341724583915343e-05, -1.0963029660124302e-07, -0.00011030396222402178, -5.44001383027265e-06, -2.5138303035909804e-05, -3.130080874789998e-05, 0.00012434072289713854, -8.285388547617928e-06, 9.758444753204393e-05, -1.4834520538980003e-05, -2.893150715006787e-06, -2.7239765701209118e-05, 3.141635847606766e-05, -4.468915744999802e-05, -1.3246130787451793e-05, 2.27933979418532e-05, 2.2003616076543553e-05, -3.5754636653069494e-05, -0.00020052104000294751, 0.0002717229120327985, -7.628230727884863e-05, 7.1497462991107485e-06, -2.193231381742225e-05, -5.783897008762584e-05, -7.932075993942467e-06]\n"
     ]
    },
    {
     "data": {
      "application/vnd.jupyter.widget-view+json": {
       "model_id": "6dcc9f0eb16643089cbf2884b43775ce",
       "version_major": 2,
       "version_minor": 0
      },
      "text/plain": [
       "HBox(children=(HTML(value=''), FloatProgress(value=0.0, max=386.0), HTML(value='')))"
      ]
     },
     "metadata": {},
     "output_type": "display_data"
    },
    {
     "name": "stdout",
     "output_type": "stream",
     "text": [
      "\n",
      "[-2.5610181559235223e-05, -4.216004647124294e-05, 1.3147421279446903e-06, -1.2870753256132711e-05, -0.0001432573702578599, -8.546307235145212e-06, -1.99365810698085e-06, -6.867076713556325e-06, -7.443156437945617e-05, -0.0002718303094229116, -6.337375163077003e-05, 2.7857924773735943e-05, -1.9781778996176558e-05, -6.078769650674429e-05, -7.55790618672536e-05, 7.105820026914733e-06, -0.0002012851094688184, -1.6050626748864705e-05, -1.0135805805090714e-05, -2.323041552738589e-05, 4.655410395514037e-05, -0.00014823886546039625, -0.00016760708129714627, -2.985529071447557e-05, 6.524997474798011e-06, 8.135745655752508e-05, -3.363903297339682e-05, -8.965230651473283e-06, -2.2837712461983017e-05, -7.118266544007407e-05, -1.766061867764998e-05, -0.00012170127213687737, 1.5047122443323513e-06, -0.0001227158183230298, -0.00011940949193265694, -3.916962292892928e-05, 3.539693097080049e-06, -8.763751643753315e-05, -3.684727537296706e-05, -4.41268459439384e-06, 2.4400292485821096e-07, -2.2110630263014186e-05, 3.7525657388091938e-06, -0.0001191425541497218, -1.0196735914153043e-05, -4.80464542838982e-05, -8.808836973239406e-05, -8.172190204750601e-05, -8.490312013154783e-06, -2.9264768684745396e-05, 4.668554721786594e-05, -0.0002916607402375926, -3.597293081297748e-05, 2.5341724583915343e-05, -1.0963029660124302e-07, -0.00011030396222402178, -5.44001383027265e-06, -2.5138303035909804e-05, -3.130080874789998e-05, 0.00012434072289713854, -8.285388547617928e-06, 9.758444753204393e-05, -1.4834520538980003e-05, -2.893150715006787e-06, -2.7239765701209118e-05, 3.141635847606766e-05, -4.468915744999802e-05, -1.3246130787451793e-05, 2.27933979418532e-05, 2.2003616076543553e-05, -3.5754636653069494e-05, -0.00020052104000294751, 0.0002717229120327985, -7.628230727884863e-05, 7.1497462991107485e-06, -2.193231381742225e-05, -5.783897008762584e-05, -7.932075993942467e-06, -3.934074083476041e-06]\n"
     ]
    },
    {
     "data": {
      "application/vnd.jupyter.widget-view+json": {
       "model_id": "edce6df8b1ba426c83dbc38fe3611e33",
       "version_major": 2,
       "version_minor": 0
      },
      "text/plain": [
       "HBox(children=(HTML(value=''), FloatProgress(value=0.0, max=386.0), HTML(value='')))"
      ]
     },
     "metadata": {},
     "output_type": "display_data"
    },
    {
     "name": "stdout",
     "output_type": "stream",
     "text": [
      "\n",
      "[-2.5610181559235223e-05, -4.216004647124294e-05, 1.3147421279446903e-06, -1.2870753256132711e-05, -0.0001432573702578599, -8.546307235145212e-06, -1.99365810698085e-06, -6.867076713556325e-06, -7.443156437945617e-05, -0.0002718303094229116, -6.337375163077003e-05, 2.7857924773735943e-05, -1.9781778996176558e-05, -6.078769650674429e-05, -7.55790618672536e-05, 7.105820026914733e-06, -0.0002012851094688184, -1.6050626748864705e-05, -1.0135805805090714e-05, -2.323041552738589e-05, 4.655410395514037e-05, -0.00014823886546039625, -0.00016760708129714627, -2.985529071447557e-05, 6.524997474798011e-06, 8.135745655752508e-05, -3.363903297339682e-05, -8.965230651473283e-06, -2.2837712461983017e-05, -7.118266544007407e-05, -1.766061867764998e-05, -0.00012170127213687737, 1.5047122443323513e-06, -0.0001227158183230298, -0.00011940949193265694, -3.916962292892928e-05, 3.539693097080049e-06, -8.763751643753315e-05, -3.684727537296706e-05, -4.41268459439384e-06, 2.4400292485821096e-07, -2.2110630263014186e-05, 3.7525657388091938e-06, -0.0001191425541497218, -1.0196735914153043e-05, -4.80464542838982e-05, -8.808836973239406e-05, -8.172190204750601e-05, -8.490312013154783e-06, -2.9264768684745396e-05, 4.668554721786594e-05, -0.0002916607402375926, -3.597293081297748e-05, 2.5341724583915343e-05, -1.0963029660124302e-07, -0.00011030396222402178, -5.44001383027265e-06, -2.5138303035909804e-05, -3.130080874789998e-05, 0.00012434072289713854, -8.285388547617928e-06, 9.758444753204393e-05, -1.4834520538980003e-05, -2.893150715006787e-06, -2.7239765701209118e-05, 3.141635847606766e-05, -4.468915744999802e-05, -1.3246130787451793e-05, 2.27933979418532e-05, 2.2003616076543553e-05, -3.5754636653069494e-05, -0.00020052104000294751, 0.0002717229120327985, -7.628230727884863e-05, 7.1497462991107485e-06, -2.193231381742225e-05, -5.783897008762584e-05, -7.932075993942467e-06, -3.934074083476041e-06, -3.8851441049446434e-05]\n"
     ]
    },
    {
     "data": {
      "application/vnd.jupyter.widget-view+json": {
       "model_id": "a3f0f58e0d2a4b53a2e59b7a723c974d",
       "version_major": 2,
       "version_minor": 0
      },
      "text/plain": [
       "HBox(children=(HTML(value=''), FloatProgress(value=0.0, max=386.0), HTML(value='')))"
      ]
     },
     "metadata": {},
     "output_type": "display_data"
    },
    {
     "name": "stdout",
     "output_type": "stream",
     "text": [
      "\n",
      "[-2.5610181559235223e-05, -4.216004647124294e-05, 1.3147421279446903e-06, -1.2870753256132711e-05, -0.0001432573702578599, -8.546307235145212e-06, -1.99365810698085e-06, -6.867076713556325e-06, -7.443156437945617e-05, -0.0002718303094229116, -6.337375163077003e-05, 2.7857924773735943e-05, -1.9781778996176558e-05, -6.078769650674429e-05, -7.55790618672536e-05, 7.105820026914733e-06, -0.0002012851094688184, -1.6050626748864705e-05, -1.0135805805090714e-05, -2.323041552738589e-05, 4.655410395514037e-05, -0.00014823886546039625, -0.00016760708129714627, -2.985529071447557e-05, 6.524997474798011e-06, 8.135745655752508e-05, -3.363903297339682e-05, -8.965230651473283e-06, -2.2837712461983017e-05, -7.118266544007407e-05, -1.766061867764998e-05, -0.00012170127213687737, 1.5047122443323513e-06, -0.0001227158183230298, -0.00011940949193265694, -3.916962292892928e-05, 3.539693097080049e-06, -8.763751643753315e-05, -3.684727537296706e-05, -4.41268459439384e-06, 2.4400292485821096e-07, -2.2110630263014186e-05, 3.7525657388091938e-06, -0.0001191425541497218, -1.0196735914153043e-05, -4.80464542838982e-05, -8.808836973239406e-05, -8.172190204750601e-05, -8.490312013154783e-06, -2.9264768684745396e-05, 4.668554721786594e-05, -0.0002916607402375926, -3.597293081297748e-05, 2.5341724583915343e-05, -1.0963029660124302e-07, -0.00011030396222402178, -5.44001383027265e-06, -2.5138303035909804e-05, -3.130080874789998e-05, 0.00012434072289713854, -8.285388547617928e-06, 9.758444753204393e-05, -1.4834520538980003e-05, -2.893150715006787e-06, -2.7239765701209118e-05, 3.141635847606766e-05, -4.468915744999802e-05, -1.3246130787451793e-05, 2.27933979418532e-05, 2.2003616076543553e-05, -3.5754636653069494e-05, -0.00020052104000294751, 0.0002717229120327985, -7.628230727884863e-05, 7.1497462991107485e-06, -2.193231381742225e-05, -5.783897008762584e-05, -7.932075993942467e-06, -3.934074083476041e-06, -3.8851441049446434e-05, -2.3430236837377466e-05]\n"
     ]
    },
    {
     "data": {
      "application/vnd.jupyter.widget-view+json": {
       "model_id": "c603fd10dc2f453dae9ee34543d6aeb5",
       "version_major": 2,
       "version_minor": 0
      },
      "text/plain": [
       "HBox(children=(HTML(value=''), FloatProgress(value=0.0, max=386.0), HTML(value='')))"
      ]
     },
     "metadata": {},
     "output_type": "display_data"
    },
    {
     "name": "stdout",
     "output_type": "stream",
     "text": [
      "\n",
      "[-2.5610181559235223e-05, -4.216004647124294e-05, 1.3147421279446903e-06, -1.2870753256132711e-05, -0.0001432573702578599, -8.546307235145212e-06, -1.99365810698085e-06, -6.867076713556325e-06, -7.443156437945617e-05, -0.0002718303094229116, -6.337375163077003e-05, 2.7857924773735943e-05, -1.9781778996176558e-05, -6.078769650674429e-05, -7.55790618672536e-05, 7.105820026914733e-06, -0.0002012851094688184, -1.6050626748864705e-05, -1.0135805805090714e-05, -2.323041552738589e-05, 4.655410395514037e-05, -0.00014823886546039625, -0.00016760708129714627, -2.985529071447557e-05, 6.524997474798011e-06, 8.135745655752508e-05, -3.363903297339682e-05, -8.965230651473283e-06, -2.2837712461983017e-05, -7.118266544007407e-05, -1.766061867764998e-05, -0.00012170127213687737, 1.5047122443323513e-06, -0.0001227158183230298, -0.00011940949193265694, -3.916962292892928e-05, 3.539693097080049e-06, -8.763751643753315e-05, -3.684727537296706e-05, -4.41268459439384e-06, 2.4400292485821096e-07, -2.2110630263014186e-05, 3.7525657388091938e-06, -0.0001191425541497218, -1.0196735914153043e-05, -4.80464542838982e-05, -8.808836973239406e-05, -8.172190204750601e-05, -8.490312013154783e-06, -2.9264768684745396e-05, 4.668554721786594e-05, -0.0002916607402375926, -3.597293081297748e-05, 2.5341724583915343e-05, -1.0963029660124302e-07, -0.00011030396222402178, -5.44001383027265e-06, -2.5138303035909804e-05, -3.130080874789998e-05, 0.00012434072289713854, -8.285388547617928e-06, 9.758444753204393e-05, -1.4834520538980003e-05, -2.893150715006787e-06, -2.7239765701209118e-05, 3.141635847606766e-05, -4.468915744999802e-05, -1.3246130787451793e-05, 2.27933979418532e-05, 2.2003616076543553e-05, -3.5754636653069494e-05, -0.00020052104000294751, 0.0002717229120327985, -7.628230727884863e-05, 7.1497462991107485e-06, -2.193231381742225e-05, -5.783897008762584e-05, -7.932075993942467e-06, -3.934074083476041e-06, -3.8851441049446434e-05, -2.3430236837377466e-05, -5.35924466413748e-05]\n"
     ]
    },
    {
     "data": {
      "application/vnd.jupyter.widget-view+json": {
       "model_id": "fb1afc6395e34fd5b6c7dc1c365b861e",
       "version_major": 2,
       "version_minor": 0
      },
      "text/plain": [
       "HBox(children=(HTML(value=''), FloatProgress(value=0.0, max=386.0), HTML(value='')))"
      ]
     },
     "metadata": {},
     "output_type": "display_data"
    },
    {
     "name": "stdout",
     "output_type": "stream",
     "text": [
      "\n",
      "[-2.5610181559235223e-05, -4.216004647124294e-05, 1.3147421279446903e-06, -1.2870753256132711e-05, -0.0001432573702578599, -8.546307235145212e-06, -1.99365810698085e-06, -6.867076713556325e-06, -7.443156437945617e-05, -0.0002718303094229116, -6.337375163077003e-05, 2.7857924773735943e-05, -1.9781778996176558e-05, -6.078769650674429e-05, -7.55790618672536e-05, 7.105820026914733e-06, -0.0002012851094688184, -1.6050626748864705e-05, -1.0135805805090714e-05, -2.323041552738589e-05, 4.655410395514037e-05, -0.00014823886546039625, -0.00016760708129714627, -2.985529071447557e-05, 6.524997474798011e-06, 8.135745655752508e-05, -3.363903297339682e-05, -8.965230651473283e-06, -2.2837712461983017e-05, -7.118266544007407e-05, -1.766061867764998e-05, -0.00012170127213687737, 1.5047122443323513e-06, -0.0001227158183230298, -0.00011940949193265694, -3.916962292892928e-05, 3.539693097080049e-06, -8.763751643753315e-05, -3.684727537296706e-05, -4.41268459439384e-06, 2.4400292485821096e-07, -2.2110630263014186e-05, 3.7525657388091938e-06, -0.0001191425541497218, -1.0196735914153043e-05, -4.80464542838982e-05, -8.808836973239406e-05, -8.172190204750601e-05, -8.490312013154783e-06, -2.9264768684745396e-05, 4.668554721786594e-05, -0.0002916607402375926, -3.597293081297748e-05, 2.5341724583915343e-05, -1.0963029660124302e-07, -0.00011030396222402178, -5.44001383027265e-06, -2.5138303035909804e-05, -3.130080874789998e-05, 0.00012434072289713854, -8.285388547617928e-06, 9.758444753204393e-05, -1.4834520538980003e-05, -2.893150715006787e-06, -2.7239765701209118e-05, 3.141635847606766e-05, -4.468915744999802e-05, -1.3246130787451793e-05, 2.27933979418532e-05, 2.2003616076543553e-05, -3.5754636653069494e-05, -0.00020052104000294751, 0.0002717229120327985, -7.628230727884863e-05, 7.1497462991107485e-06, -2.193231381742225e-05, -5.783897008762584e-05, -7.932075993942467e-06, -3.934074083476041e-06, -3.8851441049446434e-05, -2.3430236837377466e-05, -5.35924466413748e-05, -0.00028952084638139003]\n"
     ]
    },
    {
     "data": {
      "application/vnd.jupyter.widget-view+json": {
       "model_id": "161505cd8e0740eeb30e06822d2ac0ea",
       "version_major": 2,
       "version_minor": 0
      },
      "text/plain": [
       "HBox(children=(HTML(value=''), FloatProgress(value=0.0, max=386.0), HTML(value='')))"
      ]
     },
     "metadata": {},
     "output_type": "display_data"
    },
    {
     "name": "stdout",
     "output_type": "stream",
     "text": [
      "\n",
      "[-2.5610181559235223e-05, -4.216004647124294e-05, 1.3147421279446903e-06, -1.2870753256132711e-05, -0.0001432573702578599, -8.546307235145212e-06, -1.99365810698085e-06, -6.867076713556325e-06, -7.443156437945617e-05, -0.0002718303094229116, -6.337375163077003e-05, 2.7857924773735943e-05, -1.9781778996176558e-05, -6.078769650674429e-05, -7.55790618672536e-05, 7.105820026914733e-06, -0.0002012851094688184, -1.6050626748864705e-05, -1.0135805805090714e-05, -2.323041552738589e-05, 4.655410395514037e-05, -0.00014823886546039625, -0.00016760708129714627, -2.985529071447557e-05, 6.524997474798011e-06, 8.135745655752508e-05, -3.363903297339682e-05, -8.965230651473283e-06, -2.2837712461983017e-05, -7.118266544007407e-05, -1.766061867764998e-05, -0.00012170127213687737, 1.5047122443323513e-06, -0.0001227158183230298, -0.00011940949193265694, -3.916962292892928e-05, 3.539693097080049e-06, -8.763751643753315e-05, -3.684727537296706e-05, -4.41268459439384e-06, 2.4400292485821096e-07, -2.2110630263014186e-05, 3.7525657388091938e-06, -0.0001191425541497218, -1.0196735914153043e-05, -4.80464542838982e-05, -8.808836973239406e-05, -8.172190204750601e-05, -8.490312013154783e-06, -2.9264768684745396e-05, 4.668554721786594e-05, -0.0002916607402375926, -3.597293081297748e-05, 2.5341724583915343e-05, -1.0963029660124302e-07, -0.00011030396222402178, -5.44001383027265e-06, -2.5138303035909804e-05, -3.130080874789998e-05, 0.00012434072289713854, -8.285388547617928e-06, 9.758444753204393e-05, -1.4834520538980003e-05, -2.893150715006787e-06, -2.7239765701209118e-05, 3.141635847606766e-05, -4.468915744999802e-05, -1.3246130787451793e-05, 2.27933979418532e-05, 2.2003616076543553e-05, -3.5754636653069494e-05, -0.00020052104000294751, 0.0002717229120327985, -7.628230727884863e-05, 7.1497462991107485e-06, -2.193231381742225e-05, -5.783897008762584e-05, -7.932075993942467e-06, -3.934074083476041e-06, -3.8851441049446434e-05, -2.3430236837377466e-05, -5.35924466413748e-05, -0.00028952084638139003, -1.4219192566462119e-05]\n"
     ]
    },
    {
     "data": {
      "application/vnd.jupyter.widget-view+json": {
       "model_id": "9e08524065954d81ab54a6b95634ea95",
       "version_major": 2,
       "version_minor": 0
      },
      "text/plain": [
       "HBox(children=(HTML(value=''), FloatProgress(value=0.0, max=386.0), HTML(value='')))"
      ]
     },
     "metadata": {},
     "output_type": "display_data"
    },
    {
     "name": "stdout",
     "output_type": "stream",
     "text": [
      "\n",
      "[-2.5610181559235223e-05, -4.216004647124294e-05, 1.3147421279446903e-06, -1.2870753256132711e-05, -0.0001432573702578599, -8.546307235145212e-06, -1.99365810698085e-06, -6.867076713556325e-06, -7.443156437945617e-05, -0.0002718303094229116, -6.337375163077003e-05, 2.7857924773735943e-05, -1.9781778996176558e-05, -6.078769650674429e-05, -7.55790618672536e-05, 7.105820026914733e-06, -0.0002012851094688184, -1.6050626748864705e-05, -1.0135805805090714e-05, -2.323041552738589e-05, 4.655410395514037e-05, -0.00014823886546039625, -0.00016760708129714627, -2.985529071447557e-05, 6.524997474798011e-06, 8.135745655752508e-05, -3.363903297339682e-05, -8.965230651473283e-06, -2.2837712461983017e-05, -7.118266544007407e-05, -1.766061867764998e-05, -0.00012170127213687737, 1.5047122443323513e-06, -0.0001227158183230298, -0.00011940949193265694, -3.916962292892928e-05, 3.539693097080049e-06, -8.763751643753315e-05, -3.684727537296706e-05, -4.41268459439384e-06, 2.4400292485821096e-07, -2.2110630263014186e-05, 3.7525657388091938e-06, -0.0001191425541497218, -1.0196735914153043e-05, -4.80464542838982e-05, -8.808836973239406e-05, -8.172190204750601e-05, -8.490312013154783e-06, -2.9264768684745396e-05, 4.668554721786594e-05, -0.0002916607402375926, -3.597293081297748e-05, 2.5341724583915343e-05, -1.0963029660124302e-07, -0.00011030396222402178, -5.44001383027265e-06, -2.5138303035909804e-05, -3.130080874789998e-05, 0.00012434072289713854, -8.285388547617928e-06, 9.758444753204393e-05, -1.4834520538980003e-05, -2.893150715006787e-06, -2.7239765701209118e-05, 3.141635847606766e-05, -4.468915744999802e-05, -1.3246130787451793e-05, 2.27933979418532e-05, 2.2003616076543553e-05, -3.5754636653069494e-05, -0.00020052104000294751, 0.0002717229120327985, -7.628230727884863e-05, 7.1497462991107485e-06, -2.193231381742225e-05, -5.783897008762584e-05, -7.932075993942467e-06, -3.934074083476041e-06, -3.8851441049446434e-05, -2.3430236837377466e-05, -5.35924466413748e-05, -0.00028952084638139003, -1.4219192566462119e-05, -8.842450559170753e-05]\n"
     ]
    },
    {
     "data": {
      "application/vnd.jupyter.widget-view+json": {
       "model_id": "93d5c67e878e43449ce7288e8430f3f6",
       "version_major": 2,
       "version_minor": 0
      },
      "text/plain": [
       "HBox(children=(HTML(value=''), FloatProgress(value=0.0, max=386.0), HTML(value='')))"
      ]
     },
     "metadata": {},
     "output_type": "display_data"
    },
    {
     "name": "stdout",
     "output_type": "stream",
     "text": [
      "\n",
      "[-2.5610181559235223e-05, -4.216004647124294e-05, 1.3147421279446903e-06, -1.2870753256132711e-05, -0.0001432573702578599, -8.546307235145212e-06, -1.99365810698085e-06, -6.867076713556325e-06, -7.443156437945617e-05, -0.0002718303094229116, -6.337375163077003e-05, 2.7857924773735943e-05, -1.9781778996176558e-05, -6.078769650674429e-05, -7.55790618672536e-05, 7.105820026914733e-06, -0.0002012851094688184, -1.6050626748864705e-05, -1.0135805805090714e-05, -2.323041552738589e-05, 4.655410395514037e-05, -0.00014823886546039625, -0.00016760708129714627, -2.985529071447557e-05, 6.524997474798011e-06, 8.135745655752508e-05, -3.363903297339682e-05, -8.965230651473283e-06, -2.2837712461983017e-05, -7.118266544007407e-05, -1.766061867764998e-05, -0.00012170127213687737, 1.5047122443323513e-06, -0.0001227158183230298, -0.00011940949193265694, -3.916962292892928e-05, 3.539693097080049e-06, -8.763751643753315e-05, -3.684727537296706e-05, -4.41268459439384e-06, 2.4400292485821096e-07, -2.2110630263014186e-05, 3.7525657388091938e-06, -0.0001191425541497218, -1.0196735914153043e-05, -4.80464542838982e-05, -8.808836973239406e-05, -8.172190204750601e-05, -8.490312013154783e-06, -2.9264768684745396e-05, 4.668554721786594e-05, -0.0002916607402375926, -3.597293081297748e-05, 2.5341724583915343e-05, -1.0963029660124302e-07, -0.00011030396222402178, -5.44001383027265e-06, -2.5138303035909804e-05, -3.130080874789998e-05, 0.00012434072289713854, -8.285388547617928e-06, 9.758444753204393e-05, -1.4834520538980003e-05, -2.893150715006787e-06, -2.7239765701209118e-05, 3.141635847606766e-05, -4.468915744999802e-05, -1.3246130787451793e-05, 2.27933979418532e-05, 2.2003616076543553e-05, -3.5754636653069494e-05, -0.00020052104000294751, 0.0002717229120327985, -7.628230727884863e-05, 7.1497462991107485e-06, -2.193231381742225e-05, -5.783897008762584e-05, -7.932075993942467e-06, -3.934074083476041e-06, -3.8851441049446434e-05, -2.3430236837377466e-05, -5.35924466413748e-05, -0.00028952084638139003, -1.4219192566462119e-05, -8.842450559170753e-05, -1.034470094347234e-05]\n"
     ]
    },
    {
     "data": {
      "application/vnd.jupyter.widget-view+json": {
       "model_id": "6b1da403048042808574aae4cf337017",
       "version_major": 2,
       "version_minor": 0
      },
      "text/plain": [
       "HBox(children=(HTML(value=''), FloatProgress(value=0.0, max=386.0), HTML(value='')))"
      ]
     },
     "metadata": {},
     "output_type": "display_data"
    },
    {
     "name": "stdout",
     "output_type": "stream",
     "text": [
      "\n",
      "[-2.5610181559235223e-05, -4.216004647124294e-05, 1.3147421279446903e-06, -1.2870753256132711e-05, -0.0001432573702578599, -8.546307235145212e-06, -1.99365810698085e-06, -6.867076713556325e-06, -7.443156437945617e-05, -0.0002718303094229116, -6.337375163077003e-05, 2.7857924773735943e-05, -1.9781778996176558e-05, -6.078769650674429e-05, -7.55790618672536e-05, 7.105820026914733e-06, -0.0002012851094688184, -1.6050626748864705e-05, -1.0135805805090714e-05, -2.323041552738589e-05, 4.655410395514037e-05, -0.00014823886546039625, -0.00016760708129714627, -2.985529071447557e-05, 6.524997474798011e-06, 8.135745655752508e-05, -3.363903297339682e-05, -8.965230651473283e-06, -2.2837712461983017e-05, -7.118266544007407e-05, -1.766061867764998e-05, -0.00012170127213687737, 1.5047122443323513e-06, -0.0001227158183230298, -0.00011940949193265694, -3.916962292892928e-05, 3.539693097080049e-06, -8.763751643753315e-05, -3.684727537296706e-05, -4.41268459439384e-06, 2.4400292485821096e-07, -2.2110630263014186e-05, 3.7525657388091938e-06, -0.0001191425541497218, -1.0196735914153043e-05, -4.80464542838982e-05, -8.808836973239406e-05, -8.172190204750601e-05, -8.490312013154783e-06, -2.9264768684745396e-05, 4.668554721786594e-05, -0.0002916607402375926, -3.597293081297748e-05, 2.5341724583915343e-05, -1.0963029660124302e-07, -0.00011030396222402178, -5.44001383027265e-06, -2.5138303035909804e-05, -3.130080874789998e-05, 0.00012434072289713854, -8.285388547617928e-06, 9.758444753204393e-05, -1.4834520538980003e-05, -2.893150715006787e-06, -2.7239765701209118e-05, 3.141635847606766e-05, -4.468915744999802e-05, -1.3246130787451793e-05, 2.27933979418532e-05, 2.2003616076543553e-05, -3.5754636653069494e-05, -0.00020052104000294751, 0.0002717229120327985, -7.628230727884863e-05, 7.1497462991107485e-06, -2.193231381742225e-05, -5.783897008762584e-05, -7.932075993942467e-06, -3.934074083476041e-06, -3.8851441049446434e-05, -2.3430236837377466e-05, -5.35924466413748e-05, -0.00028952084638139003, -1.4219192566462119e-05, -8.842450559170753e-05, -1.034470094347234e-05, -1.4918910302183508e-05]\n"
     ]
    },
    {
     "data": {
      "application/vnd.jupyter.widget-view+json": {
       "model_id": "809541c1e7e64399b41dfbcc245326e8",
       "version_major": 2,
       "version_minor": 0
      },
      "text/plain": [
       "HBox(children=(HTML(value=''), FloatProgress(value=0.0, max=386.0), HTML(value='')))"
      ]
     },
     "metadata": {},
     "output_type": "display_data"
    },
    {
     "name": "stdout",
     "output_type": "stream",
     "text": [
      "\n",
      "[-2.5610181559235223e-05, -4.216004647124294e-05, 1.3147421279446903e-06, -1.2870753256132711e-05, -0.0001432573702578599, -8.546307235145212e-06, -1.99365810698085e-06, -6.867076713556325e-06, -7.443156437945617e-05, -0.0002718303094229116, -6.337375163077003e-05, 2.7857924773735943e-05, -1.9781778996176558e-05, -6.078769650674429e-05, -7.55790618672536e-05, 7.105820026914733e-06, -0.0002012851094688184, -1.6050626748864705e-05, -1.0135805805090714e-05, -2.323041552738589e-05, 4.655410395514037e-05, -0.00014823886546039625, -0.00016760708129714627, -2.985529071447557e-05, 6.524997474798011e-06, 8.135745655752508e-05, -3.363903297339682e-05, -8.965230651473283e-06, -2.2837712461983017e-05, -7.118266544007407e-05, -1.766061867764998e-05, -0.00012170127213687737, 1.5047122443323513e-06, -0.0001227158183230298, -0.00011940949193265694, -3.916962292892928e-05, 3.539693097080049e-06, -8.763751643753315e-05, -3.684727537296706e-05, -4.41268459439384e-06, 2.4400292485821096e-07, -2.2110630263014186e-05, 3.7525657388091938e-06, -0.0001191425541497218, -1.0196735914153043e-05, -4.80464542838982e-05, -8.808836973239406e-05, -8.172190204750601e-05, -8.490312013154783e-06, -2.9264768684745396e-05, 4.668554721786594e-05, -0.0002916607402375926, -3.597293081297748e-05, 2.5341724583915343e-05, -1.0963029660124302e-07, -0.00011030396222402178, -5.44001383027265e-06, -2.5138303035909804e-05, -3.130080874789998e-05, 0.00012434072289713854, -8.285388547617928e-06, 9.758444753204393e-05, -1.4834520538980003e-05, -2.893150715006787e-06, -2.7239765701209118e-05, 3.141635847606766e-05, -4.468915744999802e-05, -1.3246130787451793e-05, 2.27933979418532e-05, 2.2003616076543553e-05, -3.5754636653069494e-05, -0.00020052104000294751, 0.0002717229120327985, -7.628230727884863e-05, 7.1497462991107485e-06, -2.193231381742225e-05, -5.783897008762584e-05, -7.932075993942467e-06, -3.934074083476041e-06, -3.8851441049446434e-05, -2.3430236837377466e-05, -5.35924466413748e-05, -0.00028952084638139003, -1.4219192566462119e-05, -8.842450559170753e-05, -1.034470094347234e-05, -1.4918910302183508e-05, -0.0001465055163419396]\n"
     ]
    },
    {
     "data": {
      "application/vnd.jupyter.widget-view+json": {
       "model_id": "69d0b17b593746ef9cb42cbfa6c2ed40",
       "version_major": 2,
       "version_minor": 0
      },
      "text/plain": [
       "HBox(children=(HTML(value=''), FloatProgress(value=0.0, max=386.0), HTML(value='')))"
      ]
     },
     "metadata": {},
     "output_type": "display_data"
    },
    {
     "name": "stdout",
     "output_type": "stream",
     "text": [
      "\n",
      "[-2.5610181559235223e-05, -4.216004647124294e-05, 1.3147421279446903e-06, -1.2870753256132711e-05, -0.0001432573702578599, -8.546307235145212e-06, -1.99365810698085e-06, -6.867076713556325e-06, -7.443156437945617e-05, -0.0002718303094229116, -6.337375163077003e-05, 2.7857924773735943e-05, -1.9781778996176558e-05, -6.078769650674429e-05, -7.55790618672536e-05, 7.105820026914733e-06, -0.0002012851094688184, -1.6050626748864705e-05, -1.0135805805090714e-05, -2.323041552738589e-05, 4.655410395514037e-05, -0.00014823886546039625, -0.00016760708129714627, -2.985529071447557e-05, 6.524997474798011e-06, 8.135745655752508e-05, -3.363903297339682e-05, -8.965230651473283e-06, -2.2837712461983017e-05, -7.118266544007407e-05, -1.766061867764998e-05, -0.00012170127213687737, 1.5047122443323513e-06, -0.0001227158183230298, -0.00011940949193265694, -3.916962292892928e-05, 3.539693097080049e-06, -8.763751643753315e-05, -3.684727537296706e-05, -4.41268459439384e-06, 2.4400292485821096e-07, -2.2110630263014186e-05, 3.7525657388091938e-06, -0.0001191425541497218, -1.0196735914153043e-05, -4.80464542838982e-05, -8.808836973239406e-05, -8.172190204750601e-05, -8.490312013154783e-06, -2.9264768684745396e-05, 4.668554721786594e-05, -0.0002916607402375926, -3.597293081297748e-05, 2.5341724583915343e-05, -1.0963029660124302e-07, -0.00011030396222402178, -5.44001383027265e-06, -2.5138303035909804e-05, -3.130080874789998e-05, 0.00012434072289713854, -8.285388547617928e-06, 9.758444753204393e-05, -1.4834520538980003e-05, -2.893150715006787e-06, -2.7239765701209118e-05, 3.141635847606766e-05, -4.468915744999802e-05, -1.3246130787451793e-05, 2.27933979418532e-05, 2.2003616076543553e-05, -3.5754636653069494e-05, -0.00020052104000294751, 0.0002717229120327985, -7.628230727884863e-05, 7.1497462991107485e-06, -2.193231381742225e-05, -5.783897008762584e-05, -7.932075993942467e-06, -3.934074083476041e-06, -3.8851441049446434e-05, -2.3430236837377466e-05, -5.35924466413748e-05, -0.00028952084638139003, -1.4219192566462119e-05, -8.842450559170753e-05, -1.034470094347234e-05, -1.4918910302183508e-05, -0.0001465055163419396, 1.6465987175195984e-05]\n"
     ]
    },
    {
     "data": {
      "application/vnd.jupyter.widget-view+json": {
       "model_id": "be6b469d42914c3c8e83c0b10d448123",
       "version_major": 2,
       "version_minor": 0
      },
      "text/plain": [
       "HBox(children=(HTML(value=''), FloatProgress(value=0.0, max=386.0), HTML(value='')))"
      ]
     },
     "metadata": {},
     "output_type": "display_data"
    },
    {
     "name": "stdout",
     "output_type": "stream",
     "text": [
      "\n",
      "[-2.5610181559235223e-05, -4.216004647124294e-05, 1.3147421279446903e-06, -1.2870753256132711e-05, -0.0001432573702578599, -8.546307235145212e-06, -1.99365810698085e-06, -6.867076713556325e-06, -7.443156437945617e-05, -0.0002718303094229116, -6.337375163077003e-05, 2.7857924773735943e-05, -1.9781778996176558e-05, -6.078769650674429e-05, -7.55790618672536e-05, 7.105820026914733e-06, -0.0002012851094688184, -1.6050626748864705e-05, -1.0135805805090714e-05, -2.323041552738589e-05, 4.655410395514037e-05, -0.00014823886546039625, -0.00016760708129714627, -2.985529071447557e-05, 6.524997474798011e-06, 8.135745655752508e-05, -3.363903297339682e-05, -8.965230651473283e-06, -2.2837712461983017e-05, -7.118266544007407e-05, -1.766061867764998e-05, -0.00012170127213687737, 1.5047122443323513e-06, -0.0001227158183230298, -0.00011940949193265694, -3.916962292892928e-05, 3.539693097080049e-06, -8.763751643753315e-05, -3.684727537296706e-05, -4.41268459439384e-06, 2.4400292485821096e-07, -2.2110630263014186e-05, 3.7525657388091938e-06, -0.0001191425541497218, -1.0196735914153043e-05, -4.80464542838982e-05, -8.808836973239406e-05, -8.172190204750601e-05, -8.490312013154783e-06, -2.9264768684745396e-05, 4.668554721786594e-05, -0.0002916607402375926, -3.597293081297748e-05, 2.5341724583915343e-05, -1.0963029660124302e-07, -0.00011030396222402178, -5.44001383027265e-06, -2.5138303035909804e-05, -3.130080874789998e-05, 0.00012434072289713854, -8.285388547617928e-06, 9.758444753204393e-05, -1.4834520538980003e-05, -2.893150715006787e-06, -2.7239765701209118e-05, 3.141635847606766e-05, -4.468915744999802e-05, -1.3246130787451793e-05, 2.27933979418532e-05, 2.2003616076543553e-05, -3.5754636653069494e-05, -0.00020052104000294751, 0.0002717229120327985, -7.628230727884863e-05, 7.1497462991107485e-06, -2.193231381742225e-05, -5.783897008762584e-05, -7.932075993942467e-06, -3.934074083476041e-06, -3.8851441049446434e-05, -2.3430236837377466e-05, -5.35924466413748e-05, -0.00028952084638139003, -1.4219192566462119e-05, -8.842450559170753e-05, -1.034470094347234e-05, -1.4918910302183508e-05, -0.0001465055163419396, 1.6465987175195984e-05, 1.02302964284616e-05]\n"
     ]
    },
    {
     "data": {
      "application/vnd.jupyter.widget-view+json": {
       "model_id": "43c1b3eb4411498cbf64b9069a1c6cb2",
       "version_major": 2,
       "version_minor": 0
      },
      "text/plain": [
       "HBox(children=(HTML(value=''), FloatProgress(value=0.0, max=386.0), HTML(value='')))"
      ]
     },
     "metadata": {},
     "output_type": "display_data"
    },
    {
     "name": "stdout",
     "output_type": "stream",
     "text": [
      "\n",
      "[-2.5610181559235223e-05, -4.216004647124294e-05, 1.3147421279446903e-06, -1.2870753256132711e-05, -0.0001432573702578599, -8.546307235145212e-06, -1.99365810698085e-06, -6.867076713556325e-06, -7.443156437945617e-05, -0.0002718303094229116, -6.337375163077003e-05, 2.7857924773735943e-05, -1.9781778996176558e-05, -6.078769650674429e-05, -7.55790618672536e-05, 7.105820026914733e-06, -0.0002012851094688184, -1.6050626748864705e-05, -1.0135805805090714e-05, -2.323041552738589e-05, 4.655410395514037e-05, -0.00014823886546039625, -0.00016760708129714627, -2.985529071447557e-05, 6.524997474798011e-06, 8.135745655752508e-05, -3.363903297339682e-05, -8.965230651473283e-06, -2.2837712461983017e-05, -7.118266544007407e-05, -1.766061867764998e-05, -0.00012170127213687737, 1.5047122443323513e-06, -0.0001227158183230298, -0.00011940949193265694, -3.916962292892928e-05, 3.539693097080049e-06, -8.763751643753315e-05, -3.684727537296706e-05, -4.41268459439384e-06, 2.4400292485821096e-07, -2.2110630263014186e-05, 3.7525657388091938e-06, -0.0001191425541497218, -1.0196735914153043e-05, -4.80464542838982e-05, -8.808836973239406e-05, -8.172190204750601e-05, -8.490312013154783e-06, -2.9264768684745396e-05, 4.668554721786594e-05, -0.0002916607402375926, -3.597293081297748e-05, 2.5341724583915343e-05, -1.0963029660124302e-07, -0.00011030396222402178, -5.44001383027265e-06, -2.5138303035909804e-05, -3.130080874789998e-05, 0.00012434072289713854, -8.285388547617928e-06, 9.758444753204393e-05, -1.4834520538980003e-05, -2.893150715006787e-06, -2.7239765701209118e-05, 3.141635847606766e-05, -4.468915744999802e-05, -1.3246130787451793e-05, 2.27933979418532e-05, 2.2003616076543553e-05, -3.5754636653069494e-05, -0.00020052104000294751, 0.0002717229120327985, -7.628230727884863e-05, 7.1497462991107485e-06, -2.193231381742225e-05, -5.783897008762584e-05, -7.932075993942467e-06, -3.934074083476041e-06, -3.8851441049446434e-05, -2.3430236837377466e-05, -5.35924466413748e-05, -0.00028952084638139003, -1.4219192566462119e-05, -8.842450559170753e-05, -1.034470094347234e-05, -1.4918910302183508e-05, -0.0001465055163419396, 1.6465987175195984e-05, 1.02302964284616e-05, -0.0003328520622212505]\n"
     ]
    },
    {
     "data": {
      "application/vnd.jupyter.widget-view+json": {
       "model_id": "29ead3c1fec14212b3fb85c1c036d0e0",
       "version_major": 2,
       "version_minor": 0
      },
      "text/plain": [
       "HBox(children=(HTML(value=''), FloatProgress(value=0.0, max=386.0), HTML(value='')))"
      ]
     },
     "metadata": {},
     "output_type": "display_data"
    },
    {
     "name": "stdout",
     "output_type": "stream",
     "text": [
      "\n",
      "[-2.5610181559235223e-05, -4.216004647124294e-05, 1.3147421279446903e-06, -1.2870753256132711e-05, -0.0001432573702578599, -8.546307235145212e-06, -1.99365810698085e-06, -6.867076713556325e-06, -7.443156437945617e-05, -0.0002718303094229116, -6.337375163077003e-05, 2.7857924773735943e-05, -1.9781778996176558e-05, -6.078769650674429e-05, -7.55790618672536e-05, 7.105820026914733e-06, -0.0002012851094688184, -1.6050626748864705e-05, -1.0135805805090714e-05, -2.323041552738589e-05, 4.655410395514037e-05, -0.00014823886546039625, -0.00016760708129714627, -2.985529071447557e-05, 6.524997474798011e-06, 8.135745655752508e-05, -3.363903297339682e-05, -8.965230651473283e-06, -2.2837712461983017e-05, -7.118266544007407e-05, -1.766061867764998e-05, -0.00012170127213687737, 1.5047122443323513e-06, -0.0001227158183230298, -0.00011940949193265694, -3.916962292892928e-05, 3.539693097080049e-06, -8.763751643753315e-05, -3.684727537296706e-05, -4.41268459439384e-06, 2.4400292485821096e-07, -2.2110630263014186e-05, 3.7525657388091938e-06, -0.0001191425541497218, -1.0196735914153043e-05, -4.80464542838982e-05, -8.808836973239406e-05, -8.172190204750601e-05, -8.490312013154783e-06, -2.9264768684745396e-05, 4.668554721786594e-05, -0.0002916607402375926, -3.597293081297748e-05, 2.5341724583915343e-05, -1.0963029660124302e-07, -0.00011030396222402178, -5.44001383027265e-06, -2.5138303035909804e-05, -3.130080874789998e-05, 0.00012434072289713854, -8.285388547617928e-06, 9.758444753204393e-05, -1.4834520538980003e-05, -2.893150715006787e-06, -2.7239765701209118e-05, 3.141635847606766e-05, -4.468915744999802e-05, -1.3246130787451793e-05, 2.27933979418532e-05, 2.2003616076543553e-05, -3.5754636653069494e-05, -0.00020052104000294751, 0.0002717229120327985, -7.628230727884863e-05, 7.1497462991107485e-06, -2.193231381742225e-05, -5.783897008762584e-05, -7.932075993942467e-06, -3.934074083476041e-06, -3.8851441049446434e-05, -2.3430236837377466e-05, -5.35924466413748e-05, -0.00028952084638139003, -1.4219192566462119e-05, -8.842450559170753e-05, -1.034470094347234e-05, -1.4918910302183508e-05, -0.0001465055163419396, 1.6465987175195984e-05, 1.02302964284616e-05, -0.0003328520622212505, -0.00020076812838371386]\n"
     ]
    },
    {
     "data": {
      "application/vnd.jupyter.widget-view+json": {
       "model_id": "b699d6a6b4fc44acb4e5f30ff83de169",
       "version_major": 2,
       "version_minor": 0
      },
      "text/plain": [
       "HBox(children=(HTML(value=''), FloatProgress(value=0.0, max=386.0), HTML(value='')))"
      ]
     },
     "metadata": {},
     "output_type": "display_data"
    },
    {
     "name": "stdout",
     "output_type": "stream",
     "text": [
      "\n",
      "[-2.5610181559235223e-05, -4.216004647124294e-05, 1.3147421279446903e-06, -1.2870753256132711e-05, -0.0001432573702578599, -8.546307235145212e-06, -1.99365810698085e-06, -6.867076713556325e-06, -7.443156437945617e-05, -0.0002718303094229116, -6.337375163077003e-05, 2.7857924773735943e-05, -1.9781778996176558e-05, -6.078769650674429e-05, -7.55790618672536e-05, 7.105820026914733e-06, -0.0002012851094688184, -1.6050626748864705e-05, -1.0135805805090714e-05, -2.323041552738589e-05, 4.655410395514037e-05, -0.00014823886546039625, -0.00016760708129714627, -2.985529071447557e-05, 6.524997474798011e-06, 8.135745655752508e-05, -3.363903297339682e-05, -8.965230651473283e-06, -2.2837712461983017e-05, -7.118266544007407e-05, -1.766061867764998e-05, -0.00012170127213687737, 1.5047122443323513e-06, -0.0001227158183230298, -0.00011940949193265694, -3.916962292892928e-05, 3.539693097080049e-06, -8.763751643753315e-05, -3.684727537296706e-05, -4.41268459439384e-06, 2.4400292485821096e-07, -2.2110630263014186e-05, 3.7525657388091938e-06, -0.0001191425541497218, -1.0196735914153043e-05, -4.80464542838982e-05, -8.808836973239406e-05, -8.172190204750601e-05, -8.490312013154783e-06, -2.9264768684745396e-05, 4.668554721786594e-05, -0.0002916607402375926, -3.597293081297748e-05, 2.5341724583915343e-05, -1.0963029660124302e-07, -0.00011030396222402178, -5.44001383027265e-06, -2.5138303035909804e-05, -3.130080874789998e-05, 0.00012434072289713854, -8.285388547617928e-06, 9.758444753204393e-05, -1.4834520538980003e-05, -2.893150715006787e-06, -2.7239765701209118e-05, 3.141635847606766e-05, -4.468915744999802e-05, -1.3246130787451793e-05, 2.27933979418532e-05, 2.2003616076543553e-05, -3.5754636653069494e-05, -0.00020052104000294751, 0.0002717229120327985, -7.628230727884863e-05, 7.1497462991107485e-06, -2.193231381742225e-05, -5.783897008762584e-05, -7.932075993942467e-06, -3.934074083476041e-06, -3.8851441049446434e-05, -2.3430236837377466e-05, -5.35924466413748e-05, -0.00028952084638139003, -1.4219192566462119e-05, -8.842450559170753e-05, -1.034470094347234e-05, -1.4918910302183508e-05, -0.0001465055163419396, 1.6465987175195984e-05, 1.02302964284616e-05, -0.0003328520622212505, -0.00020076812838371386, -0.00016623057151655268]\n"
     ]
    },
    {
     "data": {
      "application/vnd.jupyter.widget-view+json": {
       "model_id": "5cc707bc87f44eb683f82143951f0e4e",
       "version_major": 2,
       "version_minor": 0
      },
      "text/plain": [
       "HBox(children=(HTML(value=''), FloatProgress(value=0.0, max=386.0), HTML(value='')))"
      ]
     },
     "metadata": {},
     "output_type": "display_data"
    },
    {
     "name": "stdout",
     "output_type": "stream",
     "text": [
      "\n",
      "[-2.5610181559235223e-05, -4.216004647124294e-05, 1.3147421279446903e-06, -1.2870753256132711e-05, -0.0001432573702578599, -8.546307235145212e-06, -1.99365810698085e-06, -6.867076713556325e-06, -7.443156437945617e-05, -0.0002718303094229116, -6.337375163077003e-05, 2.7857924773735943e-05, -1.9781778996176558e-05, -6.078769650674429e-05, -7.55790618672536e-05, 7.105820026914733e-06, -0.0002012851094688184, -1.6050626748864705e-05, -1.0135805805090714e-05, -2.323041552738589e-05, 4.655410395514037e-05, -0.00014823886546039625, -0.00016760708129714627, -2.985529071447557e-05, 6.524997474798011e-06, 8.135745655752508e-05, -3.363903297339682e-05, -8.965230651473283e-06, -2.2837712461983017e-05, -7.118266544007407e-05, -1.766061867764998e-05, -0.00012170127213687737, 1.5047122443323513e-06, -0.0001227158183230298, -0.00011940949193265694, -3.916962292892928e-05, 3.539693097080049e-06, -8.763751643753315e-05, -3.684727537296706e-05, -4.41268459439384e-06, 2.4400292485821096e-07, -2.2110630263014186e-05, 3.7525657388091938e-06, -0.0001191425541497218, -1.0196735914153043e-05, -4.80464542838982e-05, -8.808836973239406e-05, -8.172190204750601e-05, -8.490312013154783e-06, -2.9264768684745396e-05, 4.668554721786594e-05, -0.0002916607402375926, -3.597293081297748e-05, 2.5341724583915343e-05, -1.0963029660124302e-07, -0.00011030396222402178, -5.44001383027265e-06, -2.5138303035909804e-05, -3.130080874789998e-05, 0.00012434072289713854, -8.285388547617928e-06, 9.758444753204393e-05, -1.4834520538980003e-05, -2.893150715006787e-06, -2.7239765701209118e-05, 3.141635847606766e-05, -4.468915744999802e-05, -1.3246130787451793e-05, 2.27933979418532e-05, 2.2003616076543553e-05, -3.5754636653069494e-05, -0.00020052104000294751, 0.0002717229120327985, -7.628230727884863e-05, 7.1497462991107485e-06, -2.193231381742225e-05, -5.783897008762584e-05, -7.932075993942467e-06, -3.934074083476041e-06, -3.8851441049446434e-05, -2.3430236837377466e-05, -5.35924466413748e-05, -0.00028952084638139003, -1.4219192566462119e-05, -8.842450559170753e-05, -1.034470094347234e-05, -1.4918910302183508e-05, -0.0001465055163419396, 1.6465987175195984e-05, 1.02302964284616e-05, -0.0003328520622212505, -0.00020076812838371386, -0.00016623057151655268, 9.663831127378758e-06]\n"
     ]
    },
    {
     "data": {
      "application/vnd.jupyter.widget-view+json": {
       "model_id": "aa1e1f912e5e4b1b893801fc3469f85f",
       "version_major": 2,
       "version_minor": 0
      },
      "text/plain": [
       "HBox(children=(HTML(value=''), FloatProgress(value=0.0, max=386.0), HTML(value='')))"
      ]
     },
     "metadata": {},
     "output_type": "display_data"
    },
    {
     "name": "stdout",
     "output_type": "stream",
     "text": [
      "\n",
      "[-2.5610181559235223e-05, -4.216004647124294e-05, 1.3147421279446903e-06, -1.2870753256132711e-05, -0.0001432573702578599, -8.546307235145212e-06, -1.99365810698085e-06, -6.867076713556325e-06, -7.443156437945617e-05, -0.0002718303094229116, -6.337375163077003e-05, 2.7857924773735943e-05, -1.9781778996176558e-05, -6.078769650674429e-05, -7.55790618672536e-05, 7.105820026914733e-06, -0.0002012851094688184, -1.6050626748864705e-05, -1.0135805805090714e-05, -2.323041552738589e-05, 4.655410395514037e-05, -0.00014823886546039625, -0.00016760708129714627, -2.985529071447557e-05, 6.524997474798011e-06, 8.135745655752508e-05, -3.363903297339682e-05, -8.965230651473283e-06, -2.2837712461983017e-05, -7.118266544007407e-05, -1.766061867764998e-05, -0.00012170127213687737, 1.5047122443323513e-06, -0.0001227158183230298, -0.00011940949193265694, -3.916962292892928e-05, 3.539693097080049e-06, -8.763751643753315e-05, -3.684727537296706e-05, -4.41268459439384e-06, 2.4400292485821096e-07, -2.2110630263014186e-05, 3.7525657388091938e-06, -0.0001191425541497218, -1.0196735914153043e-05, -4.80464542838982e-05, -8.808836973239406e-05, -8.172190204750601e-05, -8.490312013154783e-06, -2.9264768684745396e-05, 4.668554721786594e-05, -0.0002916607402375926, -3.597293081297748e-05, 2.5341724583915343e-05, -1.0963029660124302e-07, -0.00011030396222402178, -5.44001383027265e-06, -2.5138303035909804e-05, -3.130080874789998e-05, 0.00012434072289713854, -8.285388547617928e-06, 9.758444753204393e-05, -1.4834520538980003e-05, -2.893150715006787e-06, -2.7239765701209118e-05, 3.141635847606766e-05, -4.468915744999802e-05, -1.3246130787451793e-05, 2.27933979418532e-05, 2.2003616076543553e-05, -3.5754636653069494e-05, -0.00020052104000294751, 0.0002717229120327985, -7.628230727884863e-05, 7.1497462991107485e-06, -2.193231381742225e-05, -5.783897008762584e-05, -7.932075993942467e-06, -3.934074083476041e-06, -3.8851441049446434e-05, -2.3430236837377466e-05, -5.35924466413748e-05, -0.00028952084638139003, -1.4219192566462119e-05, -8.842450559170753e-05, -1.034470094347234e-05, -1.4918910302183508e-05, -0.0001465055163419396, 1.6465987175195984e-05, 1.02302964284616e-05, -0.0003328520622212505, -0.00020076812838371386, -0.00016623057151655268, 9.663831127378758e-06, -1.0408870360703593e-05]\n"
     ]
    },
    {
     "data": {
      "application/vnd.jupyter.widget-view+json": {
       "model_id": "149faf58e160488da6fad968c09c3cb6",
       "version_major": 2,
       "version_minor": 0
      },
      "text/plain": [
       "HBox(children=(HTML(value=''), FloatProgress(value=0.0, max=386.0), HTML(value='')))"
      ]
     },
     "metadata": {},
     "output_type": "display_data"
    },
    {
     "name": "stdout",
     "output_type": "stream",
     "text": [
      "\n",
      "[-2.5610181559235223e-05, -4.216004647124294e-05, 1.3147421279446903e-06, -1.2870753256132711e-05, -0.0001432573702578599, -8.546307235145212e-06, -1.99365810698085e-06, -6.867076713556325e-06, -7.443156437945617e-05, -0.0002718303094229116, -6.337375163077003e-05, 2.7857924773735943e-05, -1.9781778996176558e-05, -6.078769650674429e-05, -7.55790618672536e-05, 7.105820026914733e-06, -0.0002012851094688184, -1.6050626748864705e-05, -1.0135805805090714e-05, -2.323041552738589e-05, 4.655410395514037e-05, -0.00014823886546039625, -0.00016760708129714627, -2.985529071447557e-05, 6.524997474798011e-06, 8.135745655752508e-05, -3.363903297339682e-05, -8.965230651473283e-06, -2.2837712461983017e-05, -7.118266544007407e-05, -1.766061867764998e-05, -0.00012170127213687737, 1.5047122443323513e-06, -0.0001227158183230298, -0.00011940949193265694, -3.916962292892928e-05, 3.539693097080049e-06, -8.763751643753315e-05, -3.684727537296706e-05, -4.41268459439384e-06, 2.4400292485821096e-07, -2.2110630263014186e-05, 3.7525657388091938e-06, -0.0001191425541497218, -1.0196735914153043e-05, -4.80464542838982e-05, -8.808836973239406e-05, -8.172190204750601e-05, -8.490312013154783e-06, -2.9264768684745396e-05, 4.668554721786594e-05, -0.0002916607402375926, -3.597293081297748e-05, 2.5341724583915343e-05, -1.0963029660124302e-07, -0.00011030396222402178, -5.44001383027265e-06, -2.5138303035909804e-05, -3.130080874789998e-05, 0.00012434072289713854, -8.285388547617928e-06, 9.758444753204393e-05, -1.4834520538980003e-05, -2.893150715006787e-06, -2.7239765701209118e-05, 3.141635847606766e-05, -4.468915744999802e-05, -1.3246130787451793e-05, 2.27933979418532e-05, 2.2003616076543553e-05, -3.5754636653069494e-05, -0.00020052104000294751, 0.0002717229120327985, -7.628230727884863e-05, 7.1497462991107485e-06, -2.193231381742225e-05, -5.783897008762584e-05, -7.932075993942467e-06, -3.934074083476041e-06, -3.8851441049446434e-05, -2.3430236837377466e-05, -5.35924466413748e-05, -0.00028952084638139003, -1.4219192566462119e-05, -8.842450559170753e-05, -1.034470094347234e-05, -1.4918910302183508e-05, -0.0001465055163419396, 1.6465987175195984e-05, 1.02302964284616e-05, -0.0003328520622212505, -0.00020076812838371386, -0.00016623057151655268, 9.663831127378758e-06, -1.0408870360703593e-05, -0.00012366546295744865]\n"
     ]
    },
    {
     "data": {
      "application/vnd.jupyter.widget-view+json": {
       "model_id": "8f99824264f444bbabce1cabe772f048",
       "version_major": 2,
       "version_minor": 0
      },
      "text/plain": [
       "HBox(children=(HTML(value=''), FloatProgress(value=0.0, max=386.0), HTML(value='')))"
      ]
     },
     "metadata": {},
     "output_type": "display_data"
    },
    {
     "name": "stdout",
     "output_type": "stream",
     "text": [
      "\n",
      "[-2.5610181559235223e-05, -4.216004647124294e-05, 1.3147421279446903e-06, -1.2870753256132711e-05, -0.0001432573702578599, -8.546307235145212e-06, -1.99365810698085e-06, -6.867076713556325e-06, -7.443156437945617e-05, -0.0002718303094229116, -6.337375163077003e-05, 2.7857924773735943e-05, -1.9781778996176558e-05, -6.078769650674429e-05, -7.55790618672536e-05, 7.105820026914733e-06, -0.0002012851094688184, -1.6050626748864705e-05, -1.0135805805090714e-05, -2.323041552738589e-05, 4.655410395514037e-05, -0.00014823886546039625, -0.00016760708129714627, -2.985529071447557e-05, 6.524997474798011e-06, 8.135745655752508e-05, -3.363903297339682e-05, -8.965230651473283e-06, -2.2837712461983017e-05, -7.118266544007407e-05, -1.766061867764998e-05, -0.00012170127213687737, 1.5047122443323513e-06, -0.0001227158183230298, -0.00011940949193265694, -3.916962292892928e-05, 3.539693097080049e-06, -8.763751643753315e-05, -3.684727537296706e-05, -4.41268459439384e-06, 2.4400292485821096e-07, -2.2110630263014186e-05, 3.7525657388091938e-06, -0.0001191425541497218, -1.0196735914153043e-05, -4.80464542838982e-05, -8.808836973239406e-05, -8.172190204750601e-05, -8.490312013154783e-06, -2.9264768684745396e-05, 4.668554721786594e-05, -0.0002916607402375926, -3.597293081297748e-05, 2.5341724583915343e-05, -1.0963029660124302e-07, -0.00011030396222402178, -5.44001383027265e-06, -2.5138303035909804e-05, -3.130080874789998e-05, 0.00012434072289713854, -8.285388547617928e-06, 9.758444753204393e-05, -1.4834520538980003e-05, -2.893150715006787e-06, -2.7239765701209118e-05, 3.141635847606766e-05, -4.468915744999802e-05, -1.3246130787451793e-05, 2.27933979418532e-05, 2.2003616076543553e-05, -3.5754636653069494e-05, -0.00020052104000294751, 0.0002717229120327985, -7.628230727884863e-05, 7.1497462991107485e-06, -2.193231381742225e-05, -5.783897008762584e-05, -7.932075993942467e-06, -3.934074083476041e-06, -3.8851441049446434e-05, -2.3430236837377466e-05, -5.35924466413748e-05, -0.00028952084638139003, -1.4219192566462119e-05, -8.842450559170753e-05, -1.034470094347234e-05, -1.4918910302183508e-05, -0.0001465055163419396, 1.6465987175195984e-05, 1.02302964284616e-05, -0.0003328520622212505, -0.00020076812838371386, -0.00016623057151655268, 9.663831127378758e-06, -1.0408870360703593e-05, -0.00012366546295744865, -1.744916473725433e-05]\n"
     ]
    },
    {
     "data": {
      "application/vnd.jupyter.widget-view+json": {
       "model_id": "e8e90c92a74b4b179252e9fecf040584",
       "version_major": 2,
       "version_minor": 0
      },
      "text/plain": [
       "HBox(children=(HTML(value=''), FloatProgress(value=0.0, max=386.0), HTML(value='')))"
      ]
     },
     "metadata": {},
     "output_type": "display_data"
    },
    {
     "name": "stdout",
     "output_type": "stream",
     "text": [
      "\n",
      "[-2.5610181559235223e-05, -4.216004647124294e-05, 1.3147421279446903e-06, -1.2870753256132711e-05, -0.0001432573702578599, -8.546307235145212e-06, -1.99365810698085e-06, -6.867076713556325e-06, -7.443156437945617e-05, -0.0002718303094229116, -6.337375163077003e-05, 2.7857924773735943e-05, -1.9781778996176558e-05, -6.078769650674429e-05, -7.55790618672536e-05, 7.105820026914733e-06, -0.0002012851094688184, -1.6050626748864705e-05, -1.0135805805090714e-05, -2.323041552738589e-05, 4.655410395514037e-05, -0.00014823886546039625, -0.00016760708129714627, -2.985529071447557e-05, 6.524997474798011e-06, 8.135745655752508e-05, -3.363903297339682e-05, -8.965230651473283e-06, -2.2837712461983017e-05, -7.118266544007407e-05, -1.766061867764998e-05, -0.00012170127213687737, 1.5047122443323513e-06, -0.0001227158183230298, -0.00011940949193265694, -3.916962292892928e-05, 3.539693097080049e-06, -8.763751643753315e-05, -3.684727537296706e-05, -4.41268459439384e-06, 2.4400292485821096e-07, -2.2110630263014186e-05, 3.7525657388091938e-06, -0.0001191425541497218, -1.0196735914153043e-05, -4.80464542838982e-05, -8.808836973239406e-05, -8.172190204750601e-05, -8.490312013154783e-06, -2.9264768684745396e-05, 4.668554721786594e-05, -0.0002916607402375926, -3.597293081297748e-05, 2.5341724583915343e-05, -1.0963029660124302e-07, -0.00011030396222402178, -5.44001383027265e-06, -2.5138303035909804e-05, -3.130080874789998e-05, 0.00012434072289713854, -8.285388547617928e-06, 9.758444753204393e-05, -1.4834520538980003e-05, -2.893150715006787e-06, -2.7239765701209118e-05, 3.141635847606766e-05, -4.468915744999802e-05, -1.3246130787451793e-05, 2.27933979418532e-05, 2.2003616076543553e-05, -3.5754636653069494e-05, -0.00020052104000294751, 0.0002717229120327985, -7.628230727884863e-05, 7.1497462991107485e-06, -2.193231381742225e-05, -5.783897008762584e-05, -7.932075993942467e-06, -3.934074083476041e-06, -3.8851441049446434e-05, -2.3430236837377466e-05, -5.35924466413748e-05, -0.00028952084638139003, -1.4219192566462119e-05, -8.842450559170753e-05, -1.034470094347234e-05, -1.4918910302183508e-05, -0.0001465055163419396, 1.6465987175195984e-05, 1.02302964284616e-05, -0.0003328520622212505, -0.00020076812838371386, -0.00016623057151655268, 9.663831127378758e-06, -1.0408870360703593e-05, -0.00012366546295744865, -1.744916473725433e-05, -1.8659151293135e-05]\n"
     ]
    },
    {
     "data": {
      "application/vnd.jupyter.widget-view+json": {
       "model_id": "de182a4077de4a8588d36c5b5f8bf774",
       "version_major": 2,
       "version_minor": 0
      },
      "text/plain": [
       "HBox(children=(HTML(value=''), FloatProgress(value=0.0, max=386.0), HTML(value='')))"
      ]
     },
     "metadata": {},
     "output_type": "display_data"
    },
    {
     "name": "stdout",
     "output_type": "stream",
     "text": [
      "\n",
      "[-2.5610181559235223e-05, -4.216004647124294e-05, 1.3147421279446903e-06, -1.2870753256132711e-05, -0.0001432573702578599, -8.546307235145212e-06, -1.99365810698085e-06, -6.867076713556325e-06, -7.443156437945617e-05, -0.0002718303094229116, -6.337375163077003e-05, 2.7857924773735943e-05, -1.9781778996176558e-05, -6.078769650674429e-05, -7.55790618672536e-05, 7.105820026914733e-06, -0.0002012851094688184, -1.6050626748864705e-05, -1.0135805805090714e-05, -2.323041552738589e-05, 4.655410395514037e-05, -0.00014823886546039625, -0.00016760708129714627, -2.985529071447557e-05, 6.524997474798011e-06, 8.135745655752508e-05, -3.363903297339682e-05, -8.965230651473283e-06, -2.2837712461983017e-05, -7.118266544007407e-05, -1.766061867764998e-05, -0.00012170127213687737, 1.5047122443323513e-06, -0.0001227158183230298, -0.00011940949193265694, -3.916962292892928e-05, 3.539693097080049e-06, -8.763751643753315e-05, -3.684727537296706e-05, -4.41268459439384e-06, 2.4400292485821096e-07, -2.2110630263014186e-05, 3.7525657388091938e-06, -0.0001191425541497218, -1.0196735914153043e-05, -4.80464542838982e-05, -8.808836973239406e-05, -8.172190204750601e-05, -8.490312013154783e-06, -2.9264768684745396e-05, 4.668554721786594e-05, -0.0002916607402375926, -3.597293081297748e-05, 2.5341724583915343e-05, -1.0963029660124302e-07, -0.00011030396222402178, -5.44001383027265e-06, -2.5138303035909804e-05, -3.130080874789998e-05, 0.00012434072289713854, -8.285388547617928e-06, 9.758444753204393e-05, -1.4834520538980003e-05, -2.893150715006787e-06, -2.7239765701209118e-05, 3.141635847606766e-05, -4.468915744999802e-05, -1.3246130787451793e-05, 2.27933979418532e-05, 2.2003616076543553e-05, -3.5754636653069494e-05, -0.00020052104000294751, 0.0002717229120327985, -7.628230727884863e-05, 7.1497462991107485e-06, -2.193231381742225e-05, -5.783897008762584e-05, -7.932075993942467e-06, -3.934074083476041e-06, -3.8851441049446434e-05, -2.3430236837377466e-05, -5.35924466413748e-05, -0.00028952084638139003, -1.4219192566462119e-05, -8.842450559170753e-05, -1.034470094347234e-05, -1.4918910302183508e-05, -0.0001465055163419396, 1.6465987175195984e-05, 1.02302964284616e-05, -0.0003328520622212505, -0.00020076812838371386, -0.00016623057151655268, 9.663831127378758e-06, -1.0408870360703593e-05, -0.00012366546295744865, -1.744916473725433e-05, -1.8659151293135e-05, -9.830721006342386e-05]\n"
     ]
    },
    {
     "data": {
      "application/vnd.jupyter.widget-view+json": {
       "model_id": "a32b35aaf9b24bb7903df6c7e99821c3",
       "version_major": 2,
       "version_minor": 0
      },
      "text/plain": [
       "HBox(children=(HTML(value=''), FloatProgress(value=0.0, max=386.0), HTML(value='')))"
      ]
     },
     "metadata": {},
     "output_type": "display_data"
    },
    {
     "name": "stdout",
     "output_type": "stream",
     "text": [
      "\n",
      "[-2.5610181559235223e-05, -4.216004647124294e-05, 1.3147421279446903e-06, -1.2870753256132711e-05, -0.0001432573702578599, -8.546307235145212e-06, -1.99365810698085e-06, -6.867076713556325e-06, -7.443156437945617e-05, -0.0002718303094229116, -6.337375163077003e-05, 2.7857924773735943e-05, -1.9781778996176558e-05, -6.078769650674429e-05, -7.55790618672536e-05, 7.105820026914733e-06, -0.0002012851094688184, -1.6050626748864705e-05, -1.0135805805090714e-05, -2.323041552738589e-05, 4.655410395514037e-05, -0.00014823886546039625, -0.00016760708129714627, -2.985529071447557e-05, 6.524997474798011e-06, 8.135745655752508e-05, -3.363903297339682e-05, -8.965230651473283e-06, -2.2837712461983017e-05, -7.118266544007407e-05, -1.766061867764998e-05, -0.00012170127213687737, 1.5047122443323513e-06, -0.0001227158183230298, -0.00011940949193265694, -3.916962292892928e-05, 3.539693097080049e-06, -8.763751643753315e-05, -3.684727537296706e-05, -4.41268459439384e-06, 2.4400292485821096e-07, -2.2110630263014186e-05, 3.7525657388091938e-06, -0.0001191425541497218, -1.0196735914153043e-05, -4.80464542838982e-05, -8.808836973239406e-05, -8.172190204750601e-05, -8.490312013154783e-06, -2.9264768684745396e-05, 4.668554721786594e-05, -0.0002916607402375926, -3.597293081297748e-05, 2.5341724583915343e-05, -1.0963029660124302e-07, -0.00011030396222402178, -5.44001383027265e-06, -2.5138303035909804e-05, -3.130080874789998e-05, 0.00012434072289713854, -8.285388547617928e-06, 9.758444753204393e-05, -1.4834520538980003e-05, -2.893150715006787e-06, -2.7239765701209118e-05, 3.141635847606766e-05, -4.468915744999802e-05, -1.3246130787451793e-05, 2.27933979418532e-05, 2.2003616076543553e-05, -3.5754636653069494e-05, -0.00020052104000294751, 0.0002717229120327985, -7.628230727884863e-05, 7.1497462991107485e-06, -2.193231381742225e-05, -5.783897008762584e-05, -7.932075993942467e-06, -3.934074083476041e-06, -3.8851441049446434e-05, -2.3430236837377466e-05, -5.35924466413748e-05, -0.00028952084638139003, -1.4219192566462119e-05, -8.842450559170753e-05, -1.034470094347234e-05, -1.4918910302183508e-05, -0.0001465055163419396, 1.6465987175195984e-05, 1.02302964284616e-05, -0.0003328520622212505, -0.00020076812838371386, -0.00016623057151655268, 9.663831127378758e-06, -1.0408870360703593e-05, -0.00012366546295744865, -1.744916473725433e-05, -1.8659151293135e-05, -9.830721006342386e-05, 1.3247469795116956e-05]\n",
      "\n"
     ]
    }
   ],
   "source": [
    "# Running the LASSO (L=3) on 30% of the data\n",
    "alphas = [0.001, 0.01, 0.05, 0.1, 0.5, 1, 5, 10]\n",
    "window_size = 200\n",
    "RMSE_lasso2 = []\n",
    "\n",
    "for p in tqdm(permno):\n",
    "        x = X_kitchen_sink[p].iloc[:,3:].values\n",
    "        y = X_kitchen_sink[p].iloc[:,1].values\n",
    "        # We use train-test not to divide data into training and test data but rather to use a 30% subset of data\n",
    "        x_train, x_test, y_train, y_test = train_test_split(x, y, test_size=0.30, shuffle=False)\n",
    "        RMSE_lasso2.append(Rolling_Window_LASSO(window_size, x_test, y_test, alphas))\n",
    "    "
   ]
  },
  {
   "cell_type": "code",
   "execution_count": 522,
   "metadata": {},
   "outputs": [
    {
     "data": {
      "text/plain": [
       "-4.2817896829722736e-05"
      ]
     },
     "execution_count": 522,
     "metadata": {},
     "output_type": "execute_result"
    }
   ],
   "source": [
    "statistics.fmean(RMSE_lasso2)"
   ]
  },
  {
   "cell_type": "code",
   "execution_count": 473,
   "metadata": {},
   "outputs": [
    {
     "data": {
      "image/png": "[encoded data removed]",
      "text/plain": [
       "<Figure size 1440x720 with 1 Axes>"
      ]
     },
     "metadata": {},
     "output_type": "display_data"
    }
   ],
   "source": [
    "plt.style.use('ggplot')\n",
    "plt.scatter(range(1,len(permno)+1), RMSE_lasso2, color='b')\n",
    "plt.ylim(-0.0004, 0.0004)\n",
    "plt.ylabel(r'$\\Delta$'+\"RMSE (Historical Mean Return - LASSO Model)\")\n",
    "plt.xlabel(\"Stock i\")\n",
    "plt.axhline(y=0, color='r', linestyle='-')\n",
    "plt.show()"
   ]
  },
  {
   "cell_type": "markdown",
   "metadata": {},
   "source": [
    "### Random Forest (L=3)"
   ]
  },
  {
   "cell_type": "code",
   "execution_count": 14,
   "metadata": {},
   "outputs": [],
   "source": [
    "from sklearn.ensemble import RandomForestRegressor\n",
    "from sklearn.datasets import make_regression\n"
   ]
  },
  {
   "cell_type": "code",
   "execution_count": 15,
   "metadata": {},
   "outputs": [],
   "source": [
    "# Creating function to run Rolling-window Random Forest regressions\n",
    "def Rolling_Window_RF(size, x, y, param_grid):\n",
    "    time = size\n",
    "    errors_rf = []\n",
    "    errors_hm = []\n",
    "    y_preds_hm = []\n",
    "    y_preds_rf = []\n",
    "    \n",
    "    RF = RandomForestRegressor(n_jobs=-1)\n",
    "    grid_cv = GridSearchCV(estimator=RF, cv=5, param_grid=param_grid, n_jobs = -1)    \n",
    "\n",
    "    for i in tqdm(range(len(x)-size-1)):\n",
    "        grid_cv.fit(x[time-size:time], y[time-size:time])\n",
    "        y_predict_hm = y[time-size:time].mean()\n",
    "        y_preds_hm.append(y_predict_hm)\n",
    "\n",
    "        time += 1\n",
    "        y_predict_rf = grid_cv.predict(x[time].reshape(1, -1))[0]\n",
    "        y_preds_rf.append(y_predict_rf)\n",
    "        \n",
    "        y_true = y[time]\n",
    "        error_rf = (y_true - y_predict_rf)**2\n",
    "        error_hm = (y_true - y_predict_hm)**2\n",
    "\n",
    "        errors_rf.append(error_rf)\n",
    "        errors_hm.append(error_hm)\n",
    "\n",
    "    MSE_rf = statistics.mean(errors_rf)\n",
    "    MSE_hm = statistics.mean(errors_hm)\n",
    "    RMSE = (MSE_hm**0.5) - (MSE_rf**0.5)\n",
    "\n",
    "    results = pd.DataFrame({\"RF Prediction\":y_preds_rf, \"Historical Mean Return\":y_preds_hm,})\n",
    "    return RMSE"
   ]
  },
  {
   "cell_type": "code",
   "execution_count": 190,
   "metadata": {},
   "outputs": [
    {
     "data": {
      "application/vnd.jupyter.widget-view+json": {
       "model_id": "59ca16039b9241c9b0604b3a494204c5",
       "version_major": 2,
       "version_minor": 0
      },
      "text/plain": [
       "HBox(children=(HTML(value=''), FloatProgress(value=0.0, max=10.0), HTML(value='')))"
      ]
     },
     "metadata": {},
     "output_type": "display_data"
    },
    {
     "data": {
      "application/vnd.jupyter.widget-view+json": {
       "model_id": "6aa56045995d4f91bc276dc53ac5d48b",
       "version_major": 2,
       "version_minor": 0
      },
      "text/plain": [
       "HBox(children=(HTML(value=''), FloatProgress(value=0.0, max=386.0), HTML(value='')))"
      ]
     },
     "metadata": {},
     "output_type": "display_data"
    },
    {
     "name": "stdout",
     "output_type": "stream",
     "text": [
      "\n"
     ]
    },
    {
     "data": {
      "application/vnd.jupyter.widget-view+json": {
       "model_id": "51e701f6eaa841b6b15d1c2cc0a46a8d",
       "version_major": 2,
       "version_minor": 0
      },
      "text/plain": [
       "HBox(children=(HTML(value=''), FloatProgress(value=0.0, max=386.0), HTML(value='')))"
      ]
     },
     "metadata": {},
     "output_type": "display_data"
    },
    {
     "name": "stdout",
     "output_type": "stream",
     "text": [
      "\n"
     ]
    },
    {
     "data": {
      "application/vnd.jupyter.widget-view+json": {
       "model_id": "fa71da7d4fb04ca1a17d6d2ae664ae1c",
       "version_major": 2,
       "version_minor": 0
      },
      "text/plain": [
       "HBox(children=(HTML(value=''), FloatProgress(value=0.0, max=386.0), HTML(value='')))"
      ]
     },
     "metadata": {},
     "output_type": "display_data"
    },
    {
     "name": "stdout",
     "output_type": "stream",
     "text": [
      "\n"
     ]
    },
    {
     "data": {
      "application/vnd.jupyter.widget-view+json": {
       "model_id": "03399f01260d449f9325697d37253d5a",
       "version_major": 2,
       "version_minor": 0
      },
      "text/plain": [
       "HBox(children=(HTML(value=''), FloatProgress(value=0.0, max=386.0), HTML(value='')))"
      ]
     },
     "metadata": {},
     "output_type": "display_data"
    },
    {
     "name": "stdout",
     "output_type": "stream",
     "text": [
      "\n"
     ]
    },
    {
     "data": {
      "application/vnd.jupyter.widget-view+json": {
       "model_id": "1d3804d76c1f4af58914081842719e76",
       "version_major": 2,
       "version_minor": 0
      },
      "text/plain": [
       "HBox(children=(HTML(value=''), FloatProgress(value=0.0, max=386.0), HTML(value='')))"
      ]
     },
     "metadata": {},
     "output_type": "display_data"
    },
    {
     "name": "stdout",
     "output_type": "stream",
     "text": [
      "\n"
     ]
    },
    {
     "data": {
      "application/vnd.jupyter.widget-view+json": {
       "model_id": "903ccc76692546bc8727dfa7474db93e",
       "version_major": 2,
       "version_minor": 0
      },
      "text/plain": [
       "HBox(children=(HTML(value=''), FloatProgress(value=0.0, max=386.0), HTML(value='')))"
      ]
     },
     "metadata": {},
     "output_type": "display_data"
    },
    {
     "name": "stdout",
     "output_type": "stream",
     "text": [
      "\n"
     ]
    },
    {
     "data": {
      "application/vnd.jupyter.widget-view+json": {
       "model_id": "1f74a07dd69546138ef4397da4e19836",
       "version_major": 2,
       "version_minor": 0
      },
      "text/plain": [
       "HBox(children=(HTML(value=''), FloatProgress(value=0.0, max=386.0), HTML(value='')))"
      ]
     },
     "metadata": {},
     "output_type": "display_data"
    },
    {
     "name": "stdout",
     "output_type": "stream",
     "text": [
      "\n"
     ]
    },
    {
     "data": {
      "application/vnd.jupyter.widget-view+json": {
       "model_id": "ad8b0195976a458bbe94807edaf3aaa7",
       "version_major": 2,
       "version_minor": 0
      },
      "text/plain": [
       "HBox(children=(HTML(value=''), FloatProgress(value=0.0, max=386.0), HTML(value='')))"
      ]
     },
     "metadata": {},
     "output_type": "display_data"
    },
    {
     "name": "stdout",
     "output_type": "stream",
     "text": [
      "\n"
     ]
    },
    {
     "data": {
      "application/vnd.jupyter.widget-view+json": {
       "model_id": "e179effb80d04ee3a97a82b29578704c",
       "version_major": 2,
       "version_minor": 0
      },
      "text/plain": [
       "HBox(children=(HTML(value=''), FloatProgress(value=0.0, max=386.0), HTML(value='')))"
      ]
     },
     "metadata": {},
     "output_type": "display_data"
    },
    {
     "name": "stdout",
     "output_type": "stream",
     "text": [
      "\n"
     ]
    },
    {
     "data": {
      "application/vnd.jupyter.widget-view+json": {
       "model_id": "2ac11ec25c23486cb05ab0c697e78108",
       "version_major": 2,
       "version_minor": 0
      },
      "text/plain": [
       "HBox(children=(HTML(value=''), FloatProgress(value=0.0, max=386.0), HTML(value='')))"
      ]
     },
     "metadata": {},
     "output_type": "display_data"
    },
    {
     "name": "stdout",
     "output_type": "stream",
     "text": [
      "\n",
      "\n"
     ]
    }
   ],
   "source": [
    "# Running the Random Forest Model on 30% of the data\n",
    "RMSE_RF = []\n",
    "param_grid = {'min_samples_leaf':[10,25,50]}\n",
    "for p in tqdm(permno[:10]):\n",
    "        x = X_kitchen_sink[p].iloc[:,3:].values\n",
    "        y = X_kitchen_sink[p].iloc[:,1].values\n",
    "        # We use train-test not to divide data into training and test data but rather to use a 30% subset of data to save computing time\n",
    "        x_train, x_test, y_train, y_test = train_test_split(x, y, test_size=0.30, shuffle=False)\n",
    "        RMSE_RF.append(Rolling_Window_RF(size, x_test, y_test, param_grid))\n"
   ]
  },
  {
   "cell_type": "code",
   "execution_count": 521,
   "metadata": {},
   "outputs": [
    {
     "data": {
      "text/plain": [
       "8.619281313194306e-05"
      ]
     },
     "execution_count": 521,
     "metadata": {},
     "output_type": "execute_result"
    }
   ],
   "source": [
    "statistics.fmean(RMSE_RF)\n"
   ]
  },
  {
   "cell_type": "code",
   "execution_count": 494,
   "metadata": {},
   "outputs": [
    {
     "data": {
      "image/png": "[encoded data removed]",
      "text/plain": [
       "<Figure size 1440x720 with 1 Axes>"
      ]
     },
     "metadata": {},
     "output_type": "display_data"
    }
   ],
   "source": [
    "plt.style.use('ggplot')\n",
    "plt.scatter(range(1, len(permno[:10]) + 1), RMSE_RF, color='b')\n",
    "plt.ylabel(r'$\\Delta$'+\"RMSE (Historical Mean Return - Random Forest)\")\n",
    "plt.xlabel(\"Stock i\")\n",
    "plt.axhline(y=0, color='r', linestyle='-')\n",
    "plt.show()"
   ]
  },
  {
   "cell_type": "markdown",
   "metadata": {},
   "source": [
    "## Classification"
   ]
  },
  {
   "cell_type": "code",
   "execution_count": 16,
   "metadata": {},
   "outputs": [
    {
     "data": {
      "application/vnd.jupyter.widget-view+json": {
       "model_id": "dc3f0fca496f429d88497b73cbebf7d3",
       "version_major": 2,
       "version_minor": 0
      },
      "text/plain": [
       "HBox(children=(HTML(value=''), FloatProgress(value=0.0), HTML(value='')))"
      ]
     },
     "metadata": {},
     "output_type": "display_data"
    },
    {
     "name": "stdout",
     "output_type": "stream",
     "text": [
      "\n"
     ]
    }
   ],
   "source": [
    "###Building Classifiers\n",
    "bins=[0]\n",
    "#Data Wrangling\n",
    "data_clf = {}\n",
    "for p in tqdm(permno):\n",
    "    data_clf[p] = X_kitchen_sink[p].copy()\n",
    "    for col in data_clf[p].columns[1:]:\n",
    "        data_clf[p][col] = np.digitize(data_clf[p][col], bins=bins) "
   ]
  },
  {
   "cell_type": "code",
   "execution_count": 17,
   "metadata": {},
   "outputs": [],
   "source": [
    "from sklearn.linear_model import LogisticRegression"
   ]
  },
  {
   "cell_type": "code",
   "execution_count": 18,
   "metadata": {},
   "outputs": [],
   "source": [
    "# Creating function to run Rolling-window Lasso Classification\n",
    "def Rolling_Window_Lasso_clf(size, x, y, param_grid):\n",
    "    time = size\n",
    "    \n",
    "    errors_clf = []\n",
    "    errors_hm = []\n",
    "    \n",
    "    clf = LogisticRegression(solver = 'saga', penalty='l1', n_jobs=-1)\n",
    "    grid_cv = GridSearchCV(estimator=clf, cv=5, param_grid=param_grid, n_jobs = -1)    \n",
    "\n",
    "    for i in tqdm(range(len(x)-size-1)):\n",
    "        grid_cv.fit(x[time-size:time], y[time-size:time])\n",
    "        if y[time-size:time].mean() < 0.5:\n",
    "            y_predict_hm = 0\n",
    "        else: \n",
    "            y_predict_hm = 1\n",
    "\n",
    "        time += 1\n",
    "        \n",
    "        y_predict_clf = grid_cv.predict(x[time].reshape(1, -1))[0]\n",
    "        \n",
    "        y_true = y[time]\n",
    "        error_clf = (y_true - y_predict_clf)**2\n",
    "        error_hm = (y_true - y_predict_hm)**2\n",
    "\n",
    "        errors_clf.append(error_clf)\n",
    "        errors_hm.append(error_hm)\n",
    "\n",
    "    score_clf = 1 - statistics.fmean(errors_clf)\n",
    "    score_hm = 1 - statistics.fmean(errors_hm)\n",
    "    score_diff = score_clf - score_hm\n",
    "\n",
    "    return score_diff"
   ]
  },
  {
   "cell_type": "code",
   "execution_count": 20,
   "metadata": {},
   "outputs": [],
   "source": [
    "alphas = [0.001, 0.01, 0.05, 0.1, 0.5, 1, 5, 10]\n",
    "size = 200\n",
    "cs = alphas\n",
    "grid={\"C\":cs}"
   ]
  },
  {
   "cell_type": "code",
   "execution_count": 411,
   "metadata": {},
   "outputs": [
    {
     "data": {
      "application/vnd.jupyter.widget-view+json": {
       "model_id": "1c6875f73f3d4a8e9a835311a82b81fa",
       "version_major": 2,
       "version_minor": 0
      },
      "text/plain": [
       "HBox(children=(HTML(value=''), FloatProgress(value=0.0, max=10.0), HTML(value='')))"
      ]
     },
     "metadata": {},
     "output_type": "display_data"
    },
    {
     "data": {
      "application/vnd.jupyter.widget-view+json": {
       "model_id": "43a91370e8454c399cc5c3c410e8125f",
       "version_major": 2,
       "version_minor": 0
      },
      "text/plain": [
       "HBox(children=(HTML(value=''), FloatProgress(value=0.0, max=386.0), HTML(value='')))"
      ]
     },
     "metadata": {},
     "output_type": "display_data"
    },
    {
     "name": "stdout",
     "output_type": "stream",
     "text": [
      "\n"
     ]
    },
    {
     "data": {
      "application/vnd.jupyter.widget-view+json": {
       "model_id": "2189082208304bb58a4eec1e9ccd0962",
       "version_major": 2,
       "version_minor": 0
      },
      "text/plain": [
       "HBox(children=(HTML(value=''), FloatProgress(value=0.0, max=386.0), HTML(value='')))"
      ]
     },
     "metadata": {},
     "output_type": "display_data"
    },
    {
     "name": "stdout",
     "output_type": "stream",
     "text": [
      "\n"
     ]
    },
    {
     "data": {
      "application/vnd.jupyter.widget-view+json": {
       "model_id": "de0616122e494b4586353f21508fb789",
       "version_major": 2,
       "version_minor": 0
      },
      "text/plain": [
       "HBox(children=(HTML(value=''), FloatProgress(value=0.0, max=386.0), HTML(value='')))"
      ]
     },
     "metadata": {},
     "output_type": "display_data"
    },
    {
     "name": "stdout",
     "output_type": "stream",
     "text": [
      "\n"
     ]
    },
    {
     "data": {
      "application/vnd.jupyter.widget-view+json": {
       "model_id": "8bd4616431a04cde9c00d434f6ca5392",
       "version_major": 2,
       "version_minor": 0
      },
      "text/plain": [
       "HBox(children=(HTML(value=''), FloatProgress(value=0.0, max=386.0), HTML(value='')))"
      ]
     },
     "metadata": {},
     "output_type": "display_data"
    },
    {
     "name": "stdout",
     "output_type": "stream",
     "text": [
      "\n"
     ]
    },
    {
     "data": {
      "application/vnd.jupyter.widget-view+json": {
       "model_id": "c3d9e23570bb432c928b97bebedf864e",
       "version_major": 2,
       "version_minor": 0
      },
      "text/plain": [
       "HBox(children=(HTML(value=''), FloatProgress(value=0.0, max=386.0), HTML(value='')))"
      ]
     },
     "metadata": {},
     "output_type": "display_data"
    },
    {
     "name": "stdout",
     "output_type": "stream",
     "text": [
      "\n"
     ]
    },
    {
     "data": {
      "application/vnd.jupyter.widget-view+json": {
       "model_id": "a00bc9b91e2a4866af7adad372c05b69",
       "version_major": 2,
       "version_minor": 0
      },
      "text/plain": [
       "HBox(children=(HTML(value=''), FloatProgress(value=0.0, max=386.0), HTML(value='')))"
      ]
     },
     "metadata": {},
     "output_type": "display_data"
    },
    {
     "name": "stdout",
     "output_type": "stream",
     "text": [
      "\n"
     ]
    },
    {
     "data": {
      "application/vnd.jupyter.widget-view+json": {
       "model_id": "86abcba699484325bd0fd3b91ceafcc1",
       "version_major": 2,
       "version_minor": 0
      },
      "text/plain": [
       "HBox(children=(HTML(value=''), FloatProgress(value=0.0, max=386.0), HTML(value='')))"
      ]
     },
     "metadata": {},
     "output_type": "display_data"
    },
    {
     "name": "stdout",
     "output_type": "stream",
     "text": [
      "\n"
     ]
    },
    {
     "data": {
      "application/vnd.jupyter.widget-view+json": {
       "model_id": "ab10905c2d4444fbb421ffb803c2a02a",
       "version_major": 2,
       "version_minor": 0
      },
      "text/plain": [
       "HBox(children=(HTML(value=''), FloatProgress(value=0.0, max=386.0), HTML(value='')))"
      ]
     },
     "metadata": {},
     "output_type": "display_data"
    },
    {
     "name": "stdout",
     "output_type": "stream",
     "text": [
      "\n"
     ]
    },
    {
     "data": {
      "application/vnd.jupyter.widget-view+json": {
       "model_id": "32749914f14747728d4d06200e0689b2",
       "version_major": 2,
       "version_minor": 0
      },
      "text/plain": [
       "HBox(children=(HTML(value=''), FloatProgress(value=0.0, max=386.0), HTML(value='')))"
      ]
     },
     "metadata": {},
     "output_type": "display_data"
    },
    {
     "name": "stdout",
     "output_type": "stream",
     "text": [
      "\n"
     ]
    },
    {
     "data": {
      "application/vnd.jupyter.widget-view+json": {
       "model_id": "d6f2ff4179ad46bfa2d096e35094ef10",
       "version_major": 2,
       "version_minor": 0
      },
      "text/plain": [
       "HBox(children=(HTML(value=''), FloatProgress(value=0.0, max=386.0), HTML(value='')))"
      ]
     },
     "metadata": {},
     "output_type": "display_data"
    },
    {
     "name": "stdout",
     "output_type": "stream",
     "text": [
      "\n",
      "\n"
     ]
    }
   ],
   "source": [
    "# Running the Lasso Classification model on 30% of the data for 10 randomly picked stocks\n",
    "SCORE_LASSO_CLF = []\n",
    "for p in tqdm(permno[:10]):\n",
    "    x = data_clf[p].iloc[:,3:].values\n",
    "    y = data_clf[p].iloc[:,1].values\n",
    "    # We use train-test not to divide data into training and test data but rather to use a 30% subset of data to save computing time\n",
    "    x_train, x_test, y_train, y_test = train_test_split(x, y, test_size=0.30, shuffle=False)\n",
    "    SCORE_LASSO_CLF.append(Rolling_Window_Lasso_clf(size, x_test, y_test, grid))"
   ]
  },
  {
   "cell_type": "code",
   "execution_count": 525,
   "metadata": {},
   "outputs": [
    {
     "data": {
      "text/plain": [
       "[0.020725388601036232,\n",
       " -0.03886010362694303,\n",
       " -0.010362694300518172,\n",
       " -0.015544041450777146,\n",
       " 0.0,\n",
       " -0.023316062176165775,\n",
       " -0.007772020725388518,\n",
       " 0.005181347150259086,\n",
       " -0.002590673575129543,\n",
       " 0.0]"
      ]
     },
     "execution_count": 525,
     "metadata": {},
     "output_type": "execute_result"
    }
   ],
   "source": [
    "SCORE_LASSO_CLF"
   ]
  },
  {
   "cell_type": "code",
   "execution_count": 527,
   "metadata": {},
   "outputs": [
    {
     "data": {
      "image/png": "[encoded data removed]",
      "text/plain": [
       "<Figure size 1440x720 with 1 Axes>"
      ]
     },
     "metadata": {},
     "output_type": "display_data"
    }
   ],
   "source": [
    "plt.style.use('ggplot')\n",
    "plt.scatter(range(1, len(permno[:10]) + 1), SCORE_LASSO_CLF, color='b')\n",
    "plt.ylabel(r'$\\Delta$'+\"Prediction Accuracy(Lasso Model - Historical Mean Return)\")\n",
    "plt.xlabel(\"Stock i\")\n",
    "plt.axhline(y=0, color='r', linestyle='-')\n",
    "plt.show()"
   ]
  },
  {
   "cell_type": "markdown",
   "metadata": {},
   "source": [
    "## Random Forest Classification"
   ]
  },
  {
   "cell_type": "code",
   "execution_count": 21,
   "metadata": {},
   "outputs": [],
   "source": [
    "from sklearn.ensemble import RandomForestClassifier"
   ]
  },
  {
   "cell_type": "code",
   "execution_count": 23,
   "metadata": {},
   "outputs": [],
   "source": [
    "# To tune the Hyperparameter - minimum sample leaf\n",
    "param_grid = {'min_samples_leaf':[10,25,50]}"
   ]
  },
  {
   "cell_type": "code",
   "execution_count": 24,
   "metadata": {},
   "outputs": [],
   "source": [
    "# Creating function to run Rolling-window Random Forest Classification\n",
    "def Rolling_Window_RF_clf(size, x, y, param_grid):\n",
    "    time = size\n",
    "    errors_rf_clf = []\n",
    "    errors_hm = []\n",
    "    RF_clf = RandomForestClassifier()\n",
    "    grid_cv = GridSearchCV(estimator=RF_clf, cv=5, param_grid=param_grid)    \n",
    "\n",
    "    for i in tqdm(range(len(x)-size-1)):\n",
    "        grid_cv.fit(x[time-size:time], y[time-size:time])\n",
    "        if y[time-size:time].mean() < 0.5:\n",
    "            y_predict_hm = 0\n",
    "        else: \n",
    "            y_predict_hm = 1\n",
    "\n",
    "        time += 1\n",
    "        y_predict_rf_clf = grid_cv.predict(x[time].reshape(1, -1))[0]\n",
    "        \n",
    "        y_true = y[time]\n",
    "        error_rf_clf = (y_true - y_predict_rf_clf)**2\n",
    "        error_hm = (y_true - y_predict_hm)**2\n",
    "\n",
    "        errors_rf_clf.append(error_rf_clf)\n",
    "        errors_hm.append(error_hm)\n",
    "        \n",
    "\n",
    "    score_rf_clf = 1 - statistics.fmean(errors_rf_clf)\n",
    "    score_hm = 1 - statistics.fmean(errors_hm)\n",
    "    score_diff = score_rf_clf - score_hm\n",
    "\n",
    "    return score_diff"
   ]
  },
  {
   "cell_type": "code",
   "execution_count": 40,
   "metadata": {},
   "outputs": [
    {
     "data": {
      "application/vnd.jupyter.widget-view+json": {
       "model_id": "230fccfaba2a434ea7d46cf580edc7c5",
       "version_major": 2,
       "version_minor": 0
      },
      "text/plain": [
       "HBox(children=(HTML(value=''), FloatProgress(value=0.0, max=10.0), HTML(value='')))"
      ]
     },
     "metadata": {},
     "output_type": "display_data"
    },
    {
     "data": {
      "application/vnd.jupyter.widget-view+json": {
       "model_id": "b4ac906bbf6245adbd1de7c14f4b1640",
       "version_major": 2,
       "version_minor": 0
      },
      "text/plain": [
       "HBox(children=(HTML(value=''), FloatProgress(value=0.0, max=386.0), HTML(value='')))"
      ]
     },
     "metadata": {},
     "output_type": "display_data"
    },
    {
     "name": "stdout",
     "output_type": "stream",
     "text": [
      "\n"
     ]
    },
    {
     "data": {
      "application/vnd.jupyter.widget-view+json": {
       "model_id": "3a8bd9afc5fe441c909ee29e8ea65cef",
       "version_major": 2,
       "version_minor": 0
      },
      "text/plain": [
       "HBox(children=(HTML(value=''), FloatProgress(value=0.0, max=386.0), HTML(value='')))"
      ]
     },
     "metadata": {},
     "output_type": "display_data"
    },
    {
     "name": "stdout",
     "output_type": "stream",
     "text": [
      "\n"
     ]
    },
    {
     "data": {
      "application/vnd.jupyter.widget-view+json": {
       "model_id": "6934fbd5f0e04813b92157b2b1bb91a5",
       "version_major": 2,
       "version_minor": 0
      },
      "text/plain": [
       "HBox(children=(HTML(value=''), FloatProgress(value=0.0, max=386.0), HTML(value='')))"
      ]
     },
     "metadata": {},
     "output_type": "display_data"
    },
    {
     "name": "stdout",
     "output_type": "stream",
     "text": [
      "\n"
     ]
    },
    {
     "data": {
      "application/vnd.jupyter.widget-view+json": {
       "model_id": "807cea3030c940e1a16a71fb95ff4a10",
       "version_major": 2,
       "version_minor": 0
      },
      "text/plain": [
       "HBox(children=(HTML(value=''), FloatProgress(value=0.0, max=386.0), HTML(value='')))"
      ]
     },
     "metadata": {},
     "output_type": "display_data"
    },
    {
     "name": "stdout",
     "output_type": "stream",
     "text": [
      "\n"
     ]
    },
    {
     "data": {
      "application/vnd.jupyter.widget-view+json": {
       "model_id": "45665afa41cc4b27b5d6ef8c50448d14",
       "version_major": 2,
       "version_minor": 0
      },
      "text/plain": [
       "HBox(children=(HTML(value=''), FloatProgress(value=0.0, max=386.0), HTML(value='')))"
      ]
     },
     "metadata": {},
     "output_type": "display_data"
    },
    {
     "name": "stdout",
     "output_type": "stream",
     "text": [
      "\n"
     ]
    },
    {
     "data": {
      "application/vnd.jupyter.widget-view+json": {
       "model_id": "7b9ffc5840a64cee989dd53ae9ad7eb9",
       "version_major": 2,
       "version_minor": 0
      },
      "text/plain": [
       "HBox(children=(HTML(value=''), FloatProgress(value=0.0, max=386.0), HTML(value='')))"
      ]
     },
     "metadata": {},
     "output_type": "display_data"
    },
    {
     "name": "stdout",
     "output_type": "stream",
     "text": [
      "\n"
     ]
    },
    {
     "data": {
      "application/vnd.jupyter.widget-view+json": {
       "model_id": "3403c7dcafef4071be8c22db73959ad5",
       "version_major": 2,
       "version_minor": 0
      },
      "text/plain": [
       "HBox(children=(HTML(value=''), FloatProgress(value=0.0, max=386.0), HTML(value='')))"
      ]
     },
     "metadata": {},
     "output_type": "display_data"
    },
    {
     "name": "stdout",
     "output_type": "stream",
     "text": [
      "\n"
     ]
    },
    {
     "data": {
      "application/vnd.jupyter.widget-view+json": {
       "model_id": "a9c776e63a9c4c4b8bde666d78a66095",
       "version_major": 2,
       "version_minor": 0
      },
      "text/plain": [
       "HBox(children=(HTML(value=''), FloatProgress(value=0.0, max=386.0), HTML(value='')))"
      ]
     },
     "metadata": {},
     "output_type": "display_data"
    },
    {
     "name": "stdout",
     "output_type": "stream",
     "text": [
      "\n"
     ]
    },
    {
     "data": {
      "application/vnd.jupyter.widget-view+json": {
       "model_id": "bb9fec74d3cc4052b6e6734210fff410",
       "version_major": 2,
       "version_minor": 0
      },
      "text/plain": [
       "HBox(children=(HTML(value=''), FloatProgress(value=0.0, max=386.0), HTML(value='')))"
      ]
     },
     "metadata": {},
     "output_type": "display_data"
    },
    {
     "name": "stdout",
     "output_type": "stream",
     "text": [
      "\n"
     ]
    },
    {
     "data": {
      "application/vnd.jupyter.widget-view+json": {
       "model_id": "0fee863c49204258ac91f10bf3d36ff0",
       "version_major": 2,
       "version_minor": 0
      },
      "text/plain": [
       "HBox(children=(HTML(value=''), FloatProgress(value=0.0, max=386.0), HTML(value='')))"
      ]
     },
     "metadata": {},
     "output_type": "display_data"
    },
    {
     "name": "stdout",
     "output_type": "stream",
     "text": [
      "\n",
      "\n"
     ]
    }
   ],
   "source": [
    "# Running the Random Forest Classification model on 30% of the data for 10 randomly picked stocks\n",
    "SCORE_RF_CLF = []\n",
    "for p in tqdm(permno[:10]):\n",
    "    x = data_clf[p].iloc[:,3:].values\n",
    "    y = data_clf[p].iloc[:,1].values\n",
    "    # We use train-test not to divide data into training and test data but rather to use a 30% subset of data to save computing time\n",
    "    x_train, x_test, y_train, y_test = train_test_split(x, y, test_size=0.30, shuffle=False) \n",
    "    SCORE_RF_CLF.append(Rolling_Window_RF_clf(size, x_test, y_test, param_grid))"
   ]
  },
  {
   "cell_type": "code",
   "execution_count": null,
   "metadata": {},
   "outputs": [],
   "source": [
    "#SCORE_RF_CLF"
   ]
  },
  {
   "cell_type": "code",
   "execution_count": 41,
   "metadata": {},
   "outputs": [
    {
     "data": {
      "image/png": "[encoded data removed]",
      "text/plain": [
       "<Figure size 1440x720 with 1 Axes>"
      ]
     },
     "metadata": {},
     "output_type": "display_data"
    }
   ],
   "source": [
    "plt.style.use('ggplot')\n",
    "plt.scatter(range(1, len(permno[:10]) + 1), SCORE_RF_CLF, color='b')\n",
    "plt.ylabel(r'$\\Delta$'+\"Prediction Accuracy(Random Forest Model - Historical Mean Return)\")\n",
    "plt.xlabel(\"Stock i\")\n",
    "plt.axhline(y=0, color='r', linestyle='-')\n",
    "plt.show()"
   ]
  },
  {
   "cell_type": "markdown",
   "metadata": {},
   "source": [
    "### Graph Cumulative Returns of Randomly picked DTE ENERGY CO"
   ]
  },
  {
   "cell_type": "code",
   "execution_count": 25,
   "metadata": {},
   "outputs": [],
   "source": [
    "# Creating function to run Rolling-window OLS regressions\n",
    "def Rolling_Window_OLS(size, x_train, y_train):\n",
    "    time = size\n",
    "    y_preds_ols = []\n",
    "    y_trues = []\n",
    "    errors_ols = []\n",
    "    y_preds_hm = []\n",
    "    errors_hm = []\n",
    "    for i in range(len(x_train)-size-1):\n",
    "        ols_model = sm.OLS(y_train[time-size:time], x_train[time-size:time]).fit()\n",
    "        y_predict_hm = y_train[time-size:time].mean()\n",
    "        \n",
    "        time += 1\n",
    "        \n",
    "        y_predict_ols = ols_model.predict(x_train[time])[0]\n",
    "        \n",
    "        y_true = y_train[time]\n",
    "        error_ols = (y_true - y_predict_ols)**2\n",
    "        error_hm = (y_true - y_predict_hm)**2\n",
    "        \n",
    "        y_preds_ols.append(y_predict_ols)\n",
    "        y_preds_hm.append(y_predict_hm)\n",
    "        y_trues.append(y_true)\n",
    "        errors_ols.append(error_ols)\n",
    "        errors_hm.append(error_hm)\n",
    "        \n",
    "        MSE_ols = statistics.mean(errors_ols)\n",
    "        MSE_hm = statistics.mean(errors_hm)\n",
    "        RMSE = (MSE_hm**0.5) - (MSE_ols**0.5)\n",
    "        \n",
    "    results = pd.DataFrame({\"True Return\":y_trues, \"OLS Prediction\":y_preds_ols, \n",
    "                            \"Historical Mean Return\":y_preds_hm, \"Forecast Error (OLS)\":errors_ols, \n",
    "                            \"Forecast Error (Historical Mean)\":errors_hm})\n",
    "    return RMSE, results"
   ]
  },
  {
   "cell_type": "code",
   "execution_count": 26,
   "metadata": {},
   "outputs": [],
   "source": [
    "# Running OLS model for DTE Energy on 30% of the data\n",
    "x=indv_stocks_data[11674].loc[:,'Return_1':'Flow_3'].values\n",
    "y=indv_stocks_data[11674].loc[:,'Return'].values\n",
    "x = sm.add_constant(x)\n",
    "# We use train-test not to divide data into training and test data but rather to use a 30% subset of data to save computing time\n",
    "x_train, x_test, y_train, y_test = train_test_split(x, y, test_size=0.30, shuffle=False)\n",
    "\n",
    "RMSE_11674_ols, result_ols = Rolling_Window_OLS(200, x_test, y_test)\n"
   ]
  },
  {
   "cell_type": "code",
   "execution_count": 27,
   "metadata": {},
   "outputs": [
    {
     "data": {
      "text/html": [
       "<div>\n",
       "<style scoped>\n",
       "    .dataframe tbody tr th:only-of-type {\n",
       "        vertical-align: middle;\n",
       "    }\n",
       "\n",
       "    .dataframe tbody tr th {\n",
       "        vertical-align: top;\n",
       "    }\n",
       "\n",
       "    .dataframe thead th {\n",
       "        text-align: right;\n",
       "    }\n",
       "</style>\n",
       "<table border=\"1\" class=\"dataframe\">\n",
       "  <thead>\n",
       "    <tr style=\"text-align: right;\">\n",
       "      <th></th>\n",
       "      <th>True Return</th>\n",
       "      <th>OLS Prediction</th>\n",
       "      <th>Historical Mean Return</th>\n",
       "      <th>Forecast Error (OLS)</th>\n",
       "      <th>Forecast Error (Historical Mean)</th>\n",
       "    </tr>\n",
       "  </thead>\n",
       "  <tbody>\n",
       "    <tr>\n",
       "      <th>0</th>\n",
       "      <td>-0.002933</td>\n",
       "      <td>-0.000575</td>\n",
       "      <td>0.000471</td>\n",
       "      <td>0.000006</td>\n",
       "      <td>0.000012</td>\n",
       "    </tr>\n",
       "    <tr>\n",
       "      <th>1</th>\n",
       "      <td>-0.013235</td>\n",
       "      <td>0.003042</td>\n",
       "      <td>0.000449</td>\n",
       "      <td>0.000265</td>\n",
       "      <td>0.000187</td>\n",
       "    </tr>\n",
       "    <tr>\n",
       "      <th>2</th>\n",
       "      <td>-0.004471</td>\n",
       "      <td>0.000592</td>\n",
       "      <td>0.000404</td>\n",
       "      <td>0.000026</td>\n",
       "      <td>0.000024</td>\n",
       "    </tr>\n",
       "    <tr>\n",
       "      <th>3</th>\n",
       "      <td>0.001497</td>\n",
       "      <td>-0.000059</td>\n",
       "      <td>0.000271</td>\n",
       "      <td>0.000002</td>\n",
       "      <td>0.000002</td>\n",
       "    </tr>\n",
       "    <tr>\n",
       "      <th>4</th>\n",
       "      <td>-0.002990</td>\n",
       "      <td>0.001362</td>\n",
       "      <td>0.000278</td>\n",
       "      <td>0.000019</td>\n",
       "      <td>0.000011</td>\n",
       "    </tr>\n",
       "    <tr>\n",
       "      <th>...</th>\n",
       "      <td>...</td>\n",
       "      <td>...</td>\n",
       "      <td>...</td>\n",
       "      <td>...</td>\n",
       "      <td>...</td>\n",
       "    </tr>\n",
       "    <tr>\n",
       "      <th>381</th>\n",
       "      <td>0.018212</td>\n",
       "      <td>-0.000039</td>\n",
       "      <td>0.001607</td>\n",
       "      <td>0.000333</td>\n",
       "      <td>0.000276</td>\n",
       "    </tr>\n",
       "    <tr>\n",
       "      <th>382</th>\n",
       "      <td>0.019512</td>\n",
       "      <td>0.003209</td>\n",
       "      <td>0.001540</td>\n",
       "      <td>0.000266</td>\n",
       "      <td>0.000323</td>\n",
       "    </tr>\n",
       "    <tr>\n",
       "      <th>383</th>\n",
       "      <td>-0.006380</td>\n",
       "      <td>0.001396</td>\n",
       "      <td>0.001548</td>\n",
       "      <td>0.000060</td>\n",
       "      <td>0.000063</td>\n",
       "    </tr>\n",
       "    <tr>\n",
       "      <th>384</th>\n",
       "      <td>0.000000</td>\n",
       "      <td>0.003029</td>\n",
       "      <td>0.001677</td>\n",
       "      <td>0.000009</td>\n",
       "      <td>0.000003</td>\n",
       "    </tr>\n",
       "    <tr>\n",
       "      <th>385</th>\n",
       "      <td>0.000000</td>\n",
       "      <td>0.003670</td>\n",
       "      <td>0.001737</td>\n",
       "      <td>0.000013</td>\n",
       "      <td>0.000003</td>\n",
       "    </tr>\n",
       "  </tbody>\n",
       "</table>\n",
       "<p>386 rows × 5 columns</p>\n",
       "</div>"
      ],
      "text/plain": [
       "     True Return  OLS Prediction  Historical Mean Return  \\\n",
       "0      -0.002933       -0.000575                0.000471   \n",
       "1      -0.013235        0.003042                0.000449   \n",
       "2      -0.004471        0.000592                0.000404   \n",
       "3       0.001497       -0.000059                0.000271   \n",
       "4      -0.002990        0.001362                0.000278   \n",
       "..           ...             ...                     ...   \n",
       "381     0.018212       -0.000039                0.001607   \n",
       "382     0.019512        0.003209                0.001540   \n",
       "383    -0.006380        0.001396                0.001548   \n",
       "384     0.000000        0.003029                0.001677   \n",
       "385     0.000000        0.003670                0.001737   \n",
       "\n",
       "     Forecast Error (OLS)  Forecast Error (Historical Mean)  \n",
       "0                0.000006                          0.000012  \n",
       "1                0.000265                          0.000187  \n",
       "2                0.000026                          0.000024  \n",
       "3                0.000002                          0.000002  \n",
       "4                0.000019                          0.000011  \n",
       "..                    ...                               ...  \n",
       "381              0.000333                          0.000276  \n",
       "382              0.000266                          0.000323  \n",
       "383              0.000060                          0.000063  \n",
       "384              0.000009                          0.000003  \n",
       "385              0.000013                          0.000003  \n",
       "\n",
       "[386 rows x 5 columns]"
      ]
     },
     "execution_count": 27,
     "metadata": {},
     "output_type": "execute_result"
    }
   ],
   "source": [
    "result_ols"
   ]
  },
  {
   "cell_type": "code",
   "execution_count": 28,
   "metadata": {},
   "outputs": [],
   "source": [
    "# Creating function to run Rolling-window LASSO regressions\n",
    "import statistics\n",
    "def Rolling_Window_LASSO(size, x, y, alphas):\n",
    "    time = size\n",
    "    y_preds_lasso = []\n",
    "    y_trues = []\n",
    "    errors_lasso = []\n",
    "    y_preds_hm = []\n",
    "    errors_hm = []\n",
    "    for i in tqdm(range(len(x)-size-1)):\n",
    "        lasso_model = LassoCV(cv=5, alphas=alphas, max_iter=10000, n_jobs=-1)\n",
    "        lasso_model.fit(x[time-size:time], y[time-size:time])\n",
    "        y_predict_hm = y[time-size:time].mean()\n",
    "\n",
    "        time += 1\n",
    "        y_predict_lasso = lasso_model.predict(x[time].reshape(1, -1))[0]\n",
    "        \n",
    "        y_true = y[time]\n",
    "        error_lasso = (y_true - y_predict_lasso)**2\n",
    "        error_hm = (y_true - y_predict_hm)**2\n",
    "\n",
    "        y_preds_lasso.append(y_predict_lasso)\n",
    "        y_preds_hm.append(y_predict_hm)\n",
    "        y_trues.append(y_true)\n",
    "        errors_lasso.append(error_lasso)\n",
    "        errors_hm.append(error_hm)\n",
    "\n",
    "    MSE_lasso = statistics.mean(errors_lasso)\n",
    "    MSE_hm = statistics.mean(errors_hm)\n",
    "    RMSE = (MSE_hm**0.5) - (MSE_lasso**0.5)\n",
    "\n",
    "    results = pd.DataFrame({\"True Return\":y_trues, \"Lasso Prediction\":y_preds_lasso, \n",
    "                             \"Historical Mean Return\":y_preds_hm, \"Forecast Error (LASSO)\":errors_lasso, \n",
    "                             \"Forecast Error (Historical Mean)\":errors_hm})\n",
    "    return RMSE, results"
   ]
  },
  {
   "cell_type": "code",
   "execution_count": 29,
   "metadata": {},
   "outputs": [
    {
     "data": {
      "application/vnd.jupyter.widget-view+json": {
       "model_id": "d093cf5066a348f2bc07e1f6ad6eb209",
       "version_major": 2,
       "version_minor": 0
      },
      "text/plain": [
       "HBox(children=(HTML(value=''), FloatProgress(value=0.0, max=386.0), HTML(value='')))"
      ]
     },
     "metadata": {},
     "output_type": "display_data"
    },
    {
     "name": "stdout",
     "output_type": "stream",
     "text": [
      "\n"
     ]
    }
   ],
   "source": [
    "# Running LASSO (L=1) model for DTE Energy on 30% of the data\n",
    "x = X_full[11674].iloc[:,3:].values\n",
    "y = X_full[11674].iloc[:,1].values\n",
    "# We use train-test not to divide data into training and test data but rather to use a 30% subset of data to save computing time\n",
    "x_train, x_test, y_train, y_test = train_test_split(x, y, test_size=0.30, shuffle=False)\n",
    "RMSE_11674_lasso1, results_lasso1 = Rolling_Window_LASSO(200, x_test, y_test, alphas)"
   ]
  },
  {
   "cell_type": "code",
   "execution_count": 30,
   "metadata": {},
   "outputs": [
    {
     "data": {
      "text/html": [
       "<div>\n",
       "<style scoped>\n",
       "    .dataframe tbody tr th:only-of-type {\n",
       "        vertical-align: middle;\n",
       "    }\n",
       "\n",
       "    .dataframe tbody tr th {\n",
       "        vertical-align: top;\n",
       "    }\n",
       "\n",
       "    .dataframe thead th {\n",
       "        text-align: right;\n",
       "    }\n",
       "</style>\n",
       "<table border=\"1\" class=\"dataframe\">\n",
       "  <thead>\n",
       "    <tr style=\"text-align: right;\">\n",
       "      <th></th>\n",
       "      <th>True Return</th>\n",
       "      <th>Lasso Prediction</th>\n",
       "      <th>Historical Mean Return</th>\n",
       "      <th>Forecast Error (LASSO)</th>\n",
       "      <th>Forecast Error (Historical Mean)</th>\n",
       "    </tr>\n",
       "  </thead>\n",
       "  <tbody>\n",
       "    <tr>\n",
       "      <th>0</th>\n",
       "      <td>-0.002933</td>\n",
       "      <td>0.000471</td>\n",
       "      <td>0.000471</td>\n",
       "      <td>0.000012</td>\n",
       "      <td>0.000012</td>\n",
       "    </tr>\n",
       "    <tr>\n",
       "      <th>1</th>\n",
       "      <td>-0.013235</td>\n",
       "      <td>0.000449</td>\n",
       "      <td>0.000449</td>\n",
       "      <td>0.000187</td>\n",
       "      <td>0.000187</td>\n",
       "    </tr>\n",
       "    <tr>\n",
       "      <th>2</th>\n",
       "      <td>-0.004471</td>\n",
       "      <td>0.000404</td>\n",
       "      <td>0.000404</td>\n",
       "      <td>0.000024</td>\n",
       "      <td>0.000024</td>\n",
       "    </tr>\n",
       "    <tr>\n",
       "      <th>3</th>\n",
       "      <td>0.001497</td>\n",
       "      <td>0.000271</td>\n",
       "      <td>0.000271</td>\n",
       "      <td>0.000002</td>\n",
       "      <td>0.000002</td>\n",
       "    </tr>\n",
       "    <tr>\n",
       "      <th>4</th>\n",
       "      <td>-0.002990</td>\n",
       "      <td>0.000278</td>\n",
       "      <td>0.000278</td>\n",
       "      <td>0.000011</td>\n",
       "      <td>0.000011</td>\n",
       "    </tr>\n",
       "    <tr>\n",
       "      <th>...</th>\n",
       "      <td>...</td>\n",
       "      <td>...</td>\n",
       "      <td>...</td>\n",
       "      <td>...</td>\n",
       "      <td>...</td>\n",
       "    </tr>\n",
       "    <tr>\n",
       "      <th>381</th>\n",
       "      <td>0.018212</td>\n",
       "      <td>0.001607</td>\n",
       "      <td>0.001607</td>\n",
       "      <td>0.000276</td>\n",
       "      <td>0.000276</td>\n",
       "    </tr>\n",
       "    <tr>\n",
       "      <th>382</th>\n",
       "      <td>0.019512</td>\n",
       "      <td>0.001540</td>\n",
       "      <td>0.001540</td>\n",
       "      <td>0.000323</td>\n",
       "      <td>0.000323</td>\n",
       "    </tr>\n",
       "    <tr>\n",
       "      <th>383</th>\n",
       "      <td>-0.006380</td>\n",
       "      <td>0.001548</td>\n",
       "      <td>0.001548</td>\n",
       "      <td>0.000063</td>\n",
       "      <td>0.000063</td>\n",
       "    </tr>\n",
       "    <tr>\n",
       "      <th>384</th>\n",
       "      <td>0.000000</td>\n",
       "      <td>0.001677</td>\n",
       "      <td>0.001677</td>\n",
       "      <td>0.000003</td>\n",
       "      <td>0.000003</td>\n",
       "    </tr>\n",
       "    <tr>\n",
       "      <th>385</th>\n",
       "      <td>0.000000</td>\n",
       "      <td>0.001737</td>\n",
       "      <td>0.001737</td>\n",
       "      <td>0.000003</td>\n",
       "      <td>0.000003</td>\n",
       "    </tr>\n",
       "  </tbody>\n",
       "</table>\n",
       "<p>386 rows × 5 columns</p>\n",
       "</div>"
      ],
      "text/plain": [
       "     True Return  Lasso Prediction  Historical Mean Return  \\\n",
       "0      -0.002933          0.000471                0.000471   \n",
       "1      -0.013235          0.000449                0.000449   \n",
       "2      -0.004471          0.000404                0.000404   \n",
       "3       0.001497          0.000271                0.000271   \n",
       "4      -0.002990          0.000278                0.000278   \n",
       "..           ...               ...                     ...   \n",
       "381     0.018212          0.001607                0.001607   \n",
       "382     0.019512          0.001540                0.001540   \n",
       "383    -0.006380          0.001548                0.001548   \n",
       "384     0.000000          0.001677                0.001677   \n",
       "385     0.000000          0.001737                0.001737   \n",
       "\n",
       "     Forecast Error (LASSO)  Forecast Error (Historical Mean)  \n",
       "0                  0.000012                          0.000012  \n",
       "1                  0.000187                          0.000187  \n",
       "2                  0.000024                          0.000024  \n",
       "3                  0.000002                          0.000002  \n",
       "4                  0.000011                          0.000011  \n",
       "..                      ...                               ...  \n",
       "381                0.000276                          0.000276  \n",
       "382                0.000323                          0.000323  \n",
       "383                0.000063                          0.000063  \n",
       "384                0.000003                          0.000003  \n",
       "385                0.000003                          0.000003  \n",
       "\n",
       "[386 rows x 5 columns]"
      ]
     },
     "execution_count": 30,
     "metadata": {},
     "output_type": "execute_result"
    }
   ],
   "source": [
    "results_lasso1"
   ]
  },
  {
   "cell_type": "code",
   "execution_count": 31,
   "metadata": {},
   "outputs": [
    {
     "data": {
      "application/vnd.jupyter.widget-view+json": {
       "model_id": "8d7228290b2a40b3a97a34e3265e9d92",
       "version_major": 2,
       "version_minor": 0
      },
      "text/plain": [
       "HBox(children=(HTML(value=''), FloatProgress(value=0.0, max=386.0), HTML(value='')))"
      ]
     },
     "metadata": {},
     "output_type": "display_data"
    },
    {
     "name": "stdout",
     "output_type": "stream",
     "text": [
      "\n"
     ]
    }
   ],
   "source": [
    "# Running LASSO (L=3) model for DTE Energy on 30% of the data\n",
    "x = X_kitchen_sink[11674].iloc[:,3:].values\n",
    "y = X_kitchen_sink[11674].iloc[:,1].values\n",
    "# We use train-test not to divide data into training and test data but rather to use a 30% subset of data to save computing time\n",
    "x_train, x_test, y_train, y_test = train_test_split(x, y, test_size=0.30, shuffle=False)\n",
    "RMSE_11674_lasso2, results_lasso2 = Rolling_Window_LASSO(200, x_test, y_test, alphas)"
   ]
  },
  {
   "cell_type": "code",
   "execution_count": 32,
   "metadata": {},
   "outputs": [
    {
     "data": {
      "text/html": [
       "<div>\n",
       "<style scoped>\n",
       "    .dataframe tbody tr th:only-of-type {\n",
       "        vertical-align: middle;\n",
       "    }\n",
       "\n",
       "    .dataframe tbody tr th {\n",
       "        vertical-align: top;\n",
       "    }\n",
       "\n",
       "    .dataframe thead th {\n",
       "        text-align: right;\n",
       "    }\n",
       "</style>\n",
       "<table border=\"1\" class=\"dataframe\">\n",
       "  <thead>\n",
       "    <tr style=\"text-align: right;\">\n",
       "      <th></th>\n",
       "      <th>True Return</th>\n",
       "      <th>Lasso Prediction</th>\n",
       "      <th>Historical Mean Return</th>\n",
       "      <th>Forecast Error (LASSO)</th>\n",
       "      <th>Forecast Error (Historical Mean)</th>\n",
       "    </tr>\n",
       "  </thead>\n",
       "  <tbody>\n",
       "    <tr>\n",
       "      <th>0</th>\n",
       "      <td>-0.002933</td>\n",
       "      <td>0.000471</td>\n",
       "      <td>0.000471</td>\n",
       "      <td>0.000012</td>\n",
       "      <td>0.000012</td>\n",
       "    </tr>\n",
       "    <tr>\n",
       "      <th>1</th>\n",
       "      <td>-0.013235</td>\n",
       "      <td>0.000449</td>\n",
       "      <td>0.000449</td>\n",
       "      <td>0.000187</td>\n",
       "      <td>0.000187</td>\n",
       "    </tr>\n",
       "    <tr>\n",
       "      <th>2</th>\n",
       "      <td>-0.004471</td>\n",
       "      <td>0.000404</td>\n",
       "      <td>0.000404</td>\n",
       "      <td>0.000024</td>\n",
       "      <td>0.000024</td>\n",
       "    </tr>\n",
       "    <tr>\n",
       "      <th>3</th>\n",
       "      <td>0.001497</td>\n",
       "      <td>0.000271</td>\n",
       "      <td>0.000271</td>\n",
       "      <td>0.000002</td>\n",
       "      <td>0.000002</td>\n",
       "    </tr>\n",
       "    <tr>\n",
       "      <th>4</th>\n",
       "      <td>-0.002990</td>\n",
       "      <td>0.000278</td>\n",
       "      <td>0.000278</td>\n",
       "      <td>0.000011</td>\n",
       "      <td>0.000011</td>\n",
       "    </tr>\n",
       "    <tr>\n",
       "      <th>...</th>\n",
       "      <td>...</td>\n",
       "      <td>...</td>\n",
       "      <td>...</td>\n",
       "      <td>...</td>\n",
       "      <td>...</td>\n",
       "    </tr>\n",
       "    <tr>\n",
       "      <th>381</th>\n",
       "      <td>0.018212</td>\n",
       "      <td>0.001607</td>\n",
       "      <td>0.001607</td>\n",
       "      <td>0.000276</td>\n",
       "      <td>0.000276</td>\n",
       "    </tr>\n",
       "    <tr>\n",
       "      <th>382</th>\n",
       "      <td>0.019512</td>\n",
       "      <td>0.001540</td>\n",
       "      <td>0.001540</td>\n",
       "      <td>0.000323</td>\n",
       "      <td>0.000323</td>\n",
       "    </tr>\n",
       "    <tr>\n",
       "      <th>383</th>\n",
       "      <td>-0.006380</td>\n",
       "      <td>0.001548</td>\n",
       "      <td>0.001548</td>\n",
       "      <td>0.000063</td>\n",
       "      <td>0.000063</td>\n",
       "    </tr>\n",
       "    <tr>\n",
       "      <th>384</th>\n",
       "      <td>0.000000</td>\n",
       "      <td>0.001677</td>\n",
       "      <td>0.001677</td>\n",
       "      <td>0.000003</td>\n",
       "      <td>0.000003</td>\n",
       "    </tr>\n",
       "    <tr>\n",
       "      <th>385</th>\n",
       "      <td>0.000000</td>\n",
       "      <td>0.001737</td>\n",
       "      <td>0.001737</td>\n",
       "      <td>0.000003</td>\n",
       "      <td>0.000003</td>\n",
       "    </tr>\n",
       "  </tbody>\n",
       "</table>\n",
       "<p>386 rows × 5 columns</p>\n",
       "</div>"
      ],
      "text/plain": [
       "     True Return  Lasso Prediction  Historical Mean Return  \\\n",
       "0      -0.002933          0.000471                0.000471   \n",
       "1      -0.013235          0.000449                0.000449   \n",
       "2      -0.004471          0.000404                0.000404   \n",
       "3       0.001497          0.000271                0.000271   \n",
       "4      -0.002990          0.000278                0.000278   \n",
       "..           ...               ...                     ...   \n",
       "381     0.018212          0.001607                0.001607   \n",
       "382     0.019512          0.001540                0.001540   \n",
       "383    -0.006380          0.001548                0.001548   \n",
       "384     0.000000          0.001677                0.001677   \n",
       "385     0.000000          0.001737                0.001737   \n",
       "\n",
       "     Forecast Error (LASSO)  Forecast Error (Historical Mean)  \n",
       "0                  0.000012                          0.000012  \n",
       "1                  0.000187                          0.000187  \n",
       "2                  0.000024                          0.000024  \n",
       "3                  0.000002                          0.000002  \n",
       "4                  0.000011                          0.000011  \n",
       "..                      ...                               ...  \n",
       "381                0.000276                          0.000276  \n",
       "382                0.000323                          0.000323  \n",
       "383                0.000063                          0.000063  \n",
       "384                0.000003                          0.000003  \n",
       "385                0.000003                          0.000003  \n",
       "\n",
       "[386 rows x 5 columns]"
      ]
     },
     "execution_count": 32,
     "metadata": {},
     "output_type": "execute_result"
    }
   ],
   "source": [
    "results_lasso2"
   ]
  },
  {
   "cell_type": "code",
   "execution_count": 33,
   "metadata": {},
   "outputs": [],
   "source": [
    "# Creating function to run Rolling-window Random Forest regressions\n",
    "def Rolling_Window_RF(size, x, y, param_grid):\n",
    "    time = size\n",
    "    errors_rf = []\n",
    "    errors_hm = []\n",
    "    y_preds_hm = []\n",
    "    y_preds_rf = []\n",
    "    \n",
    "    RF = RandomForestRegressor(n_jobs=-1)\n",
    "    grid_cv = GridSearchCV(estimator=RF, cv=5, param_grid=param_grid, n_jobs = -1)    \n",
    "\n",
    "    for i in tqdm(range(len(x)-size-1)):\n",
    "        grid_cv.fit(x[time-size:time], y[time-size:time])\n",
    "        y_predict_hm = y[time-size:time].mean()\n",
    "        y_preds_hm.append(y_predict_hm)\n",
    "\n",
    "        time += 1\n",
    "        y_predict_rf = grid_cv.predict(x[time].reshape(1, -1))[0]\n",
    "        y_preds_rf.append(y_predict_rf)\n",
    "        \n",
    "        y_true = y[time]\n",
    "        error_rf = (y_true - y_predict_rf)**2\n",
    "        error_hm = (y_true - y_predict_hm)**2\n",
    "\n",
    "        errors_rf.append(error_rf)\n",
    "        errors_hm.append(error_hm)\n",
    "\n",
    "    MSE_rf = statistics.mean(errors_rf)\n",
    "    MSE_hm = statistics.mean(errors_hm)\n",
    "    RMSE = (MSE_hm**0.5) - (MSE_rf**0.5)\n",
    "\n",
    "    results = pd.DataFrame({\"RF Prediction\":y_preds_rf, \"Historical Mean Return\":y_preds_hm,})\n",
    "    return RMSE, results"
   ]
  },
  {
   "cell_type": "code",
   "execution_count": 34,
   "metadata": {},
   "outputs": [
    {
     "data": {
      "application/vnd.jupyter.widget-view+json": {
       "model_id": "0713951b4a604bbda0b7b1e1572ca472",
       "version_major": 2,
       "version_minor": 0
      },
      "text/plain": [
       "HBox(children=(HTML(value=''), FloatProgress(value=0.0, max=386.0), HTML(value='')))"
      ]
     },
     "metadata": {},
     "output_type": "display_data"
    },
    {
     "name": "stdout",
     "output_type": "stream",
     "text": [
      "\n"
     ]
    }
   ],
   "source": [
    "# Running Random Forest model for DTE Energy on 30% of the data\n",
    "x = X_kitchen_sink[11674].iloc[:,3:].values\n",
    "y = X_kitchen_sink[11674].iloc[:,1].values\n",
    "# We use train-test not to divide data into training and test data but rather to use a 30% subset of data to save computing time\n",
    "x_train, x_test, y_train, y_test = train_test_split(x, y, test_size=0.30, shuffle=False)\n",
    "RMSE_11674_rf, results_rf = Rolling_Window_RF(200, x_test, y_test, param_grid)"
   ]
  },
  {
   "cell_type": "code",
   "execution_count": 35,
   "metadata": {},
   "outputs": [
    {
     "data": {
      "text/html": [
       "<div>\n",
       "<style scoped>\n",
       "    .dataframe tbody tr th:only-of-type {\n",
       "        vertical-align: middle;\n",
       "    }\n",
       "\n",
       "    .dataframe tbody tr th {\n",
       "        vertical-align: top;\n",
       "    }\n",
       "\n",
       "    .dataframe thead th {\n",
       "        text-align: right;\n",
       "    }\n",
       "</style>\n",
       "<table border=\"1\" class=\"dataframe\">\n",
       "  <thead>\n",
       "    <tr style=\"text-align: right;\">\n",
       "      <th></th>\n",
       "      <th>RF Prediction</th>\n",
       "      <th>Historical Mean Return</th>\n",
       "    </tr>\n",
       "  </thead>\n",
       "  <tbody>\n",
       "    <tr>\n",
       "      <th>0</th>\n",
       "      <td>-0.002925</td>\n",
       "      <td>0.000471</td>\n",
       "    </tr>\n",
       "    <tr>\n",
       "      <th>1</th>\n",
       "      <td>0.002090</td>\n",
       "      <td>0.000449</td>\n",
       "    </tr>\n",
       "    <tr>\n",
       "      <th>2</th>\n",
       "      <td>0.000756</td>\n",
       "      <td>0.000404</td>\n",
       "    </tr>\n",
       "    <tr>\n",
       "      <th>3</th>\n",
       "      <td>0.001254</td>\n",
       "      <td>0.000271</td>\n",
       "    </tr>\n",
       "    <tr>\n",
       "      <th>4</th>\n",
       "      <td>0.000817</td>\n",
       "      <td>0.000278</td>\n",
       "    </tr>\n",
       "    <tr>\n",
       "      <th>...</th>\n",
       "      <td>...</td>\n",
       "      <td>...</td>\n",
       "    </tr>\n",
       "    <tr>\n",
       "      <th>381</th>\n",
       "      <td>0.000061</td>\n",
       "      <td>0.001607</td>\n",
       "    </tr>\n",
       "    <tr>\n",
       "      <th>382</th>\n",
       "      <td>0.002114</td>\n",
       "      <td>0.001540</td>\n",
       "    </tr>\n",
       "    <tr>\n",
       "      <th>383</th>\n",
       "      <td>0.001546</td>\n",
       "      <td>0.001548</td>\n",
       "    </tr>\n",
       "    <tr>\n",
       "      <th>384</th>\n",
       "      <td>0.000734</td>\n",
       "      <td>0.001677</td>\n",
       "    </tr>\n",
       "    <tr>\n",
       "      <th>385</th>\n",
       "      <td>0.002769</td>\n",
       "      <td>0.001737</td>\n",
       "    </tr>\n",
       "  </tbody>\n",
       "</table>\n",
       "<p>386 rows × 2 columns</p>\n",
       "</div>"
      ],
      "text/plain": [
       "     RF Prediction  Historical Mean Return\n",
       "0        -0.002925                0.000471\n",
       "1         0.002090                0.000449\n",
       "2         0.000756                0.000404\n",
       "3         0.001254                0.000271\n",
       "4         0.000817                0.000278\n",
       "..             ...                     ...\n",
       "381       0.000061                0.001607\n",
       "382       0.002114                0.001540\n",
       "383       0.001546                0.001548\n",
       "384       0.000734                0.001677\n",
       "385       0.002769                0.001737\n",
       "\n",
       "[386 rows x 2 columns]"
      ]
     },
     "execution_count": 35,
     "metadata": {},
     "output_type": "execute_result"
    }
   ],
   "source": [
    "results_rf"
   ]
  },
  {
   "cell_type": "code",
   "execution_count": 36,
   "metadata": {},
   "outputs": [],
   "source": [
    "predictions_df = pd.DataFrame({\"OLS Prediction\":result_ols[\"OLS Prediction\"].cumsum().tolist(), \n",
    "                              \"Historical Mean Return\":result_ols[\"Historical Mean Return\"].cumsum().tolist(),\n",
    "                              \"LASSO (L=1)\":results_lasso1[\"Lasso Prediction\"].cumsum().tolist(),\n",
    "                              \"LASSO (L=3)\":results_lasso2[\"Lasso Prediction\"].cumsum().tolist(),\n",
    "                              \"Random Forest\":results_rf[\"RF Prediction\"].cumsum().tolist()})"
   ]
  },
  {
   "cell_type": "code",
   "execution_count": 37,
   "metadata": {},
   "outputs": [],
   "source": [
    "predictions_df[\"True Return\"] = result_ols[\"True Return\"].cumsum().tolist()"
   ]
  },
  {
   "cell_type": "code",
   "execution_count": 38,
   "metadata": {},
   "outputs": [
    {
     "data": {
      "text/html": [
       "<div>\n",
       "<style scoped>\n",
       "    .dataframe tbody tr th:only-of-type {\n",
       "        vertical-align: middle;\n",
       "    }\n",
       "\n",
       "    .dataframe tbody tr th {\n",
       "        vertical-align: top;\n",
       "    }\n",
       "\n",
       "    .dataframe thead th {\n",
       "        text-align: right;\n",
       "    }\n",
       "</style>\n",
       "<table border=\"1\" class=\"dataframe\">\n",
       "  <thead>\n",
       "    <tr style=\"text-align: right;\">\n",
       "      <th></th>\n",
       "      <th>OLS Prediction</th>\n",
       "      <th>Historical Mean Return</th>\n",
       "      <th>LASSO (L=1)</th>\n",
       "      <th>LASSO (L=3)</th>\n",
       "      <th>Random Forest</th>\n",
       "      <th>True Return</th>\n",
       "    </tr>\n",
       "  </thead>\n",
       "  <tbody>\n",
       "    <tr>\n",
       "      <th>0</th>\n",
       "      <td>-0.000575</td>\n",
       "      <td>0.000471</td>\n",
       "      <td>0.000471</td>\n",
       "      <td>0.000471</td>\n",
       "      <td>-0.002925</td>\n",
       "      <td>-0.002933</td>\n",
       "    </tr>\n",
       "    <tr>\n",
       "      <th>1</th>\n",
       "      <td>0.002467</td>\n",
       "      <td>0.000920</td>\n",
       "      <td>0.000920</td>\n",
       "      <td>0.000920</td>\n",
       "      <td>-0.000835</td>\n",
       "      <td>-0.016168</td>\n",
       "    </tr>\n",
       "    <tr>\n",
       "      <th>2</th>\n",
       "      <td>0.003060</td>\n",
       "      <td>0.001324</td>\n",
       "      <td>0.001324</td>\n",
       "      <td>0.001324</td>\n",
       "      <td>-0.000080</td>\n",
       "      <td>-0.020639</td>\n",
       "    </tr>\n",
       "    <tr>\n",
       "      <th>3</th>\n",
       "      <td>0.003001</td>\n",
       "      <td>0.001595</td>\n",
       "      <td>0.001595</td>\n",
       "      <td>0.001595</td>\n",
       "      <td>0.001174</td>\n",
       "      <td>-0.019142</td>\n",
       "    </tr>\n",
       "    <tr>\n",
       "      <th>4</th>\n",
       "      <td>0.004363</td>\n",
       "      <td>0.001873</td>\n",
       "      <td>0.001873</td>\n",
       "      <td>0.001873</td>\n",
       "      <td>0.001991</td>\n",
       "      <td>-0.022132</td>\n",
       "    </tr>\n",
       "    <tr>\n",
       "      <th>...</th>\n",
       "      <td>...</td>\n",
       "      <td>...</td>\n",
       "      <td>...</td>\n",
       "      <td>...</td>\n",
       "      <td>...</td>\n",
       "      <td>...</td>\n",
       "    </tr>\n",
       "    <tr>\n",
       "      <th>381</th>\n",
       "      <td>-0.054530</td>\n",
       "      <td>-0.077955</td>\n",
       "      <td>-0.077955</td>\n",
       "      <td>-0.078724</td>\n",
       "      <td>-0.015889</td>\n",
       "      <td>0.043391</td>\n",
       "    </tr>\n",
       "    <tr>\n",
       "      <th>382</th>\n",
       "      <td>-0.051321</td>\n",
       "      <td>-0.076415</td>\n",
       "      <td>-0.076415</td>\n",
       "      <td>-0.077184</td>\n",
       "      <td>-0.013775</td>\n",
       "      <td>0.062903</td>\n",
       "    </tr>\n",
       "    <tr>\n",
       "      <th>383</th>\n",
       "      <td>-0.049926</td>\n",
       "      <td>-0.074867</td>\n",
       "      <td>-0.074867</td>\n",
       "      <td>-0.075635</td>\n",
       "      <td>-0.012229</td>\n",
       "      <td>0.056523</td>\n",
       "    </tr>\n",
       "    <tr>\n",
       "      <th>384</th>\n",
       "      <td>-0.046896</td>\n",
       "      <td>-0.073190</td>\n",
       "      <td>-0.073190</td>\n",
       "      <td>-0.073959</td>\n",
       "      <td>-0.011496</td>\n",
       "      <td>0.056523</td>\n",
       "    </tr>\n",
       "    <tr>\n",
       "      <th>385</th>\n",
       "      <td>-0.043227</td>\n",
       "      <td>-0.071454</td>\n",
       "      <td>-0.071454</td>\n",
       "      <td>-0.072222</td>\n",
       "      <td>-0.008727</td>\n",
       "      <td>0.056523</td>\n",
       "    </tr>\n",
       "  </tbody>\n",
       "</table>\n",
       "<p>386 rows × 6 columns</p>\n",
       "</div>"
      ],
      "text/plain": [
       "     OLS Prediction  Historical Mean Return  LASSO (L=1)  LASSO (L=3)  \\\n",
       "0         -0.000575                0.000471     0.000471     0.000471   \n",
       "1          0.002467                0.000920     0.000920     0.000920   \n",
       "2          0.003060                0.001324     0.001324     0.001324   \n",
       "3          0.003001                0.001595     0.001595     0.001595   \n",
       "4          0.004363                0.001873     0.001873     0.001873   \n",
       "..              ...                     ...          ...          ...   \n",
       "381       -0.054530               -0.077955    -0.077955    -0.078724   \n",
       "382       -0.051321               -0.076415    -0.076415    -0.077184   \n",
       "383       -0.049926               -0.074867    -0.074867    -0.075635   \n",
       "384       -0.046896               -0.073190    -0.073190    -0.073959   \n",
       "385       -0.043227               -0.071454    -0.071454    -0.072222   \n",
       "\n",
       "     Random Forest  True Return  \n",
       "0        -0.002925    -0.002933  \n",
       "1        -0.000835    -0.016168  \n",
       "2        -0.000080    -0.020639  \n",
       "3         0.001174    -0.019142  \n",
       "4         0.001991    -0.022132  \n",
       "..             ...          ...  \n",
       "381      -0.015889     0.043391  \n",
       "382      -0.013775     0.062903  \n",
       "383      -0.012229     0.056523  \n",
       "384      -0.011496     0.056523  \n",
       "385      -0.008727     0.056523  \n",
       "\n",
       "[386 rows x 6 columns]"
      ]
     },
     "execution_count": 38,
     "metadata": {},
     "output_type": "execute_result"
    }
   ],
   "source": [
    "predictions_df"
   ]
  },
  {
   "cell_type": "code",
   "execution_count": 39,
   "metadata": {},
   "outputs": [
    {
     "data": {
      "text/plain": [
       "<AxesSubplot:xlabel='Time Period', ylabel='Predicted Cumulative Returns'>"
      ]
     },
     "execution_count": 39,
     "metadata": {},
     "output_type": "execute_result"
    },
    {
     "data": {
      "image/png": "[encoded data removed]",
      "text/plain": [
       "<Figure size 1440x720 with 1 Axes>"
      ]
     },
     "metadata": {},
     "output_type": "display_data"
    }
   ],
   "source": [
    "predictions_df.plot(xlabel=\"Time Period\", ylabel=\"Predicted Cumulative Returns\")"
   ]
  }
 ],
 "metadata": {
  "kernelspec": {
   "display_name": "Python 3",
   "language": "python",
   "name": "python3"
  },
  "language_info": {
   "codemirror_mode": {
    "name": "ipython",
    "version": 3
   },
   "file_extension": ".py",
   "mimetype": "text/x-python",
   "name": "python",
   "nbconvert_exporter": "python",
   "pygments_lexer": "ipython3",
   "version": "3.8.5"
  }
 },
 "nbformat": 4,
 "nbformat_minor": 2
}
